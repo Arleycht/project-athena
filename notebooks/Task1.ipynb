{
 "cells": [
  {
   "cell_type": "markdown",
   "metadata": {},
   "source": [
    "# Task 1\n",
    "\"Generate adversarial examples in the context of the zero-knowledge threat model.\""
   ]
  },
  {
   "cell_type": "code",
   "execution_count": 1,
   "metadata": {},
   "outputs": [],
   "source": [
    "import os\n",
    "import sys\n",
    "from pathlib import Path"
   ]
  },
  {
   "cell_type": "code",
   "execution_count": 2,
   "metadata": {},
   "outputs": [],
   "source": [
    "# Set up proper directory paths\n",
    "\n",
    "project_path = Path().absolute().parent\n",
    "src_path = project_path.joinpath(\"src\")\n",
    "\n",
    "# Ensure the paths are properly assigned\n",
    "# If this assertion fails, change project_dir as needed to become the project directory\n",
    "# If project_dir is correct, change the name in the assertion check\n",
    "assert project_path.name == \"project-athena\", \"Parent directory name assertion failed (check the path)\""
   ]
  },
  {
   "cell_type": "code",
   "execution_count": 3,
   "metadata": {},
   "outputs": [],
   "source": [
    "# Add src_dir to module paths\n",
    "if str(src_path) not in sys.path:\n",
    "    sys.path.append(str(src_path))"
   ]
  },
  {
   "cell_type": "code",
   "execution_count": 4,
   "metadata": {},
   "outputs": [],
   "source": [
    "import time\n",
    "\n",
    "import numpy as np"
   ]
  },
  {
   "cell_type": "code",
   "execution_count": 5,
   "metadata": {},
   "outputs": [],
   "source": [
    "from matplotlib import pyplot as plt"
   ]
  },
  {
   "cell_type": "code",
   "execution_count": 6,
   "metadata": {},
   "outputs": [],
   "source": [
    "from attacks.attack import generate\n",
    "from models.athena import ENSEMBLE_STRATEGY, Ensemble\n",
    "from utils.data import subsampling\n",
    "from utils.file import load_from_json\n",
    "from utils.metrics import error_rate, get_corrections\n",
    "from utils.model import load_lenet, load_pool"
   ]
  },
  {
   "cell_type": "code",
   "execution_count": 7,
   "metadata": {},
   "outputs": [],
   "source": [
    "def generate_ae(model, data, labels, attack_configs, save=False, output_dir=None, device=None):\n",
    "    \"\"\"\n",
    "    Generate adversarial examples for a model\n",
    "    \"\"\"\n",
    "    \n",
    "    print(\"Generating adversarial examples\")\n",
    "    \n",
    "    num_attacks = attack_configs.get(\"num_attacks\")\n",
    "    data_loader = (data, labels)\n",
    "    \n",
    "    # For plotting\n",
    "    img_rows, img_cols = data.shape[1], data.shape[2]\n",
    "\n",
    "    if len(labels.shape) > 1:\n",
    "        labels = np.asarray([np.argmax(p) for p in labels])\n",
    "\n",
    "    # Generate attacks\n",
    "    for attack_id in range(num_attacks):\n",
    "        key = f\"configs{attack_id}\"\n",
    "        \n",
    "        data_adversarial = generate(model=model,\n",
    "                                    data_loader=data_loader,\n",
    "                                    attack_args=attack_configs[key],\n",
    "                                    device=device)\n",
    "        \n",
    "        # Evaluate adversarial examples\n",
    "        y_pred = model.predict(data_adversarial)\n",
    "        y_pred = np.asarray([np.argmax(p) for p in y_pred])\n",
    "\n",
    "        err = error_rate(y_pred=y_pred, y_true=labels)\n",
    "        \n",
    "        print(f\">>> error rate: {err}\")\n",
    "\n",
    "        # Save adversarial examples\n",
    "        if save:\n",
    "            if output_dir is None:\n",
    "                raise ValueError(\"Cannot save images to a none path.\")\n",
    "            \n",
    "            file_path = Path(output_dir).joinpath(f\"{attack_configs[key]['attack']}-{time.monotonic()}.npy\")\n",
    "            np.save(file_path, data_adversarial)\n",
    "            \n",
    "            print(f\"Saved adversarial example to file [{file_path}]\")\n",
    "        \n",
    "        print((attack_configs[key]['attack']))\n",
    "        \n",
    "        batch_size = min(data.shape[0], 2)\n",
    "        fig = plt.figure(figsize=(1, batch_size), dpi=300)\n",
    "        \n",
    "        for i in range(batch_size):\n",
    "            fig.add_subplot(1, batch_size, i + 1)\n",
    "            plt.axis(\"off\")\n",
    "            plt.imshow(data_adversarial[i].reshape((img_rows, img_cols)), cmap='gray')\n",
    "        \n",
    "        plt.show()\n",
    "        \n",
    "    np.save(Path(output_dir).joinpath(\"true_labels.npy\"), labels)\n",
    "    \n",
    "    print(\"Done generating adversarial examples\")"
   ]
  },
  {
   "cell_type": "code",
   "execution_count": 8,
   "metadata": {},
   "outputs": [],
   "source": [
    "def evaluate(trans_configs, model_configs, data_configs,\n",
    "             save=False, output_dir=None):\n",
    "    \"\"\"\n",
    "    Apply transformation(s) on images.\n",
    "    :param trans_configs: dictionary. The collection of the parameterized transformations to test.\n",
    "        in the form of\n",
    "        { configsx: {\n",
    "            param: value,\n",
    "            }\n",
    "        }\n",
    "        The key of a configuration is 'configs'x, where 'x' is the id of corresponding weak defense.\n",
    "    :param model_configs:  dictionary. Defines model related information.\n",
    "        Such as, location, the undefended model, the file format, etc.\n",
    "    :param data_configs: dictionary. Defines data related information.\n",
    "        Such as, location, the file for the true labels, the file for the benign samples,\n",
    "        the files for the adversarial examples, etc.\n",
    "    :param save: boolean. Save the transformed sample or not.\n",
    "    :param output_dir: path or str. The location to store the transformed samples.\n",
    "        It cannot be None when save is True.\n",
    "    :return:\n",
    "    \"\"\"\n",
    "    \n",
    "    # Load baseline defense (PGD-ADT model)\n",
    "    baseline = load_lenet(file=model_configs['pgd_trained'],\n",
    "                          trans_configs=None,\n",
    "                          use_logits=False,\n",
    "                          wrap=False)\n",
    "\n",
    "    # Load undefended model (UM)\n",
    "    file = project_path.joinpath(model_configs['dir'], model_configs['um_file'])\n",
    "    undefended = load_lenet(file=file,\n",
    "                            trans_configs=trans_configs.get('configs0'),\n",
    "                            wrap=True)\n",
    "    \n",
    "    print(f\">>> UM: {type(undefended)}\")\n",
    "\n",
    "    # Load weak defenses into a pool\n",
    "    pool, _ = load_pool(trans_configs=trans_configs,\n",
    "                        model_configs=model_configs,\n",
    "                        active_list=True,\n",
    "                        wrap=True)\n",
    "    \n",
    "    # Create an AVEP ensemble from the WD pool\n",
    "    wds = list(pool.values())\n",
    "    ensemble = Ensemble(classifiers=wds, strategy=ENSEMBLE_STRATEGY.AVEP.value)\n",
    "    \n",
    "    print(f\">>> wds: {type(wds)} {type(wds[0])}\")\n",
    "\n",
    "    # Load benign samples\n",
    "    bs_file = project_path.joinpath(data_configs['dir'], data_configs['bs_file'])\n",
    "    \n",
    "    # Hacky workaround for benign data being in different directory as adversarial data\n",
    "    if 'benign_dir' in data_configs:\n",
    "        bs_file = project_path.joinpath(data_configs['benign_dir'], data_configs['bs_file'])\n",
    "    \n",
    "    x_bs = np.load(bs_file)\n",
    "    img_rows, img_cols = x_bs.shape[1], x_bs.shape[2]\n",
    "\n",
    "    # Load true labels\n",
    "    label_file = project_path.joinpath(data_configs['dir'], data_configs['label_file'])\n",
    "    labels = np.load(label_file)\n",
    "\n",
    "    print(f\">>> Evaluating UM on [{bs_file}]\")\n",
    "    \n",
    "    # Get indices of benign samples that are correctly classified by the targeted model\n",
    "    pred_bs = undefended.predict(x_bs)\n",
    "    corrections = get_corrections(y_pred=pred_bs, y_true=labels)\n",
    "\n",
    "    # Evaluate adversarial examples\n",
    "    results = {}\n",
    "    \n",
    "    # Only run on one example\n",
    "    ae_files = data_configs.get('ae_files')\n",
    "    ae_file = project_path.joinpath(data_configs['dir'], ae_files[4])\n",
    "    x_adversarial = np.load(ae_file)\n",
    "    \n",
    "    print(f\">>> Evaluating UM on [{ae_file}]\")\n",
    "\n",
    "    # Evaluate undefended model on adversarial examples\n",
    "    pred = undefended.predict(x_adversarial)\n",
    "    err = error_rate(y_pred=pred, y_true=labels, correct_on_bs=corrections)\n",
    "    results['UM'] = err\n",
    "    \n",
    "    print(f\">>> Evaluating ensemble on [{ae_file}]\")\n",
    "\n",
    "    # Evaluate ensemble model on adversarial examples\n",
    "    pred = ensemble.predict(x_adversarial)\n",
    "    err = error_rate(y_pred=pred, y_true=labels, correct_on_bs=corrections)\n",
    "    results['Ensemble'] = err\n",
    "\n",
    "    # Evaluate baseline model on adversarial examples\n",
    "    print(f\">>> Evaluating baseline model on [{ae_file}], it may take a while...\")\n",
    "    pred = baseline.predict(x_adversarial)\n",
    "    err = error_rate(y_pred=pred, y_true=labels, correct_on_bs=corrections)\n",
    "    results['PGD-ADT'] = err\n",
    "\n",
    "    # TODO: collect and dump the evaluation results to file(s) such that you can analyze them later.\n",
    "    print(f\">>> Evaluations on [{ae_file}]:\\n{results}\")"
   ]
  },
  {
   "cell_type": "code",
   "execution_count": 9,
   "metadata": {},
   "outputs": [],
   "source": [
    "def run_task(trans_configs=None, model_configs=None, data_configs=None,\n",
    "            save=False, output_dir=None):\n",
    "    attack_configs = src_path.joinpath(\"configs/demo/attack-zk-mnist.json\")\n",
    "    \n",
    "    # Load benign samples\n",
    "    file = project_path.joinpath(data_configs['dir'], data_configs['bs_file'])\n",
    "    x_benign = np.load(file)\n",
    "    \n",
    "    # Load true labels\n",
    "    file = project_path.joinpath(data_configs['dir'], data_configs['label_file'])\n",
    "    y_true = np.load(file)\n",
    "    \n",
    "    # Load adversarial examples\n",
    "    ae_files = data_configs.get('ae_files')\n",
    "    ae_file = project_path.joinpath(data_configs['dir'], ae_files[1])\n",
    "    x_adversarial = np.load(ae_file)\n",
    "    \n",
    "    # Load undefended model (UM)\n",
    "    file = project_path.joinpath(model_configs['dir'], model_configs['um_file'])\n",
    "    undefended_model = load_lenet(file=file,\n",
    "                                  trans_configs=trans_configs.get('configs0'),\n",
    "                                  wrap=True)\n",
    "    \n",
    "    # Load baseline model\n",
    "    baseline_model = load_lenet(file=model_configs['pgd_trained'],\n",
    "                                trans_configs=None,\n",
    "                                use_logits=False,\n",
    "                                wrap=False)\n",
    "    \n",
    "    # Load weak defenses into a pool\n",
    "    pool, _ = load_pool(trans_configs=trans_configs,\n",
    "                        model_configs=model_configs,\n",
    "                        active_list=True,\n",
    "                        wrap=True)\n",
    "    \n",
    "    # Create an AVEP ensemble from the WD pool\n",
    "    wds = list(pool.values())\n",
    "    ensemble_model = Ensemble(classifiers=wds, strategy=ENSEMBLE_STRATEGY.AVEP.value)\n",
    "    \n",
    "    print(f\">>> wds: {type(wds)} {type(wds[0])}\")\n",
    "    \n",
    "    # Get indices of benign samples that are correctly classified by the targeted model\n",
    "    pred_bs = undefended.predict(x_bs)\n",
    "    corrections = get_corrections(y_pred=pred_bs, y_true=labels)\n",
    "    \n",
    "    "
   ]
  },
  {
   "cell_type": "code",
   "execution_count": 10,
   "metadata": {},
   "outputs": [],
   "source": [
    "# Load data configs\n",
    "file = src_path.joinpath(\"configs/demo/data-mnist.json\")\n",
    "data_configs = load_from_json(file)\n",
    "output_path = project_path.joinpath(\"results\")\n",
    "\n",
    "# Load model configs\n",
    "model_configs = load_from_json(src_path.joinpath(\"configs/demo/model-mnist.json\"))\n",
    "attack_configs = load_from_json(src_path.joinpath(\"configs/demo/attack-zk-mnist.json\"))\n",
    "\n",
    "# Fix configs\n",
    "# i.e. remove relative paths\n",
    "data_configs['dir'] = str(project_path.joinpath(\"data\"))\n",
    "data_configs['sub_dir'] = str(project_path.joinpath(\"results\"))\n",
    "\n",
    "model_configs['dir'] = str(project_path.joinpath(\"models/cnn\"))\n",
    "model_configs['pgd_trained'] = str(project_path.joinpath(\"models/baseline\", Path(model_configs['pgd_trained']).name))"
   ]
  },
  {
   "cell_type": "code",
   "execution_count": 11,
   "metadata": {},
   "outputs": [],
   "source": [
    "# Load benign samples\n",
    "file = project_path.joinpath(data_configs['dir'], data_configs['bs_file'])\n",
    "X_bs = np.load(file)"
   ]
  },
  {
   "cell_type": "code",
   "execution_count": 12,
   "metadata": {},
   "outputs": [],
   "source": [
    "# Load true labels\n",
    "file =  project_path.joinpath(data_configs['dir'], data_configs['label_file'])\n",
    "labels = np.load(file)"
   ]
  },
  {
   "cell_type": "code",
   "execution_count": 13,
   "metadata": {},
   "outputs": [
    {
     "name": "stdout",
     "output_type": "stream",
     "text": [
      ">>> Loading model [D:\\GitHub\\project-athena\\models\\cnn\\model-mnist-cnn-clean.h5]...\n"
     ]
    }
   ],
   "source": [
    "# Load model\n",
    "model_file = project_path.joinpath(model_configs['dir'], model_configs['um_file'])\n",
    "target = load_lenet(file=model_file, wrap=True)"
   ]
  },
  {
   "cell_type": "code",
   "execution_count": 14,
   "metadata": {},
   "outputs": [],
   "source": [
    "# Load the benign samples\n",
    "# TODO: Is this redundant duplicate code?\n",
    "data_file = project_path.joinpath(data_configs['dir'], data_configs['bs_file'])\n",
    "data_bs = np.load(data_file)"
   ]
  },
  {
   "cell_type": "code",
   "execution_count": 15,
   "metadata": {},
   "outputs": [],
   "source": [
    "# Load true labels\n",
    "label_file = project_path.joinpath(data_configs['dir'], data_configs['label_file'])\n",
    "labels = np.load(label_file)"
   ]
  },
  {
   "cell_type": "code",
   "execution_count": 16,
   "metadata": {},
   "outputs": [
    {
     "name": "stdout",
     "output_type": "stream",
     "text": [
      "Cleared results folder\n"
     ]
    }
   ],
   "source": [
    "# Clear results folder\n",
    "result_files = os.listdir(project_path.joinpath(\"results\"))\n",
    "\n",
    "for f in result_files:\n",
    "    os.remove(project_path.joinpath(\"results\", f))\n",
    "\n",
    "print(\"Cleared results folder\")"
   ]
  },
  {
   "cell_type": "code",
   "execution_count": 17,
   "metadata": {},
   "outputs": [
    {
     "name": "stdout",
     "output_type": "stream",
     "text": [
      "Generating adversarial examples\n",
      ">>> Generating FGSM examples.\n",
      "WARNING:tensorflow:From C:\\Users\\alext\\anaconda3\\envs\\athena_env\\lib\\site-packages\\tensorflow\\python\\keras\\engine\\training_v1.py:2070: Model.state_updates (from tensorflow.python.keras.engine.training) is deprecated and will be removed in a future version.\n",
      "Instructions for updating:\n",
      "This property should not be used in TensorFlow 2.0, as updates are applied automatically.\n",
      ">>> error rate: 0.018\n",
      "Saved adversarial example to file [D:\\GitHub\\project-athena\\results\\fgsm-187886.64.npy]\n",
      "fgsm\n"
     ]
    },
    {
     "data": {
      "image/png": "[encoded data removed]",
      "text/plain": [
       "<Figure size 300x600 with 2 Axes>"
      ]
     },
     "metadata": {
      "needs_background": "light"
     },
     "output_type": "display_data"
    },
    {
     "name": "stdout",
     "output_type": "stream",
     "text": [
      ">>> Generating FGSM examples.\n",
      ">>> error rate: 0.082\n",
      "Saved adversarial example to file [D:\\GitHub\\project-athena\\results\\fgsm-187889.875.npy]\n",
      "fgsm\n"
     ]
    },
    {
     "data": {
      "image/png": "[encoded data removed]",
      "text/plain": [
       "<Figure size 300x600 with 2 Axes>"
      ]
     },
     "metadata": {
      "needs_background": "light"
     },
     "output_type": "display_data"
    },
    {
     "name": "stdout",
     "output_type": "stream",
     "text": [
      ">>> Generating FGSM examples.\n",
      ">>> error rate: 0.242\n",
      "Saved adversarial example to file [D:\\GitHub\\project-athena\\results\\fgsm-187892.859.npy]\n",
      "fgsm\n"
     ]
    },
    {
     "data": {
      "image/png": "[encoded data removed]",
      "text/plain": [
       "<Figure size 300x600 with 2 Axes>"
      ]
     },
     "metadata": {
      "needs_background": "light"
     },
     "output_type": "display_data"
    },
    {
     "name": "stdout",
     "output_type": "stream",
     "text": [
      ">>> Generating FGSM examples.\n",
      ">>> error rate: 0.742\n",
      "Saved adversarial example to file [D:\\GitHub\\project-athena\\results\\fgsm-187896.031.npy]\n",
      "fgsm\n"
     ]
    },
    {
     "data": {
      "image/png": "[encoded data removed]",
      "text/plain": [
       "<Figure size 300x600 with 2 Axes>"
      ]
     },
     "metadata": {
      "needs_background": "light"
     },
     "output_type": "display_data"
    },
    {
     "name": "stdout",
     "output_type": "stream",
     "text": [
      ">>> error rate: 0.124\n",
      "Saved adversarial example to file [D:\\GitHub\\project-athena\\results\\pgd-187909.625.npy]\n",
      "pgd\n"
     ]
    },
    {
     "data": {
      "image/png": "[encoded data removed]",
      "text/plain": [
       "<Figure size 300x600 with 2 Axes>"
      ]
     },
     "metadata": {
      "needs_background": "light"
     },
     "output_type": "display_data"
    },
    {
     "name": "stdout",
     "output_type": "stream",
     "text": [
      ">>> error rate: 0.996\n",
      "Saved adversarial example to file [D:\\GitHub\\project-athena\\results\\pgd-187923.437.npy]\n",
      "pgd\n"
     ]
    },
    {
     "data": {
      "image/png": "[encoded data removed]",
      "text/plain": [
       "<Figure size 300x600 with 2 Axes>"
      ]
     },
     "metadata": {
      "needs_background": "light"
     },
     "output_type": "display_data"
    },
    {
     "name": "stdout",
     "output_type": "stream",
     "text": [
      ">>> error rate: 1.0\n",
      "Saved adversarial example to file [D:\\GitHub\\project-athena\\results\\pgd-187937.515.npy]\n",
      "pgd\n"
     ]
    },
    {
     "data": {
      "image/png": "[encoded data removed]",
      "text/plain": [
       "<Figure size 300x600 with 2 Axes>"
      ]
     },
     "metadata": {
      "needs_background": "light"
     },
     "output_type": "display_data"
    },
    {
     "name": "stdout",
     "output_type": "stream",
     "text": [
      ">>> error rate: 1.0\n",
      "Saved adversarial example to file [D:\\GitHub\\project-athena\\results\\pgd-187951.687.npy]\n",
      "pgd\n"
     ]
    },
    {
     "data": {
      "image/png": "[encoded data removed]",
      "text/plain": [
       "<Figure size 300x600 with 2 Axes>"
      ]
     },
     "metadata": {
      "needs_background": "light"
     },
     "output_type": "display_data"
    },
    {
     "name": "stdout",
     "output_type": "stream",
     "text": [
      ">>> error rate: 0.86\n",
      "Saved adversarial example to file [D:\\GitHub\\project-athena\\results\\bim-187978.156.npy]\n",
      "bim\n"
     ]
    },
    {
     "data": {
      "image/png": "[encoded data removed]",
      "text/plain": [
       "<Figure size 300x600 with 2 Axes>"
      ]
     },
     "metadata": {
      "needs_background": "light"
     },
     "output_type": "display_data"
    },
    {
     "name": "stdout",
     "output_type": "stream",
     "text": [
      ">>> error rate: 0.86\n",
      "Saved adversarial example to file [D:\\GitHub\\project-athena\\results\\bim-188003.937.npy]\n",
      "bim\n"
     ]
    },
    {
     "data": {
      "image/png": "[encoded data removed]",
      "text/plain": [
       "<Figure size 300x600 with 2 Axes>"
      ]
     },
     "metadata": {
      "needs_background": "light"
     },
     "output_type": "display_data"
    },
    {
     "name": "stdout",
     "output_type": "stream",
     "text": [
      ">>> error rate: 0.904\n",
      "Saved adversarial example to file [D:\\GitHub\\project-athena\\results\\bim-188042.406.npy]\n",
      "bim\n"
     ]
    },
    {
     "data": {
      "image/png": "[encoded data removed]",
      "text/plain": [
       "<Figure size 300x600 with 2 Axes>"
      ]
     },
     "metadata": {
      "needs_background": "light"
     },
     "output_type": "display_data"
    },
    {
     "name": "stdout",
     "output_type": "stream",
     "text": [
      ">>> error rate: 0.908\n",
      "Saved adversarial example to file [D:\\GitHub\\project-athena\\results\\bim-188092.234.npy]\n",
      "bim\n"
     ]
    },
    {
     "data": {
      "image/png": "[encoded data removed]",
      "text/plain": [
       "<Figure size 300x600 with 2 Axes>"
      ]
     },
     "metadata": {
      "needs_background": "light"
     },
     "output_type": "display_data"
    },
    {
     "name": "stdout",
     "output_type": "stream",
     "text": [
      ">>> error rate: 1.0\n",
      "Saved adversarial example to file [D:\\GitHub\\project-athena\\results\\bim-188142.046.npy]\n",
      "bim\n"
     ]
    },
    {
     "data": {
      "image/png": "[encoded data removed]",
      "text/plain": [
       "<Figure size 300x600 with 2 Axes>"
      ]
     },
     "metadata": {
      "needs_background": "light"
     },
     "output_type": "display_data"
    },
    {
     "name": "stdout",
     "output_type": "stream",
     "text": [
      "Done generating adversarial examples\n"
     ]
    }
   ],
   "source": [
    "# Generate adversarial examples\n",
    "#data_bs = data_bs[:5]\n",
    "#labels = labels[:5]\n",
    "\n",
    "generate_ae(model=target, data=data_bs,labels=labels, attack_configs=attack_configs,\n",
    "            save=True, output_dir=output_path)"
   ]
  },
  {
   "cell_type": "code",
   "execution_count": 18,
   "metadata": {},
   "outputs": [],
   "source": [
    "# Replace adversarial examples with results files\n",
    "data_configs['dir'] = str(project_path.joinpath(\"results\"))\n",
    "data_configs['benign_dir'] = str(project_path.joinpath(\"data\"))\n",
    "data_configs['ae_files'] = os.listdir(project_path.joinpath(\"results\"))\n",
    "data_configs['label_file'] = str(project_path.joinpath(\"results\", \"true_labels.npy\"))"
   ]
  },
  {
   "cell_type": "code",
   "execution_count": 19,
   "metadata": {},
   "outputs": [
    {
     "name": "stdout",
     "output_type": "stream",
     "text": [
      ">>> Loading model [D:\\GitHub\\project-athena\\models\\baseline\\advTrained-mnist-adtC.h5]...\n",
      ">>> Loading model [D:\\GitHub\\project-athena\\models\\cnn\\model-mnist-cnn-clean.h5]...\n",
      ">>> UM: <class 'models.keras.WeakDefense'>\n",
      ">>> Loading model [D:\\GitHub\\project-athena\\models\\cnn\\model-mnist-cnn-flip_horizontal.h5]...\n",
      ">>> Loading model [D:\\GitHub\\project-athena\\models\\cnn\\model-mnist-cnn-affine_both_stretch.h5]...\n",
      ">>> Loading model [D:\\GitHub\\project-athena\\models\\cnn\\model-mnist-cnn-morph_gradient.h5]...\n",
      ">>> Loaded 3 models.\n",
      ">>> wds: <class 'list'> <class 'models.keras.WeakDefense'>\n",
      ">>> Evaluating UM on [D:\\GitHub\\project-athena\\data\\subsamples-mnist-ratio_0.05-285857.296.npy]\n",
      ">>> Evaluating UM on [D:\\GitHub\\project-athena\\results\\bim-188142.046.npy]\n",
      ">>> Evaluating ensemble on [D:\\GitHub\\project-athena\\results\\bim-188142.046.npy]\n",
      ">>> Evaluating baseline model on [D:\\GitHub\\project-athena\\results\\bim-188142.046.npy], it may take a while...\n",
      ">>> Evaluations on [D:\\GitHub\\project-athena\\results\\bim-188142.046.npy]:\n",
      "{'UM': 0.9878542510121457, 'Ensemble': 0.902834008097166, 'PGD-ADT': 0.9757085020242915}\n"
     ]
    }
   ],
   "source": [
    "# Load configs\n",
    "file = src_path.joinpath(\"configs/demo/athena-mnist.json\")\n",
    "trans_configs = load_from_json(file)\n",
    "\n",
    "output_dir = project_path.joinpath(\"results\")\n",
    "output_dir.mkdir(exist_ok=True)\n",
    "\n",
    "# Evaluate model\n",
    "evaluate(trans_configs=trans_configs,\n",
    "         model_configs=model_configs,\n",
    "         data_configs=data_configs,\n",
    "         save=False,\n",
    "         output_dir=output_dir)"
   ]
  },
  {
   "cell_type": "code",
   "execution_count": null,
   "metadata": {},
   "outputs": [],
   "source": []
  }
 ],
 "metadata": {
  "kernelspec": {
   "display_name": "Python 3",
   "language": "python",
   "name": "python3"
  },
  "language_info": {
   "codemirror_mode": {
    "name": "ipython",
    "version": 3
   },
   "file_extension": ".py",
   "mimetype": "text/x-python",
   "name": "python",
   "nbconvert_exporter": "python",
   "pygments_lexer": "ipython3",
   "version": "3.7.9"
  }
 },
 "nbformat": 4,
 "nbformat_minor": 4
}
