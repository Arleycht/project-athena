{
 "cells": [
  {
   "cell_type": "code",
   "execution_count": 1,
   "metadata": {},
   "outputs": [],
   "source": [
    "import os\n",
    "import sys\n",
    "from pathlib import Path"
   ]
  },
  {
   "cell_type": "code",
   "execution_count": 2,
   "metadata": {},
   "outputs": [],
   "source": [
    "# Set up proper directory paths\n",
    "\n",
    "project_path = Path().absolute().parent\n",
    "src_path = project_path.joinpath(\"src\")\n",
    "\n",
    "# Ensure the paths are properly assigned\n",
    "# If this assertion fails, change project_dir as needed to become the project directory\n",
    "# If project_dir is correct, change the name in the assertion check\n",
    "assert project_path.name == \"project-athena\", \"Parent directory name assertion failed (check the path)\""
   ]
  },
  {
   "cell_type": "code",
   "execution_count": 3,
   "metadata": {},
   "outputs": [],
   "source": [
    "# Add src_dir to module paths\n",
    "if str(src_path) not in sys.path:\n",
    "    sys.path.append(str(src_path))"
   ]
  },
  {
   "cell_type": "code",
   "execution_count": 4,
   "metadata": {},
   "outputs": [],
   "source": [
    "import time\n",
    "\n",
    "import numpy as np"
   ]
  },
  {
   "cell_type": "code",
   "execution_count": 5,
   "metadata": {},
   "outputs": [],
   "source": [
    "from matplotlib import pyplot as plt"
   ]
  },
  {
   "cell_type": "code",
   "execution_count": 6,
   "metadata": {},
   "outputs": [
    {
     "name": "stderr",
     "output_type": "stream",
     "text": [
      "Using TensorFlow backend.\n",
      "C:\\Users\\covin\\anaconda3\\envs\\athena_proj2\\lib\\site-packages\\tensorflow\\python\\framework\\dtypes.py:526: FutureWarning: Passing (type, 1) or '1type' as a synonym of type is deprecated; in a future version of numpy, it will be understood as (type, (1,)) / '(1,)type'.\n",
      "  _np_qint8 = np.dtype([(\"qint8\", np.int8, 1)])\n",
      "C:\\Users\\covin\\anaconda3\\envs\\athena_proj2\\lib\\site-packages\\tensorflow\\python\\framework\\dtypes.py:527: FutureWarning: Passing (type, 1) or '1type' as a synonym of type is deprecated; in a future version of numpy, it will be understood as (type, (1,)) / '(1,)type'.\n",
      "  _np_quint8 = np.dtype([(\"quint8\", np.uint8, 1)])\n",
      "C:\\Users\\covin\\anaconda3\\envs\\athena_proj2\\lib\\site-packages\\tensorflow\\python\\framework\\dtypes.py:528: FutureWarning: Passing (type, 1) or '1type' as a synonym of type is deprecated; in a future version of numpy, it will be understood as (type, (1,)) / '(1,)type'.\n",
      "  _np_qint16 = np.dtype([(\"qint16\", np.int16, 1)])\n",
      "C:\\Users\\covin\\anaconda3\\envs\\athena_proj2\\lib\\site-packages\\tensorflow\\python\\framework\\dtypes.py:529: FutureWarning: Passing (type, 1) or '1type' as a synonym of type is deprecated; in a future version of numpy, it will be understood as (type, (1,)) / '(1,)type'.\n",
      "  _np_quint16 = np.dtype([(\"quint16\", np.uint16, 1)])\n",
      "C:\\Users\\covin\\anaconda3\\envs\\athena_proj2\\lib\\site-packages\\tensorflow\\python\\framework\\dtypes.py:530: FutureWarning: Passing (type, 1) or '1type' as a synonym of type is deprecated; in a future version of numpy, it will be understood as (type, (1,)) / '(1,)type'.\n",
      "  _np_qint32 = np.dtype([(\"qint32\", np.int32, 1)])\n",
      "C:\\Users\\covin\\anaconda3\\envs\\athena_proj2\\lib\\site-packages\\tensorflow\\python\\framework\\dtypes.py:535: FutureWarning: Passing (type, 1) or '1type' as a synonym of type is deprecated; in a future version of numpy, it will be understood as (type, (1,)) / '(1,)type'.\n",
      "  np_resource = np.dtype([(\"resource\", np.ubyte, 1)])\n"
     ]
    }
   ],
   "source": [
    "from attacks.attack import generate\n",
    "from models.athena import ENSEMBLE_STRATEGY, Ensemble\n",
    "from utils.data import subsampling\n",
    "from utils.file import load_from_json, dump_to_json\n",
    "from utils.metrics import error_rate, get_corrections\n",
    "from utils.model import load_lenet, load_pool"
   ]
  },
  {
   "cell_type": "code",
   "execution_count": 7,
   "metadata": {},
   "outputs": [],
   "source": [
    "def generate_ae(model, data, labels, attack_configs, save=False, output_dir=None, device=None):\n",
    "    \"\"\"\n",
    "    Generate adversarial examples for a model\n",
    "    \"\"\"\n",
    "    \n",
    "    print(\"Generating adversarial examples\")\n",
    "    \n",
    "    ae_files = []\n",
    "    \n",
    "    num_attacks = attack_configs.get(\"num_attacks\")\n",
    "    data_loader = (data, labels)\n",
    "    \n",
    "    # For plotting\n",
    "    img_rows, img_cols = data.shape[1], data.shape[2]\n",
    "\n",
    "    if len(labels.shape) > 1:\n",
    "        labels = np.asarray([np.argmax(p) for p in labels])\n",
    "\n",
    "    # Generate attacks\n",
    "    for attack_id in range(num_attacks):\n",
    "        key = f\"configs{attack_id}\"\n",
    "        \n",
    "        data_adversarial = generate(model=model,\n",
    "                                    data_loader=data_loader,\n",
    "                                    attack_args=attack_configs[key],\n",
    "                                    device=device)\n",
    "        \n",
    "        # Evaluate adversarial examples\n",
    "        y_pred = model.predict(data_adversarial)\n",
    "        y_pred = np.asarray([np.argmax(p) for p in y_pred])\n",
    "\n",
    "        err = error_rate(y_pred=y_pred, y_true=labels)\n",
    "        \n",
    "        print(f\">>> error rate: {err}\")\n",
    "\n",
    "        # Save adversarial examples\n",
    "        if save:\n",
    "            if output_dir is None:\n",
    "                raise ValueError(\"Cannot save images to a none path.\")\n",
    "            \n",
    "            file_name = f\"task1-{attack_configs[key]['description']}-{time.monotonic()}.npy\"\n",
    "            file_path = Path(output_dir).joinpath(file_name)\n",
    "            np.save(file_path, data_adversarial)\n",
    "            \n",
    "            ae_files.append(file_name)\n",
    "            \n",
    "            print(f\"Saved adversarial example to file [{file_path}]\")\n",
    "        \n",
    "        print((attack_configs[key]['attack']))\n",
    "        \n",
    "        batch_size = min(data.shape[0], 2)\n",
    "        fig = plt.figure(figsize=(1, batch_size), dpi=300)\n",
    "        \n",
    "        for i in range(batch_size):\n",
    "            fig.add_subplot(1, batch_size, i + 1)\n",
    "            plt.axis(\"off\")\n",
    "            plt.imshow(data_adversarial[i].reshape((img_rows, img_cols)), cmap='gray')\n",
    "        \n",
    "        \n",
    "        plt.show()\n",
    "        plt.savefig('results.pdf')\n",
    "    \n",
    "    print(\"Done generating adversarial examples\")\n",
    "    \n",
    "    return ae_files"
   ]
  },
  {
   "cell_type": "code",
   "execution_count": 8,
   "metadata": {
    "scrolled": false
   },
   "outputs": [
    {
     "name": "stdout",
     "output_type": "stream",
     "text": [
      ">>> Loading model [../models/cnn/model-mnist-cnn-morph_gradient.h5]...\n",
      "WARNING:tensorflow:From C:\\Users\\covin\\anaconda3\\envs\\athena_proj2\\lib\\site-packages\\tensorflow\\python\\ops\\resource_variable_ops.py:435: colocate_with (from tensorflow.python.framework.ops) is deprecated and will be removed in a future version.\n",
      "Instructions for updating:\n",
      "Colocations handled automatically by placer.\n",
      "WARNING:tensorflow:From C:\\Users\\covin\\anaconda3\\envs\\athena_proj2\\lib\\site-packages\\tensorflow\\python\\ops\\math_ops.py:3066: to_int32 (from tensorflow.python.ops.math_ops) is deprecated and will be removed in a future version.\n",
      "Instructions for updating:\n",
      "Use tf.cast instead.\n",
      ">>> Loading model [../models/cnn/model-mnist-cnn-distort_x.h5]...\n",
      ">>> Loading model [../models/cnn/model-mnist-cnn-noise_gaussian.h5]...\n",
      ">>> Loading model [../models/cnn/model-mnist-cnn-noise_sNp.h5]...\n",
      ">>> Loading model [../models/cnn/model-mnist-cnn-filter_gaussian.h5]...\n",
      ">>> Loading model [../models/cnn/model-mnist-cnn-geo_iradon.h5]...\n",
      ">>> Loading model [../models/cnn/model-mnist-cnn-seg_gradient.h5]...\n",
      ">>> Loaded 7 models.\n",
      "Generating adversarial examples\n",
      ">>> Generating PGD examples.\n"
     ]
    },
    {
     "name": "stderr",
     "output_type": "stream",
     "text": [
      "C:\\Users\\covin\\anaconda3\\envs\\athena_proj2\\lib\\site-packages\\skimage\\transform\\radon_transform.py:87: VisibleDeprecationWarning: Creating an ndarray from ragged nested sequences (which is a list-or-tuple of lists-or-tuples-or ndarrays with different lengths or shapes) is deprecated. If you meant to do this, you must specify 'dtype=object' when creating the ndarray\n",
      "  coords = np.array(np.ogrid[:image.shape[0], :image.shape[1]])\n",
      "C:\\Users\\covin\\anaconda3\\envs\\athena_proj2\\lib\\site-packages\\skimage\\transform\\radon_transform.py:91: UserWarning: Radon transform: image must be zero outside the reconstruction circle\n",
      "  warn('Radon transform: image must be zero outside the '\n",
      "C:\\Users\\covin\\PycharmProjects\\585 Project\\project-athena\\src\\models\\image_processor.py:856: FutureWarning: 'filter' is a deprecated argument name for `iradon`. It will be removed in version 0.19. Please use 'filter_name' instead.\n",
      "  interpolation=interpolation, circle=circle))\n",
      "C:\\Users\\covin\\PycharmProjects\\585 Project\\project-athena\\src\\models\\image_processor.py:68: UserWarning: Possible precision loss converting image of type float32 to uint8 as required by rank filters. Convert manually using skimage.util.img_as_ubyte to silence this warning.\n",
      "  return _segment_trans(X, trans_args)\n"
     ]
    },
    {
     "name": "stdout",
     "output_type": "stream",
     "text": [
      ">>> error rate: 0.018\n",
      "Saved adversarial example to file [C:\\Users\\covin\\PycharmProjects\\585 Project\\project-athena\\Task2\\data\\task1-PGD_eps0.05-106194.234.npy]\n",
      "pgd\n"
     ]
    },
    {
     "data": {
      "image/png": "[encoded data removed]",
      "text/plain": [
       "<Figure size 300x600 with 2 Axes>"
      ]
     },
     "metadata": {
      "needs_background": "light"
     },
     "output_type": "display_data"
    },
    {
     "name": "stdout",
     "output_type": "stream",
     "text": [
      ">>> Generating PGD examples.\n",
      ">>> error rate: 0.132\n",
      "Saved adversarial example to file [C:\\Users\\covin\\PycharmProjects\\585 Project\\project-athena\\Task2\\data\\task1-PGD_eps0.2-106543.859.npy]\n",
      "pgd\n"
     ]
    },
    {
     "data": {
      "text/plain": [
       "<Figure size 432x288 with 0 Axes>"
      ]
     },
     "metadata": {},
     "output_type": "display_data"
    },
    {
     "data": {
      "image/png": "[encoded data removed]",
      "text/plain": [
       "<Figure size 300x600 with 2 Axes>"
      ]
     },
     "metadata": {
      "needs_background": "light"
     },
     "output_type": "display_data"
    },
    {
     "name": "stdout",
     "output_type": "stream",
     "text": [
      ">>> Generating PGD examples.\n",
      ">>> error rate: 0.91\n",
      "Saved adversarial example to file [C:\\Users\\covin\\PycharmProjects\\585 Project\\project-athena\\Task2\\data\\task1-PGD_eps0.5-106893.75.npy]\n",
      "pgd\n"
     ]
    },
    {
     "data": {
      "text/plain": [
       "<Figure size 432x288 with 0 Axes>"
      ]
     },
     "metadata": {},
     "output_type": "display_data"
    },
    {
     "data": {
      "image/png": "[encoded data removed]",
      "text/plain": [
       "<Figure size 300x600 with 2 Axes>"
      ]
     },
     "metadata": {
      "needs_background": "light"
     },
     "output_type": "display_data"
    },
    {
     "name": "stdout",
     "output_type": "stream",
     "text": [
      ">>> Generating PGD examples.\n",
      ">>> error rate: 0.974\n",
      "Saved adversarial example to file [C:\\Users\\covin\\PycharmProjects\\585 Project\\project-athena\\Task2\\data\\task1-PGD_eps0.7-107236.796.npy]\n",
      "pgd\n"
     ]
    },
    {
     "data": {
      "text/plain": [
       "<Figure size 432x288 with 0 Axes>"
      ]
     },
     "metadata": {},
     "output_type": "display_data"
    },
    {
     "data": {
      "image/png": "[encoded data removed]",
      "text/plain": [
       "<Figure size 300x600 with 2 Axes>"
      ]
     },
     "metadata": {
      "needs_background": "light"
     },
     "output_type": "display_data"
    },
    {
     "name": "stdout",
     "output_type": "stream",
     "text": [
      ">>> Generating PGD examples.\n",
      ">>> error rate: 0.978\n",
      "Saved adversarial example to file [C:\\Users\\covin\\PycharmProjects\\585 Project\\project-athena\\Task2\\data\\task1-PGD_eps-107612.703.npy]\n",
      "pgd\n"
     ]
    },
    {
     "data": {
      "text/plain": [
       "<Figure size 432x288 with 0 Axes>"
      ]
     },
     "metadata": {},
     "output_type": "display_data"
    },
    {
     "data": {
      "image/png": "[encoded data removed]",
      "text/plain": [
       "<Figure size 300x600 with 2 Axes>"
      ]
     },
     "metadata": {
      "needs_background": "light"
     },
     "output_type": "display_data"
    },
    {
     "name": "stdout",
     "output_type": "stream",
     "text": [
      ">>> Generating FGSM examples.\n",
      ">>> error rate: 0.01\n",
      "Saved adversarial example to file [C:\\Users\\covin\\PycharmProjects\\585 Project\\project-athena\\Task2\\data\\task1-FGSM_eps0.01-107671.046.npy]\n",
      "fgsm\n"
     ]
    },
    {
     "data": {
      "text/plain": [
       "<Figure size 432x288 with 0 Axes>"
      ]
     },
     "metadata": {},
     "output_type": "display_data"
    },
    {
     "data": {
      "image/png": "[encoded data removed]",
      "text/plain": [
       "<Figure size 300x600 with 2 Axes>"
      ]
     },
     "metadata": {
      "needs_background": "light"
     },
     "output_type": "display_data"
    },
    {
     "name": "stdout",
     "output_type": "stream",
     "text": [
      ">>> Generating FGSM examples.\n",
      ">>> error rate: 0.016\n",
      "Saved adversarial example to file [C:\\Users\\covin\\PycharmProjects\\585 Project\\project-athena\\Task2\\data\\task1-FGSM_eps0.05-107729.968.npy]\n",
      "fgsm\n"
     ]
    },
    {
     "data": {
      "text/plain": [
       "<Figure size 432x288 with 0 Axes>"
      ]
     },
     "metadata": {},
     "output_type": "display_data"
    },
    {
     "data": {
      "image/png": "[encoded data removed]",
      "text/plain": [
       "<Figure size 300x600 with 2 Axes>"
      ]
     },
     "metadata": {
      "needs_background": "light"
     },
     "output_type": "display_data"
    },
    {
     "name": "stdout",
     "output_type": "stream",
     "text": [
      ">>> Generating FGSM examples.\n",
      ">>> error rate: 0.022\n",
      "Saved adversarial example to file [C:\\Users\\covin\\PycharmProjects\\585 Project\\project-athena\\Task2\\data\\task1-FGSM_eps0.1-107788.109.npy]\n",
      "fgsm\n"
     ]
    },
    {
     "data": {
      "text/plain": [
       "<Figure size 432x288 with 0 Axes>"
      ]
     },
     "metadata": {},
     "output_type": "display_data"
    },
    {
     "data": {
      "image/png": "[encoded data removed]",
      "text/plain": [
       "<Figure size 300x600 with 2 Axes>"
      ]
     },
     "metadata": {
      "needs_background": "light"
     },
     "output_type": "display_data"
    },
    {
     "name": "stdout",
     "output_type": "stream",
     "text": [
      ">>> Generating FGSM examples.\n",
      ">>> error rate: 0.07\n",
      "Saved adversarial example to file [C:\\Users\\covin\\PycharmProjects\\585 Project\\project-athena\\Task2\\data\\task1-FGSM_eps0.2-107848.265.npy]\n",
      "fgsm\n"
     ]
    },
    {
     "data": {
      "text/plain": [
       "<Figure size 432x288 with 0 Axes>"
      ]
     },
     "metadata": {},
     "output_type": "display_data"
    },
    {
     "data": {
      "image/png": "[encoded data removed]",
      "text/plain": [
       "<Figure size 300x600 with 2 Axes>"
      ]
     },
     "metadata": {
      "needs_background": "light"
     },
     "output_type": "display_data"
    },
    {
     "name": "stdout",
     "output_type": "stream",
     "text": [
      ">>> Generating FGSM examples.\n",
      ">>> error rate: 0.078\n",
      "Saved adversarial example to file [C:\\Users\\covin\\PycharmProjects\\585 Project\\project-athena\\Task2\\data\\task1-FGSM_eps-107908.421.npy]\n",
      "fgsm\n"
     ]
    },
    {
     "data": {
      "text/plain": [
       "<Figure size 432x288 with 0 Axes>"
      ]
     },
     "metadata": {},
     "output_type": "display_data"
    },
    {
     "data": {
      "image/png": "[encoded data removed]",
      "text/plain": [
       "<Figure size 300x600 with 2 Axes>"
      ]
     },
     "metadata": {
      "needs_background": "light"
     },
     "output_type": "display_data"
    },
    {
     "name": "stdout",
     "output_type": "stream",
     "text": [
      "Done generating adversarial examples\n"
     ]
    },
    {
     "data": {
      "text/plain": [
       "['task1-PGD_eps0.05-106194.234.npy',\n",
       " 'task1-PGD_eps0.2-106543.859.npy',\n",
       " 'task1-PGD_eps0.5-106893.75.npy',\n",
       " 'task1-PGD_eps0.7-107236.796.npy',\n",
       " 'task1-PGD_eps-107612.703.npy',\n",
       " 'task1-FGSM_eps0.01-107671.046.npy',\n",
       " 'task1-FGSM_eps0.05-107729.968.npy',\n",
       " 'task1-FGSM_eps0.1-107788.109.npy',\n",
       " 'task1-FGSM_eps0.2-107848.265.npy',\n",
       " 'task1-FGSM_eps-107908.421.npy']"
      ]
     },
     "execution_count": 8,
     "metadata": {},
     "output_type": "execute_result"
    },
    {
     "data": {
      "text/plain": [
       "<Figure size 432x288 with 0 Axes>"
      ]
     },
     "metadata": {},
     "output_type": "display_data"
    }
   ],
   "source": [
    "# Load data configs\n",
    "file = project_path.joinpath(\"Task2/configs/data-mnist.json\")\n",
    "data_configs = load_from_json(file)\n",
    "\n",
    "trans_configs = load_from_json(project_path.joinpath(\"Task2/configs/athena-mnist.json\"))\n",
    "model_configs = load_from_json(project_path.joinpath(\"Task2/configs/model-mnist.json\"))\n",
    "\n",
    "# In the context of the white-box threat model,\n",
    "# we use the ensemble as adversary's target model.\n",
    "pool, _ = load_pool(trans_configs=trans_configs,\n",
    "                    model_configs=model_configs,\n",
    "                    active_list=True,\n",
    "                    wrap=True)\n",
    "\n",
    "# create an AVEP ensemble from the WD pool\n",
    "wds = list(pool.values())\n",
    "target = Ensemble(classifiers=wds, strategy=ENSEMBLE_STRATEGY.AVEP.value)\n",
    "\n",
    "# load the benign samples\n",
    "data_file = os.path.join(data_configs.get('dir'), data_configs.get('bs_file'))\n",
    "data_bs = np.load(data_file)\n",
    "# load the corresponding true labels\n",
    "label_file = os.path.join(data_configs.get('dir'), data_configs.get('label_file'))\n",
    "labels = np.load(label_file)\n",
    "\n",
    "attack_configs = load_from_json(project_path.joinpath(\"Task2/configs/attack-zk-mnist.json\"))\n",
    "output_path = project_path.joinpath(\"Task2/data\")\n",
    "\n",
    "generate_ae(model=target, data=data_bs,labels=labels, attack_configs=attack_configs,\n",
    "            save=True, output_dir=output_path)"
   ]
  },
  {
   "cell_type": "markdown",
   "metadata": {},
   "source": [
    "# Evaluating the generated adverserial example on the vanilla Athena."
   ]
  },
  {
   "cell_type": "code",
   "execution_count": null,
   "metadata": {},
   "outputs": [],
   "source": [
    "img_rows, img_cols = data_bs.shape[1], data_bs.shape[2]\n",
    "\n",
    "pred_bs = target.predict(data_bs)\n",
    "corrections = get_corrections(y_pred=pred_bs, y_true=labels)\n",
    "\n",
    "results = {}\n",
    "\n",
    "ae_files = data_configs.get('ae_files')\n",
    "\n",
    "for file in ae_files:\n",
    "    results[file] = {}\n",
    "    ae_file = project_path.joinpath(data_configs['dir'], file)\n",
    "    x_adversarial = np.load(ae_file)\n",
    "    print(f\">>> Running evaluations on [{ae_file}]\")\n",
    "    pred = ensemble.predict(x_adversarial)\n",
    "    err = error_rate(y_pred=pred, y_true=labels, correct_on_bs=corrections)\n",
    "    results[file] = err\n",
    "    \n",
    "result_file = project_path.joinpath(\"results/ae_evaluation_results.json\")\n",
    "dump_to_json(results, result_file)\n",
    "print(f\">>> Evaluations on all ae_files dumped to [{result_file}]\")"
   ]
  }
 ],
 "metadata": {
  "kernelspec": {
   "display_name": "Python 3",
   "language": "python",
   "name": "python3"
  },
  "language_info": {
   "codemirror_mode": {
    "name": "ipython",
    "version": 3
   },
   "file_extension": ".py",
   "mimetype": "text/x-python",
   "name": "python",
   "nbconvert_exporter": "python",
   "pygments_lexer": "ipython3",
   "version": "3.7.9"
  }
 },
 "nbformat": 4,
 "nbformat_minor": 4
}
