{
 "cells": [
  {
   "cell_type": "markdown",
   "metadata": {},
   "source": [
    "# Experimental Settings\n",
    "\n",
    "In ordeer to produce the results, these steps were followed.\n",
    "\n",
    "1. Take a subsample from the overall sample at a ratio of 0.05\n",
    "2. Set the undefended model as the target.\n",
    "3. Using the target, generate the adversary examples(AEs).\n",
    "4. Save the results of the generation\n",
    "5. Load a pool of 5 weak defenses(WDs) that are arbitrarily selected for the Ensemble.\n",
    "6. Evaluate the generated AEs on the undefended model, the Vanilla Athena with the 5 WDs pooled in step five, and the PGD-ADT.\n",
    "7. Save the evaluation results in JSON format.\n",
    "\n",
    "\n",
    "## Elaboration \n",
    "\n",
    "Due to time constraint, generating adverserial examples for the whole sample would be impossible due to the large amount of computational cost it would have to perform the entire process. Thus, the team has decided to take subsamples from the total sample at a ratio of 0.05. This greatly reduces the amount of time it would take to generate, and evaluate the adverserial examples(AEs). The subsampling script can be found in the Task1_update folder. \n",
    "\n",
    "Once the subsamples were taken, the undefended model was loaded as the target. Afterwards, AEs were generated using the Fast Gradient Sign Method(FGSM), and the Project Gradient Descent(PGD) attacks. Each attack had 10 different variants. Using the FGSM attack, the epsilon values chosen were: \n",
    "\n",
    "* 0.1\n",
    "* 0.15\n",
    "* 0.2\n",
    "* 0.23\n",
    "* 0.25\n",
    "\n",
    "Each value would have two different variants. One would be extended with the Expectation over Transformation algorithm, and the other not. This decision was made in order to see how EOT would affect the error rate of the generated AEs of the same epsilon values. The distribution settings for EOT for all epsil\n"
   ]
  },
  {
   "cell_type": "markdown",
   "metadata": {},
   "source": [
    "| Parameter | FGSM EOT OFF Image | FGSM EOT OFF Error Rate |FGSM EOT ON Image | FGSM EOT ON Error Rate |\n",
    "| :---: | :---: | :---: | :---: |:---: |\n",
    "|<b>eps0.1</b> | <img src=\"images/FGSM_eps0.1-0-EOT_OFF.png\"> \\n <img src=\"images/FGSM_eps0.1-1-EOT_OFF.png\"> | <b>0.262</b> |<img src=\"images/FGSM_eps0.1-0-EOT_ON.png\"> \\n <img src=\"images/FGSM_eps0.1-1-EOT_ON.png\">  | <b>0.054</b> | \n",
    "|<b>eps0.15</b> | <img src=\"images/FGSM_eps0.15-0-EOT_OFF.png\"> \\n <img src=\"images/FGSM_eps0.15-1-EOT_OFF.png\"> | <b>0.56</b> | <img src=\"images/FGSM_eps0.15-0-EOT_ON.png\"> \\n <img src=\"images/FGSM_eps0.15-1-EOT_ON.png\"> | <b>0.112</b> |\n",
    "|<b>eps0.2</b>| <img src=\"images/FGSM_eps0.2-0-EOT_OFF.png\"> \\n <img src=\"images/FGSM_eps0.2-1-EOT_OFF.png\"> | <b>0.746</b> | <img src=\"images/FGSM_eps0.2-0-EOT_ON.png\"> \\n <img src=\"images/FGSM_eps0.2-1-EOT_ON.png\"> | <b>0.21</b> |\n",
    "|<b>eps0.23</b>| <img src=\"images/FGSM_eps0.23-0-EOT_OFF.png\"> \\n <img src=\"images/FGSM_eps0.23-1-EOT_OFF.png\"> | <b>0.822</b> | <img src=\"images/FGSM_eps0.23-0-EOT_ON.png\"> \\n <img src=\"images/FGSM_eps0.23-1-EOT_ON.png\"> | <b>0.326</b> |\n",
    "|<b>eps0.25</b> | <img src=\"images/FGSM_eps0.25-0-EOT_OFF.png\"> \\n <img src=\"images/FGSM_eps0.25-1-EOT_OFF.png\"> | <b>0.85</b> | <img src=\"images/FGSM_eps0.25-0-EOT_ON.png\"> \\n <img src=\"images/FGSM_eps0.25-1-EOT_ON.png\"> | <b>0.442</b> |"
   ]
  },
  {
   "cell_type": "code",
   "execution_count": null,
   "metadata": {},
   "outputs": [],
   "source": []
  }
 ],
 "metadata": {
  "kernelspec": {
   "display_name": "Python 3",
   "language": "python",
   "name": "python3"
  },
  "language_info": {
   "codemirror_mode": {
    "name": "ipython",
    "version": 3
   },
   "file_extension": ".py",
   "mimetype": "text/x-python",
   "name": "python",
   "nbconvert_exporter": "python",
   "pygments_lexer": "ipython3",
   "version": "3.7.9"
  }
 },
 "nbformat": 4,
 "nbformat_minor": 4
}
