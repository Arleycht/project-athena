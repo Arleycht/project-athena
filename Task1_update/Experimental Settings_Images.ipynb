{
 "cells": [
  {
   "cell_type": "markdown",
   "metadata": {},
   "source": [
    "# Experimental Settings\n",
    "\n",
    "In ordeer to produce the results, these steps were followed.\n",
    "\n",
    "1. Take a subsample from the overall sample at a ratio of 0.05\n",
    "2. Set the undefended model as the target.\n",
    "3. Using the target, generate the adversary examples(AEs).\n",
    "4. Save the results of the generation(includes sample images of the perturbation)\n",
    "5. Load a pool of 5 weak defenses(WDs) that are arbitrarily selected for the Ensemble.\n",
    "6. Evaluate the generated AEs on the undefended model, the Vanilla Athena with the 5 WDs pooled in step five, and the PGD-ADT.\n",
    "7. Save the evaluation results in JSON format.\n",
    "\n",
    "\n",
    "## Elaboration \n",
    "\n",
    "Due to time constraint, generating adverserial examples for the whole sample would be impossible due to the large amount of computational cost it would have to perform the entire process. Thus, the team has decided to take subsamples from the total sample at a ratio of 0.05. This greatly reduces the amount of time it would take to generate, and evaluate the adverserial examples(AEs). The subsampling script can be found in the Task1_update folder. \n",
    "\n",
    "* The subsamples can be found under _/Task1_update/data/subsample/subsamples-mnist-ratio_0.05-590500.359/_\n",
    "* The sublabels can be found under _/Task1_update/data/subsample/sublabels-mnist-ratio_0.05-590500.359/_\n",
    "\n",
    "Once the subsamples were taken, the undefended model was loaded as the target. Afterwards, AEs were generated using the Fast Gradient Sign Method(FGSM), and the Project Gradient Descent(PGD) attacks. Each attack had 10 different variants. These variants are generated using different parameters for each attack.  Half of the variants for each attack are extended with the Expectation over Transformation algorithm. The other half does not. This is done so that the results could be compared to see how the extension of EOT into the attacks affect the error rate on the evaluation of the AEs. This makes a total of 10 for each type of attack and a total of 20 overall for both.\n",
    "\n",
    "From the project folder(project-athena), the configurations of the attacks can be found under the following paths:\n",
    "\n",
    "* Attacks with EOT off: /Task1_update/attack-zk-mnist.json\n",
    "* Attacks with EOT on: /Task1_update/attack-zk-mnist-EOT_ON.json\n",
    "\n",
    "The AEs generated using the FGSM and PGD attacks with the undefended model as the target can be found under\n",
    "_/Task1_update/data/adversary_examples/_\n",
    "\n",
    "Sample images of how the attacks affected the original image are also saved. This is done so that we can see how the attack messes with the image in order to fool the model. These images are saved under _/Task1_update/images_\n",
    "\n",
    "After generating the AEs, they are then evaluated into the undefended model, the Vanilla Athena consisting of 5 weak defenses, and the PGD-ADT. This is done so that we can compare how accurate the model is given the AEs generated previously. The weak defenses chosen for the ensemble are arbitrarily selected. At first, the team wanted to load 15 weak defenses but that adds computational cost to the process which the team did not have time for. Thus, the team decided to keep only the first 5 of the weak defenses. \n",
    "\n",
    "The weak defenses selected are:\n",
    "\n",
    "* _model-mnist-cnn-rotate90.h5_\n",
    "* _model-mnist-cnn-shift_left.h5_\n",
    "* _model-mnist-cnn-flip_horizontal.h5_\n",
    "* _model-mnist-cnn-affine_vertical_compress.h5_\n",
    "* _model-mnist-cnn-morph_erosion.h5_\n",
    "\n",
    "These can be found under _/models/cnn/_\n",
    "\n",
    "The results of the evaluation are found under _/Task1_update/results/ae_evaluation_results.json/_"
   ]
  },
  {
   "cell_type": "markdown",
   "metadata": {},
   "source": [
    "# FGSM Images\n",
    "\n",
    "| Parameter | FGSM EOT OFF Image | FGSM EOT OFF Error Rate |FGSM EOT ON Image | FGSM EOT ON Error Rate |\n",
    "| :---: | :---: | :---: | :---: |:---: |\n",
    "|<b>eps0.1</b> | <img src=\"images/FGSM_eps0.1-0-EOT_OFF.png\">  <img src=\"images/FGSM_eps0.1-1-EOT_OFF.png\"> | <b>0.262</b> |<img src=\"images/FGSM_eps0.1-0-EOT_ON.png\">  <img src=\"images/FGSM_eps0.1-1-EOT_ON.png\">  | <b>0.054</b> | \n",
    "|<b>eps0.15</b> | <img src=\"images/FGSM_eps0.15-0-EOT_OFF.png\"> <img src=\"images/FGSM_eps0.15-1-EOT_OFF.png\"> | <b>0.56</b> | <img src=\"images/FGSM_eps0.15-0-EOT_ON.png\"> <img src=\"images/FGSM_eps0.15-1-EOT_ON.png\"> | <b>0.112</b> |\n",
    "|<b>eps0.2</b>| <img src=\"images/FGSM_eps0.2-0-EOT_OFF.png\"> <img src=\"images/FGSM_eps0.2-1-EOT_OFF.png\"> | <b>0.746</b> | <img src=\"images/FGSM_eps0.2-0-EOT_ON.png\"> <img src=\"images/FGSM_eps0.2-1-EOT_ON.png\"> | <b>0.21</b> |\n",
    "|<b>eps0.23</b>| <img src=\"images/FGSM_eps0.23-0-EOT_OFF.png\"> <img src=\"images/FGSM_eps0.23-1-EOT_OFF.png\"> | <b>0.822</b> | <img src=\"images/FGSM_eps0.23-0-EOT_ON.png\"> <img src=\"images/FGSM_eps0.23-1-EOT_ON.png\"> | <b>0.326</b> |\n",
    "|<b>eps0.25</b> | <img src=\"images/FGSM_eps0.25-0-EOT_OFF.png\"> <img src=\"images/FGSM_eps0.25-1-EOT_OFF.png\"> | <b>0.85</b> | <img src=\"images/FGSM_eps0.25-0-EOT_ON.png\"> <img src=\"images/FGSM_eps0.25-1-EOT_ON.png\"> | <b>0.442</b> |"
   ]
  },
  {
   "cell_type": "markdown",
   "metadata": {},
   "source": [
    "# PGD Images\n",
    "\n",
    "| Parameter | PGD EOT OFF Image | PGD EOT OFF Error Rate | PGD EOT ON Image2 | PGD EOT ON Error Rate |\n",
    "| :---: | :---: | :---: | :---: | :---:|\n",
    "|<b>eps0.08</b> | <img src=\"images/PGD_eps0.08-0-EOT_OFF.png\"> <img src=\"images/PGD_eps0.08-1-EOT_OFF.png\"> | <b>0.428</b> |<img src=\"images/PGD_eps0.08-0-EOT_ON.png\"> <img src=\"images/PGD_eps0.08-1-EOT_ON.png\"> | <b>0.02</b> |\n",
    "|<b>eps0.12</b> | <img src=\"images/PGD_eps0.12-0-EOT_OFF.png\"> <img src=\"images/PGD_eps0.12-1-EOT_OFF.png\"> | <b>0.844</b> | <img src=\"images/PGD_eps0.12-0-EOT_ON.png\"> <img src=\"images/PGD_eps0.12-1-EOT_ON.png\"> | <b>0.036</b> |\n",
    "|<b>eps0.15</b> | <img src=\"images/PGD_eps0.15-0-EOT_OFF.png\"> <img src=\"images/PGD_eps0.15-1-EOT_OFF.png\"> | <b>0.954</b> |<img src=\"images/PGD_eps0.15-0-EOT_ON.png\"> <img src=\"images/PGD_eps0.15-1-EOT_ON.png\"> | <b>0.046</b> |\n",
    "|<b>eps0.17</b> | <img src=\"images/PGD_eps0.17-0-EOT_OFF.png\"> <img src=\"images/PGD_eps0.17-1-EOT_OFF.png\"> | <b>0.99</b> |<img src=\"images/PGD_eps0.17-0-EOT_ON.png\"> <img src=\"images/PGD_eps0.17-1-EOT_ON.png\"> | <b> 0.07</b> |\n",
    "|<b>eps0.2</b> | <img src=\"images/PGD_eps0.2-0-EOT_OFF.png\"> <img src=\"images/PGD_eps0.2-1-EOT_OFF.png\"> | <b>1.0</b> | <img src=\"images/PGD_eps0.2-0-EOT_ON.png\"> <img src=\"images/PGD_eps0.2-1-EOT_ON.png\"> | <b>0.122</b> |"
   ]
  },
  {
   "cell_type": "code",
   "execution_count": null,
   "metadata": {},
   "outputs": [],
   "source": []
  }
 ],
 "metadata": {
  "kernelspec": {
   "display_name": "Python 3",
   "language": "python",
   "name": "python3"
  },
  "language_info": {
   "codemirror_mode": {
    "name": "ipython",
    "version": 3
   },
   "file_extension": ".py",
   "mimetype": "text/x-python",
   "name": "python",
   "nbconvert_exporter": "python",
   "pygments_lexer": "ipython3",
   "version": "3.7.9"
  }
 },
 "nbformat": 4,
 "nbformat_minor": 4
}
