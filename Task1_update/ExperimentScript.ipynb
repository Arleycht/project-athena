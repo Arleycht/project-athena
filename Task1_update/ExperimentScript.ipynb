{
 "cells": [
  {
   "cell_type": "code",
   "execution_count": 1,
   "metadata": {},
   "outputs": [],
   "source": [
    "import os\n",
    "import sys\n",
    "from pathlib import Path"
   ]
  },
  {
   "cell_type": "code",
   "execution_count": 2,
   "metadata": {},
   "outputs": [],
   "source": [
    "# Set up proper directory paths\n",
    "\n",
    "project_path = Path().absolute().parent\n",
    "src_path = project_path.joinpath(\"src\")\n",
    "\n",
    "# Ensure the paths are properly assigned\n",
    "# If this assertion fails, change project_dir as needed to become the project directory\n",
    "# If project_dir is correct, change the name in the assertion check\n",
    "assert project_path.name == \"project-athena\", \"Parent directory name assertion failed (check the path)\""
   ]
  },
  {
   "cell_type": "code",
   "execution_count": 3,
   "metadata": {},
   "outputs": [],
   "source": [
    "# Add src_dir to module paths\n",
    "if str(src_path) not in sys.path:\n",
    "    sys.path.append(str(src_path))"
   ]
  },
  {
   "cell_type": "code",
   "execution_count": 4,
   "metadata": {},
   "outputs": [],
   "source": [
    "import time\n",
    "\n",
    "import numpy as np"
   ]
  },
  {
   "cell_type": "code",
   "execution_count": 5,
   "metadata": {},
   "outputs": [],
   "source": [
    "from matplotlib import pyplot as plt"
   ]
  },
  {
   "cell_type": "code",
   "execution_count": 6,
   "metadata": {},
   "outputs": [],
   "source": [
    "from attacks.attack import generate\n",
    "from models.athena import ENSEMBLE_STRATEGY, Ensemble\n",
    "from utils.data import subsampling\n",
    "from utils.file import load_from_json, dump_to_json\n",
    "from utils.metrics import error_rate, get_corrections\n",
    "from utils.model import load_lenet, load_pool"
   ]
  },
  {
   "cell_type": "code",
   "execution_count": 7,
   "metadata": {},
   "outputs": [],
   "source": [
    "# copied from tutorials/craft_adversarial_examples.py\n",
    "def generate_ae(model, data, labels, attack_configs,\n",
    "                eot=False,\n",
    "                save=False, output_dir=None):\n",
    "    \"\"\"\n",
    "    Generate adversarial examples\n",
    "    :param model: WeakDefense. The targeted model.\n",
    "    :param data: array. The benign samples to generate adversarial for.\n",
    "    :param labels: array or list. The true labels.\n",
    "    :param attack_configs: dictionary. Attacks and corresponding settings.\n",
    "    :param save: boolean. True, if save the adversarial examples.\n",
    "    :param output_dir: str or path. Location to save the adversarial examples.\n",
    "        It cannot be None when save is True.\n",
    "    :return:\n",
    "    \"\"\"\n",
    "    img_rows, img_cols = data.shape[1], data.shape[2]\n",
    "    num_attacks = attack_configs.get(\"num_attacks\")\n",
    "    data_loader = (data, labels)\n",
    "\n",
    "    if len(labels.shape) > 1:\n",
    "        labels = np.asarray([np.argmax(p) for p in labels])\n",
    "\n",
    "    # generate attacks one by one\n",
    "    for id in range(num_attacks):\n",
    "        key = \"configs{}\".format(id)\n",
    "        attack_args = attack_configs.get(key)\n",
    "        \n",
    "        description = attack_args['description']\n",
    "        \n",
    "        attack_args[\"eot\"] = eot\n",
    "        \n",
    "        data_adv = generate(model=model,\n",
    "                            data_loader=data_loader,\n",
    "                            attack_args=attack_args)\n",
    "        \n",
    "        # predict the adversarial examples\n",
    "        predictions = model.predict(data_adv)\n",
    "        predictions = np.asarray([np.argmax(p) for p in predictions])\n",
    "\n",
    "        err = error_rate(y_pred=predictions, y_true=labels)\n",
    "        print(\">>> error rate:\", err)\n",
    "\n",
    "        # plotting some examples\n",
    "        num_plotting = min(data.shape[0], 2)\n",
    "        for i in range(num_plotting):\n",
    "            img = data_adv[i].reshape((img_rows, img_cols))\n",
    "            plt.imshow(img, cmap='gray')\n",
    "            title = '{}: {}->{}'.format(description,\n",
    "                                        labels[i],\n",
    "                                        predictions[i])\n",
    "            plt.title(title)\n",
    "            plt.savefig(project_path.joinpath(f\"results/{description}-{i}.png\"))\n",
    "            plt.show()\n",
    "            plt.close()\n",
    "\n",
    "        # save the adversarial example\n",
    "        if save:\n",
    "            if output_dir is None:\n",
    "                raise ValueError(\"Cannot save images to a none path.\")\n",
    "            # save with a random name\n",
    "            file = os.path.join(output_dir, f\"{description}.npy\")\n",
    "            print(\"Save the adversarial examples to file [{}].\".format(file))\n",
    "            np.save(file, data_adv)"
   ]
  },
  {
   "cell_type": "code",
   "execution_count": 8,
   "metadata": {
    "scrolled": true
   },
   "outputs": [
    {
     "name": "stdout",
     "output_type": "stream",
     "text": [
      ">>> Loading model [D:\\GitHub\\project-athena\\models\\cnn\\model-mnist-cnn-clean.h5]...\n"
     ]
    }
   ],
   "source": [
    "# Load data configs\n",
    "file = project_path.joinpath(\"Task1_update/configs/data-mnist.json\")\n",
    "data_configs = load_from_json(file)\n",
    "model_configs = load_from_json(project_path.joinpath(\"Task1_update/configs/model-mnist.json\"))\n",
    "\n",
    "# load the benign samples\n",
    "data_file = project_path.joinpath(data_configs['dir'], data_configs.get('bs_file'))\n",
    "data_bs = np.load(data_file)\n",
    "# load the corresponding true labels\n",
    "label_file = project_path.joinpath(data_configs['dir'], data_configs.get('label_file'))\n",
    "labels = np.load(label_file)\n",
    "\n",
    "model_file = project_path.joinpath(model_configs['dir'], model_configs['um_file'])\n",
    "target = load_lenet(file=model_file, wrap=True)\n",
    "\n",
    "output_path = project_path.joinpath(\"Task1_update/data/adversary_examples\")"
   ]
  },
  {
   "cell_type": "code",
   "execution_count": 9,
   "metadata": {},
   "outputs": [
    {
     "name": "stdout",
     "output_type": "stream",
     "text": [
      ">>> Generating PGD_eps0.08(EOT:OFF) examples.\n",
      "WARNING:tensorflow:From C:\\Users\\alext\\anaconda3\\envs\\athena_env\\lib\\site-packages\\tensorflow\\python\\keras\\engine\\training_v1.py:2070: Model.state_updates (from tensorflow.python.keras.engine.training) is deprecated and will be removed in a future version.\n",
      "Instructions for updating:\n",
      "This property should not be used in TensorFlow 2.0, as updates are applied automatically.\n",
      ">>> error rate: 0.428\n"
     ]
    },
    {
     "data": {
      "image/png": "[encoded data removed]",
      "text/plain": [
       "<Figure size 432x288 with 1 Axes>"
      ]
     },
     "metadata": {
      "needs_background": "light"
     },
     "output_type": "display_data"
    },
    {
     "data": {
      "image/png": "[encoded data removed]",
      "text/plain": [
       "<Figure size 432x288 with 1 Axes>"
      ]
     },
     "metadata": {
      "needs_background": "light"
     },
     "output_type": "display_data"
    },
    {
     "name": "stdout",
     "output_type": "stream",
     "text": [
      "Save the adversarial examples to file [D:\\GitHub\\project-athena\\Task1_update\\data\\adversary_examples\\PGD_eps0.08.npy].\n"
     ]
    },
    {
     "ename": "FileNotFoundError",
     "evalue": "[Errno 2] No such file or directory: 'D:\\\\GitHub\\\\project-athena\\\\Task1_update\\\\data\\\\adversary_examples\\\\PGD_eps0.08.npy'",
     "output_type": "error",
     "traceback": [
      "\u001b[1;31m---------------------------------------------------------------------------\u001b[0m",
      "\u001b[1;31mFileNotFoundError\u001b[0m                         Traceback (most recent call last)",
      "\u001b[1;32m<ipython-input-9-30c3de31f82c>\u001b[0m in \u001b[0;36m<module>\u001b[1;34m\u001b[0m\n\u001b[0;32m      2\u001b[0m \u001b[0mattack_configs\u001b[0m \u001b[1;33m=\u001b[0m \u001b[0mload_from_json\u001b[0m\u001b[1;33m(\u001b[0m\u001b[0mproject_path\u001b[0m\u001b[1;33m.\u001b[0m\u001b[0mjoinpath\u001b[0m\u001b[1;33m(\u001b[0m\u001b[1;34m\"Task1_update/configs/attack-zk-mnist.json\"\u001b[0m\u001b[1;33m)\u001b[0m\u001b[1;33m)\u001b[0m\u001b[1;33m\u001b[0m\u001b[1;33m\u001b[0m\u001b[0m\n\u001b[0;32m      3\u001b[0m generate_ae(model=target, data=data_bs,labels=labels, eot=False, attack_configs=attack_configs,\n\u001b[1;32m----> 4\u001b[1;33m             save=True, output_dir=output_path)\n\u001b[0m",
      "\u001b[1;32m<ipython-input-7-31b19e03b113>\u001b[0m in \u001b[0;36mgenerate_ae\u001b[1;34m(model, data, labels, attack_configs, eot, save, output_dir)\u001b[0m\n\u001b[0;32m     61\u001b[0m             \u001b[0mfile\u001b[0m \u001b[1;33m=\u001b[0m \u001b[0mos\u001b[0m\u001b[1;33m.\u001b[0m\u001b[0mpath\u001b[0m\u001b[1;33m.\u001b[0m\u001b[0mjoin\u001b[0m\u001b[1;33m(\u001b[0m\u001b[0moutput_dir\u001b[0m\u001b[1;33m,\u001b[0m \u001b[1;34mf\"{description}.npy\"\u001b[0m\u001b[1;33m)\u001b[0m\u001b[1;33m\u001b[0m\u001b[1;33m\u001b[0m\u001b[0m\n\u001b[0;32m     62\u001b[0m             \u001b[0mprint\u001b[0m\u001b[1;33m(\u001b[0m\u001b[1;34m\"Save the adversarial examples to file [{}].\"\u001b[0m\u001b[1;33m.\u001b[0m\u001b[0mformat\u001b[0m\u001b[1;33m(\u001b[0m\u001b[0mfile\u001b[0m\u001b[1;33m)\u001b[0m\u001b[1;33m)\u001b[0m\u001b[1;33m\u001b[0m\u001b[1;33m\u001b[0m\u001b[0m\n\u001b[1;32m---> 63\u001b[1;33m             \u001b[0mnp\u001b[0m\u001b[1;33m.\u001b[0m\u001b[0msave\u001b[0m\u001b[1;33m(\u001b[0m\u001b[0mfile\u001b[0m\u001b[1;33m,\u001b[0m \u001b[0mdata_adv\u001b[0m\u001b[1;33m)\u001b[0m\u001b[1;33m\u001b[0m\u001b[1;33m\u001b[0m\u001b[0m\n\u001b[0m",
      "\u001b[1;32m<__array_function__ internals>\u001b[0m in \u001b[0;36msave\u001b[1;34m(*args, **kwargs)\u001b[0m\n",
      "\u001b[1;32m~\\anaconda3\\envs\\athena_env\\lib\\site-packages\\numpy\\lib\\npyio.py\u001b[0m in \u001b[0;36msave\u001b[1;34m(file, arr, allow_pickle, fix_imports)\u001b[0m\n\u001b[0;32m    539\u001b[0m         \u001b[1;32mif\u001b[0m \u001b[1;32mnot\u001b[0m \u001b[0mfile\u001b[0m\u001b[1;33m.\u001b[0m\u001b[0mendswith\u001b[0m\u001b[1;33m(\u001b[0m\u001b[1;34m'.npy'\u001b[0m\u001b[1;33m)\u001b[0m\u001b[1;33m:\u001b[0m\u001b[1;33m\u001b[0m\u001b[1;33m\u001b[0m\u001b[0m\n\u001b[0;32m    540\u001b[0m             \u001b[0mfile\u001b[0m \u001b[1;33m=\u001b[0m \u001b[0mfile\u001b[0m \u001b[1;33m+\u001b[0m \u001b[1;34m'.npy'\u001b[0m\u001b[1;33m\u001b[0m\u001b[1;33m\u001b[0m\u001b[0m\n\u001b[1;32m--> 541\u001b[1;33m         \u001b[0mfid\u001b[0m \u001b[1;33m=\u001b[0m \u001b[0mopen\u001b[0m\u001b[1;33m(\u001b[0m\u001b[0mfile\u001b[0m\u001b[1;33m,\u001b[0m \u001b[1;34m\"wb\"\u001b[0m\u001b[1;33m)\u001b[0m\u001b[1;33m\u001b[0m\u001b[1;33m\u001b[0m\u001b[0m\n\u001b[0m\u001b[0;32m    542\u001b[0m         \u001b[0mown_fid\u001b[0m \u001b[1;33m=\u001b[0m \u001b[1;32mTrue\u001b[0m\u001b[1;33m\u001b[0m\u001b[1;33m\u001b[0m\u001b[0m\n\u001b[0;32m    543\u001b[0m \u001b[1;33m\u001b[0m\u001b[0m\n",
      "\u001b[1;31mFileNotFoundError\u001b[0m: [Errno 2] No such file or directory: 'D:\\\\GitHub\\\\project-athena\\\\Task1_update\\\\data\\\\adversary_examples\\\\PGD_eps0.08.npy'"
     ]
    }
   ],
   "source": [
    "# EOT OFF\n",
    "attack_configs = load_from_json(project_path.joinpath(\"Task1_update/configs/attack-zk-mnist.json\"))\n",
    "generate_ae(model=target, data=data_bs,labels=labels, eot=False, attack_configs=attack_configs,\n",
    "            save=True, output_dir=output_path)"
   ]
  },
  {
   "cell_type": "code",
   "execution_count": 10,
   "metadata": {
    "scrolled": true
   },
   "outputs": [
    {
     "name": "stdout",
     "output_type": "stream",
     "text": [
      ">>> Generating PGD_eps0.08(EOT:ON) examples.\n",
      ">>> error rate: 0.02\n"
     ]
    },
    {
     "data": {
      "image/png": "[encoded data removed]",
      "text/plain": [
       "<Figure size 432x288 with 1 Axes>"
      ]
     },
     "metadata": {
      "needs_background": "light"
     },
     "output_type": "display_data"
    },
    {
     "data": {
      "image/png": "[encoded data removed]",
      "text/plain": [
       "<Figure size 432x288 with 1 Axes>"
      ]
     },
     "metadata": {
      "needs_background": "light"
     },
     "output_type": "display_data"
    },
    {
     "name": "stdout",
     "output_type": "stream",
     "text": [
      "Save the adversarial examples to file [D:\\GitHub\\project-athena\\Task1_update\\data\\adversary_examples\\PGD_eps0.08.npy].\n"
     ]
    },
    {
     "ename": "FileNotFoundError",
     "evalue": "[Errno 2] No such file or directory: 'D:\\\\GitHub\\\\project-athena\\\\Task1_update\\\\data\\\\adversary_examples\\\\PGD_eps0.08.npy'",
     "output_type": "error",
     "traceback": [
      "\u001b[1;31m---------------------------------------------------------------------------\u001b[0m",
      "\u001b[1;31mFileNotFoundError\u001b[0m                         Traceback (most recent call last)",
      "\u001b[1;32m<ipython-input-10-b9a4db35e447>\u001b[0m in \u001b[0;36m<module>\u001b[1;34m\u001b[0m\n\u001b[0;32m      6\u001b[0m \u001b[1;31m# For an ensemble target, averaging the EOT of WDs'.\u001b[0m\u001b[1;33m\u001b[0m\u001b[1;33m\u001b[0m\u001b[1;33m\u001b[0m\u001b[0m\n\u001b[0;32m      7\u001b[0m \u001b[1;31m# let save=True and specify an output folder to save the generated AEs\u001b[0m\u001b[1;33m\u001b[0m\u001b[1;33m\u001b[0m\u001b[1;33m\u001b[0m\u001b[0m\n\u001b[1;32m----> 8\u001b[1;33m \u001b[0mgenerate_ae\u001b[0m\u001b[1;33m(\u001b[0m\u001b[0mmodel\u001b[0m\u001b[1;33m=\u001b[0m\u001b[0mtarget\u001b[0m\u001b[1;33m,\u001b[0m \u001b[0mdata\u001b[0m\u001b[1;33m=\u001b[0m\u001b[0mdata_bs\u001b[0m\u001b[1;33m,\u001b[0m \u001b[0mlabels\u001b[0m\u001b[1;33m=\u001b[0m\u001b[0mlabels\u001b[0m\u001b[1;33m,\u001b[0m \u001b[0meot\u001b[0m\u001b[1;33m=\u001b[0m\u001b[1;32mTrue\u001b[0m\u001b[1;33m,\u001b[0m \u001b[0mattack_configs\u001b[0m\u001b[1;33m=\u001b[0m\u001b[0mattack_configs\u001b[0m\u001b[1;33m,\u001b[0m \u001b[0msave\u001b[0m\u001b[1;33m=\u001b[0m\u001b[1;32mTrue\u001b[0m\u001b[1;33m,\u001b[0m \u001b[0moutput_dir\u001b[0m\u001b[1;33m=\u001b[0m\u001b[0moutput_path\u001b[0m\u001b[1;33m)\u001b[0m\u001b[1;33m\u001b[0m\u001b[1;33m\u001b[0m\u001b[0m\n\u001b[0m",
      "\u001b[1;32m<ipython-input-7-31b19e03b113>\u001b[0m in \u001b[0;36mgenerate_ae\u001b[1;34m(model, data, labels, attack_configs, eot, save, output_dir)\u001b[0m\n\u001b[0;32m     61\u001b[0m             \u001b[0mfile\u001b[0m \u001b[1;33m=\u001b[0m \u001b[0mos\u001b[0m\u001b[1;33m.\u001b[0m\u001b[0mpath\u001b[0m\u001b[1;33m.\u001b[0m\u001b[0mjoin\u001b[0m\u001b[1;33m(\u001b[0m\u001b[0moutput_dir\u001b[0m\u001b[1;33m,\u001b[0m \u001b[1;34mf\"{description}.npy\"\u001b[0m\u001b[1;33m)\u001b[0m\u001b[1;33m\u001b[0m\u001b[1;33m\u001b[0m\u001b[0m\n\u001b[0;32m     62\u001b[0m             \u001b[0mprint\u001b[0m\u001b[1;33m(\u001b[0m\u001b[1;34m\"Save the adversarial examples to file [{}].\"\u001b[0m\u001b[1;33m.\u001b[0m\u001b[0mformat\u001b[0m\u001b[1;33m(\u001b[0m\u001b[0mfile\u001b[0m\u001b[1;33m)\u001b[0m\u001b[1;33m)\u001b[0m\u001b[1;33m\u001b[0m\u001b[1;33m\u001b[0m\u001b[0m\n\u001b[1;32m---> 63\u001b[1;33m             \u001b[0mnp\u001b[0m\u001b[1;33m.\u001b[0m\u001b[0msave\u001b[0m\u001b[1;33m(\u001b[0m\u001b[0mfile\u001b[0m\u001b[1;33m,\u001b[0m \u001b[0mdata_adv\u001b[0m\u001b[1;33m)\u001b[0m\u001b[1;33m\u001b[0m\u001b[1;33m\u001b[0m\u001b[0m\n\u001b[0m",
      "\u001b[1;32m<__array_function__ internals>\u001b[0m in \u001b[0;36msave\u001b[1;34m(*args, **kwargs)\u001b[0m\n",
      "\u001b[1;32m~\\anaconda3\\envs\\athena_env\\lib\\site-packages\\numpy\\lib\\npyio.py\u001b[0m in \u001b[0;36msave\u001b[1;34m(file, arr, allow_pickle, fix_imports)\u001b[0m\n\u001b[0;32m    539\u001b[0m         \u001b[1;32mif\u001b[0m \u001b[1;32mnot\u001b[0m \u001b[0mfile\u001b[0m\u001b[1;33m.\u001b[0m\u001b[0mendswith\u001b[0m\u001b[1;33m(\u001b[0m\u001b[1;34m'.npy'\u001b[0m\u001b[1;33m)\u001b[0m\u001b[1;33m:\u001b[0m\u001b[1;33m\u001b[0m\u001b[1;33m\u001b[0m\u001b[0m\n\u001b[0;32m    540\u001b[0m             \u001b[0mfile\u001b[0m \u001b[1;33m=\u001b[0m \u001b[0mfile\u001b[0m \u001b[1;33m+\u001b[0m \u001b[1;34m'.npy'\u001b[0m\u001b[1;33m\u001b[0m\u001b[1;33m\u001b[0m\u001b[0m\n\u001b[1;32m--> 541\u001b[1;33m         \u001b[0mfid\u001b[0m \u001b[1;33m=\u001b[0m \u001b[0mopen\u001b[0m\u001b[1;33m(\u001b[0m\u001b[0mfile\u001b[0m\u001b[1;33m,\u001b[0m \u001b[1;34m\"wb\"\u001b[0m\u001b[1;33m)\u001b[0m\u001b[1;33m\u001b[0m\u001b[1;33m\u001b[0m\u001b[0m\n\u001b[0m\u001b[0;32m    542\u001b[0m         \u001b[0mown_fid\u001b[0m \u001b[1;33m=\u001b[0m \u001b[1;32mTrue\u001b[0m\u001b[1;33m\u001b[0m\u001b[1;33m\u001b[0m\u001b[0m\n\u001b[0;32m    543\u001b[0m \u001b[1;33m\u001b[0m\u001b[0m\n",
      "\u001b[1;31mFileNotFoundError\u001b[0m: [Errno 2] No such file or directory: 'D:\\\\GitHub\\\\project-athena\\\\Task1_update\\\\data\\\\adversary_examples\\\\PGD_eps0.08.npy'"
     ]
    }
   ],
   "source": [
    "# EOT ON\n",
    "attack_configs = load_from_json(project_path.joinpath(\"Task1_update/configs/attack-zk-mnist-EOT_ON.json\"))\n",
    "\n",
    "# Adaptive approach (with EOT)\n",
    "# Compute the loss expectation over specific distribution.\n",
    "# For an ensemble target, averaging the EOT of WDs'.\n",
    "# let save=True and specify an output folder to save the generated AEs\n",
    "generate_ae(model=target, data=data_bs, labels=labels, eot=True, attack_configs=attack_configs, save=True, output_dir=output_path)"
   ]
  },
  {
   "cell_type": "markdown",
   "metadata": {},
   "source": [
    "# Evaluating the generated adverserial example on the vanilla Athena."
   ]
  },
  {
   "cell_type": "code",
   "execution_count": 11,
   "metadata": {},
   "outputs": [
    {
     "name": "stdout",
     "output_type": "stream",
     "text": [
      ">>> Running evaluations on [D:\\GitHub\\project-athena\\Task2\\data\\task2-FGSM_0.5.npy]\n",
      ">>> Error Rate of task2-FGSM_0.5.npy: [0.888663967611336]\n",
      ">>> Running evaluations on [D:\\GitHub\\project-athena\\Task2\\data\\task2-FGSM_eps0.1.npy]\n",
      ">>> Error Rate of task2-FGSM_eps0.1.npy: [0.8906882591093117]\n",
      ">>> Running evaluations on [D:\\GitHub\\project-athena\\Task2\\data\\task2-FGSM_eps0.01.npy]\n",
      ">>> Error Rate of task2-FGSM_eps0.01.npy: [0.8825910931174089]\n",
      ">>> Running evaluations on [D:\\GitHub\\project-athena\\Task2\\data\\task2-FGSM_eps0.2.npy]\n",
      ">>> Error Rate of task2-FGSM_eps0.2.npy: [0.8765182186234818]\n",
      ">>> Running evaluations on [D:\\GitHub\\project-athena\\Task2\\data\\task2-FGSM_eps0.05.npy]\n",
      ">>> Error Rate of task2-FGSM_eps0.05.npy: [0.8846153846153846]\n",
      ">>> Running evaluations on [D:\\GitHub\\project-athena\\Task2\\data\\task2-PGD_eps0.1.npy]\n",
      ">>> Error Rate of task2-PGD_eps0.1.npy: [0.8927125506072875]\n",
      ">>> Running evaluations on [D:\\GitHub\\project-athena\\Task2\\data\\task2-PGD_eps0.2.npy]\n",
      ">>> Error Rate of task2-PGD_eps0.2.npy: [0.8866396761133604]\n",
      ">>> Running evaluations on [D:\\GitHub\\project-athena\\Task2\\data\\task2-PGD_eps0.5.npy]\n",
      ">>> Error Rate of task2-PGD_eps0.5.npy: [0.8744939271255061]\n",
      ">>> Running evaluations on [D:\\GitHub\\project-athena\\Task2\\data\\task2-PGD_eps0.05.npy]\n",
      ">>> Error Rate of task2-PGD_eps0.05.npy: [0.8866396761133604]\n",
      ">>> Running evaluations on [D:\\GitHub\\project-athena\\Task2\\data\\task2-PGD_eps0.7.npy]\n",
      ">>> Error Rate of task2-PGD_eps0.7.npy: [0.8866396761133604]\n",
      ">>> Evaluations on all ae_files dumped to [D:\\GitHub\\project-athena\\Task2\\results\\ae_evaluation_results.json]\n"
     ]
    }
   ],
   "source": [
    "file = project_path.joinpath(\"Task2/configs/data-mnist.json\")\n",
    "data_configs = load_from_json(file)\n",
    "\n",
    "img_rows, img_cols = data_bs.shape[1], data_bs.shape[2]\n",
    "\n",
    "pred_bs = target.predict(data_bs)\n",
    "corrections = get_corrections(y_pred=pred_bs, y_true=labels)\n",
    "\n",
    "results = {}\n",
    "\n",
    "ae_files = data_configs.get('task2_aes')\n",
    "\n",
    "for file in ae_files:\n",
    "    results[file] = {}\n",
    "    ae_file = project_path.joinpath(data_configs['dir'], file)\n",
    "    x_adversarial = np.load(ae_file)\n",
    "    print(f\">>> Running evaluations on [{ae_file}]\")\n",
    "    pred = target.predict(x_adversarial)\n",
    "    err = error_rate(y_pred=pred, y_true=labels, correct_on_bs=corrections)\n",
    "    print(f\">>> Error Rate of {file}: [{err}]\")\n",
    "    results[file] = err\n",
    "    \n",
    "result_file = project_path.joinpath(\"Task2/results/ae_evaluation_results.json\")\n",
    "dump_to_json(results, result_file)\n",
    "print(f\">>> Evaluations on all ae_files dumped to [{result_file}]\")"
   ]
  },
  {
   "cell_type": "code",
   "execution_count": 12,
   "metadata": {},
   "outputs": [
    {
     "name": "stdout",
     "output_type": "stream",
     "text": [
      ">>> Running evaluations on [D:\\GitHub\\project-athena\\data\\test_AE-mnist-cnn-clean-fgsm_eps0.1.npy]\n",
      ">>> Error Rate of test_AE-mnist-cnn-clean-fgsm_eps0.1.npy: [0.25148974851025147]\n",
      ">>> Running evaluations on [D:\\GitHub\\project-athena\\data\\test_AE-mnist-cnn-clean-fgsm_eps0.15.npy]\n",
      ">>> Error Rate of test_AE-mnist-cnn-clean-fgsm_eps0.15.npy: [0.5145944854055146]\n",
      ">>> Running evaluations on [D:\\GitHub\\project-athena\\data\\test_AE-mnist-cnn-clean-fgsm_eps0.2.npy]\n",
      ">>> Error Rate of test_AE-mnist-cnn-clean-fgsm_eps0.2.npy: [0.711948288051712]\n",
      ">>> Running evaluations on [D:\\GitHub\\project-athena\\data\\test_AE-mnist-cnn-clean-fgsm_eps0.25.npy]\n",
      ">>> Error Rate of test_AE-mnist-cnn-clean-fgsm_eps0.25.npy: [0.8253711746288254]\n",
      ">>> Running evaluations on [D:\\GitHub\\project-athena\\data\\test_AE-mnist-cnn-clean-fgsm_eps0.3.npy]\n",
      ">>> Error Rate of test_AE-mnist-cnn-clean-fgsm_eps0.3.npy: [0.8842541157458843]\n",
      ">>> Running evaluations on [D:\\GitHub\\project-athena\\data\\test_AE-mnist-cnn-clean-bim_ord2_eps0.75.npy]\n",
      ">>> Error Rate of test_AE-mnist-cnn-clean-bim_ord2_eps0.75.npy: [0.3794566205433795]\n",
      ">>> Running evaluations on [D:\\GitHub\\project-athena\\data\\test_AE-mnist-cnn-clean-bim_ord2_eps0.85.npy]\n",
      ">>> Error Rate of test_AE-mnist-cnn-clean-bim_ord2_eps0.85.npy: [0.526916473083527]\n",
      ">>> Running evaluations on [D:\\GitHub\\project-athena\\data\\test_AE-mnist-cnn-clean-bim_ord2_eps1.npy]\n",
      ">>> Error Rate of test_AE-mnist-cnn-clean-bim_ord2_eps1.npy: [0.7402282597717402]\n",
      ">>> Running evaluations on [D:\\GitHub\\project-athena\\data\\test_AE-mnist-cnn-clean-bim_ord2_eps1.1.npy]\n",
      ">>> Error Rate of test_AE-mnist-cnn-clean-bim_ord2_eps1.1.npy: [0.8532471467528533]\n",
      ">>> Running evaluations on [D:\\GitHub\\project-athena\\data\\test_AE-mnist-cnn-clean-bim_ord2_eps1.2.npy]\n",
      ">>> Error Rate of test_AE-mnist-cnn-clean-bim_ord2_eps1.2.npy: [0.9203110796889203]\n",
      ">>> Running evaluations on [D:\\GitHub\\project-athena\\data\\test_AE-mnist-cnn-clean-bim_ordinf_eps0.075.npy]\n",
      ">>> Error Rate of test_AE-mnist-cnn-clean-bim_ordinf_eps0.075.npy: [0.3937986062013938]\n",
      ">>> Running evaluations on [D:\\GitHub\\project-athena\\data\\test_AE-mnist-cnn-clean-bim_ordinf_eps0.082.npy]\n",
      ">>> Error Rate of test_AE-mnist-cnn-clean-bim_ordinf_eps0.082.npy: [0.5303504696495304]\n",
      ">>> Running evaluations on [D:\\GitHub\\project-athena\\data\\test_AE-mnist-cnn-clean-bim_ordinf_eps0.09.npy]\n",
      ">>> Error Rate of test_AE-mnist-cnn-clean-bim_ordinf_eps0.09.npy: [0.6817493182506817]\n",
      ">>> Running evaluations on [D:\\GitHub\\project-athena\\data\\test_AE-mnist-cnn-clean-bim_ordinf_eps0.1.npy]\n",
      ">>> Error Rate of test_AE-mnist-cnn-clean-bim_ordinf_eps0.1.npy: [0.825068174931825]\n",
      ">>> Running evaluations on [D:\\GitHub\\project-athena\\data\\test_AE-mnist-cnn-clean-bim_ordinf_eps0.12.npy]\n",
      ">>> Error Rate of test_AE-mnist-cnn-clean-bim_ordinf_eps0.12.npy: [0.9637410362589638]\n",
      ">>> Running evaluations on [D:\\GitHub\\project-athena\\data\\test_AE-mnist-cnn-clean-cw_l2_lr0.0098.npy]\n",
      ">>> Error Rate of test_AE-mnist-cnn-clean-cw_l2_lr0.0098.npy: [0.6043833956166044]\n",
      ">>> Running evaluations on [D:\\GitHub\\project-athena\\data\\test_AE-mnist-cnn-clean-cw_l2_lr0.01.npy]\n",
      ">>> Error Rate of test_AE-mnist-cnn-clean-cw_l2_lr0.01.npy: [0.6227653772346228]\n",
      ">>> Running evaluations on [D:\\GitHub\\project-athena\\data\\test_AE-mnist-cnn-clean-cw_l2_lr0.012.npy]\n",
      ">>> Error Rate of test_AE-mnist-cnn-clean-cw_l2_lr0.012.npy: [0.7608322391677609]\n",
      ">>> Running evaluations on [D:\\GitHub\\project-athena\\data\\test_AE-mnist-cnn-clean-cw_l2_lr0.015.npy]\n",
      ">>> Error Rate of test_AE-mnist-cnn-clean-cw_l2_lr0.015.npy: [0.8710231289768711]\n",
      ">>> Running evaluations on [D:\\GitHub\\project-athena\\data\\test_AE-mnist-cnn-clean-cw_l2_lr0.018.npy]\n",
      ">>> Error Rate of test_AE-mnist-cnn-clean-cw_l2_lr0.018.npy: [0.9180890819109181]\n",
      ">>> Running evaluations on [D:\\GitHub\\project-athena\\data\\test_AE-mnist-cnn-clean-deepfool_l2_overshoot3.npy]\n",
      ">>> Error Rate of test_AE-mnist-cnn-clean-deepfool_l2_overshoot3.npy: [0.31835168164831834]\n",
      ">>> Running evaluations on [D:\\GitHub\\project-athena\\data\\test_AE-mnist-cnn-clean-deepfool_l2_overshoot5.npy]\n",
      ">>> Error Rate of test_AE-mnist-cnn-clean-deepfool_l2_overshoot5.npy: [0.5394404605595394]\n",
      ">>> Running evaluations on [D:\\GitHub\\project-athena\\data\\test_AE-mnist-cnn-clean-deepfool_l2_overshoot8.npy]\n",
      ">>> Error Rate of test_AE-mnist-cnn-clean-deepfool_l2_overshoot8.npy: [0.6655893344106656]\n",
      ">>> Running evaluations on [D:\\GitHub\\project-athena\\data\\test_AE-mnist-cnn-clean-deepfool_l2_overshoot16.npy]\n",
      ">>> Error Rate of test_AE-mnist-cnn-clean-deepfool_l2_overshoot16.npy: [0.7681042318957682]\n",
      ">>> Running evaluations on [D:\\GitHub\\project-athena\\data\\test_AE-mnist-cnn-clean-deepfool_l2_overshoot50.npy]\n",
      ">>> Error Rate of test_AE-mnist-cnn-clean-deepfool_l2_overshoot50.npy: [0.8380971619028381]\n",
      ">>> Running evaluations on [D:\\GitHub\\project-athena\\data\\test_AE-mnist-cnn-clean-jsma_theta0.15_gamma0.5.npy]\n",
      ">>> Error Rate of test_AE-mnist-cnn-clean-jsma_theta0.15_gamma0.5.npy: [0.36612463387536615]\n",
      ">>> Running evaluations on [D:\\GitHub\\project-athena\\data\\test_AE-mnist-cnn-clean-jsma_theta0.17_gamma0.5.npy]\n",
      ">>> Error Rate of test_AE-mnist-cnn-clean-jsma_theta0.17_gamma0.5.npy: [0.5359054640945359]\n",
      ">>> Running evaluations on [D:\\GitHub\\project-athena\\data\\test_AE-mnist-cnn-clean-jsma_theta0.18_gamma0.5.npy]\n",
      ">>> Error Rate of test_AE-mnist-cnn-clean-jsma_theta0.18_gamma0.5.npy: [0.6106453893546107]\n",
      ">>> Running evaluations on [D:\\GitHub\\project-athena\\data\\test_AE-mnist-cnn-clean-jsma_theta0.21_gamma0.5.npy]\n",
      ">>> Error Rate of test_AE-mnist-cnn-clean-jsma_theta0.21_gamma0.5.npy: [0.8036561963438037]\n",
      ">>> Running evaluations on [D:\\GitHub\\project-athena\\data\\test_AE-mnist-cnn-clean-jsma_theta0.25_gamma0.5.npy]\n",
      ">>> Error Rate of test_AE-mnist-cnn-clean-jsma_theta0.25_gamma0.5.npy: [0.9206140793859207]\n",
      ">>> Running evaluations on [D:\\GitHub\\project-athena\\data\\test_AE-mnist-cnn-clean-pgd_eps0.075.npy]\n",
      ">>> Error Rate of test_AE-mnist-cnn-clean-pgd_eps0.075.npy: [0.40904959095040905]\n",
      ">>> Running evaluations on [D:\\GitHub\\project-athena\\data\\test_AE-mnist-cnn-clean-pgd_eps0.082.npy]\n",
      ">>> Error Rate of test_AE-mnist-cnn-clean-pgd_eps0.082.npy: [0.6786183213816787]\n",
      ">>> Running evaluations on [D:\\GitHub\\project-athena\\data\\test_AE-mnist-cnn-clean-pgd_eps0.09.npy]\n",
      ">>> Error Rate of test_AE-mnist-cnn-clean-pgd_eps0.09.npy: [0.7127562872437128]\n",
      ">>> Running evaluations on [D:\\GitHub\\project-athena\\data\\test_AE-mnist-cnn-clean-pgd_eps0.1.npy]\n",
      ">>> Error Rate of test_AE-mnist-cnn-clean-pgd_eps0.1.npy: [0.8545601454398546]\n",
      ">>> Running evaluations on [D:\\GitHub\\project-athena\\data\\test_AE-mnist-cnn-clean-pgd_eps0.11.npy]\n",
      ">>> Error Rate of test_AE-mnist-cnn-clean-pgd_eps0.11.npy: [0.952934047065953]\n",
      ">>> Running evaluations on [D:\\GitHub\\project-athena\\data\\test_AE-mnist-cnn-clean-mim_eps0.06.npy]\n",
      ">>> Error Rate of test_AE-mnist-cnn-clean-mim_eps0.06.npy: [0.2996667003332997]\n",
      ">>> Running evaluations on [D:\\GitHub\\project-athena\\data\\test_AE-mnist-cnn-clean-mim_eps0.067.npy]\n",
      ">>> Error Rate of test_AE-mnist-cnn-clean-mim_eps0.067.npy: [0.41854358145641857]\n",
      ">>> Running evaluations on [D:\\GitHub\\project-athena\\data\\test_AE-mnist-cnn-clean-mim_eps0.075.npy]\n",
      ">>> Error Rate of test_AE-mnist-cnn-clean-mim_eps0.075.npy: [0.5709524290475709]\n",
      ">>> Running evaluations on [D:\\GitHub\\project-athena\\data\\test_AE-mnist-cnn-clean-mim_eps0.085.npy]\n",
      ">>> Error Rate of test_AE-mnist-cnn-clean-mim_eps0.085.npy: [0.7467932532067468]\n",
      ">>> Running evaluations on [D:\\GitHub\\project-athena\\data\\test_AE-mnist-cnn-clean-mim_eps0.1.npy]\n",
      ">>> Error Rate of test_AE-mnist-cnn-clean-mim_eps0.1.npy: [0.9346530653469347]\n",
      ">>> Running evaluations on [D:\\GitHub\\project-athena\\data\\test_AE-mnist-cnn-clean-onepixel_pxCount15.npy]\n",
      ">>> Error Rate of test_AE-mnist-cnn-clean-onepixel_pxCount15.npy: [0.3032016967983032]\n",
      ">>> Running evaluations on [D:\\GitHub\\project-athena\\data\\test_AE-mnist-cnn-clean-onepixel_pxCount30.npy]\n",
      ">>> Error Rate of test_AE-mnist-cnn-clean-onepixel_pxCount30.npy: [0.48176951823048175]\n",
      ">>> Running evaluations on [D:\\GitHub\\project-athena\\data\\test_AE-mnist-cnn-clean-onepixel_pxCount35.npy]\n",
      ">>> Error Rate of test_AE-mnist-cnn-clean-onepixel_pxCount35.npy: [0.5536814463185536]\n",
      ">>> Running evaluations on [D:\\GitHub\\project-athena\\data\\test_AE-mnist-cnn-clean-onepixel_pxCount40.npy]\n",
      ">>> Error Rate of test_AE-mnist-cnn-clean-onepixel_pxCount40.npy: [0.6157963842036158]\n",
      ">>> Running evaluations on [D:\\GitHub\\project-athena\\data\\test_AE-mnist-cnn-clean-onepixel_pxCount75.npy]\n",
      ">>> Error Rate of test_AE-mnist-cnn-clean-onepixel_pxCount75.npy: [0.8262801737198263]\n",
      ">>> Evaluations on all ae_files dumped to [D:\\GitHub\\project-athena\\Task2\\results\\baseline_ae_evaluation_results.json]\n"
     ]
    }
   ],
   "source": [
    "# Running the baseline adversarial examples\n",
    "file = project_path.joinpath(\"Task2/configs/data-mnist.json\")\n",
    "data_configs = load_from_json(file)\n",
    "\n",
    "# load the benign samples\n",
    "data_file = project_path.joinpath(data_configs['bl_dir'], data_configs.get('all_bs_file'))\n",
    "data_bs = np.load(data_file)\n",
    "# load the corresponding true labels\n",
    "label_file = project_path.joinpath(data_configs['bl_dir'], data_configs.get('all_label_file'))\n",
    "labels = np.load(label_file)\n",
    "\n",
    "img_rows, img_cols = data_bs.shape[1], data_bs.shape[2]\n",
    "\n",
    "pred_bs = target.predict(data_bs)\n",
    "corrections = get_corrections(y_pred=pred_bs, y_true=labels)\n",
    "\n",
    "results = {}\n",
    "\n",
    "ae_files = data_configs.get('ae_files')\n",
    "\n",
    "for file in ae_files:\n",
    "    results[file] = {}\n",
    "    ae_file = project_path.joinpath(data_configs['bl_dir'], file)\n",
    "    x_adversarial = np.load(ae_file)\n",
    "    print(f\">>> Running evaluations on [{ae_file}]\")\n",
    "    pred = target.predict(x_adversarial)\n",
    "    err = error_rate(y_pred=pred, y_true=labels, correct_on_bs=corrections)\n",
    "    print(f\">>> Error Rate of {file}: [{err}]\")\n",
    "    results[file] = err\n",
    "    \n",
    "result_file = project_path.joinpath(\"Task2/results/baseline_ae_evaluation_results.json\")\n",
    "dump_to_json(results, result_file)\n",
    "print(f\">>> Evaluations on all ae_files dumped to [{result_file}]\")"
   ]
  },
  {
   "cell_type": "code",
   "execution_count": null,
   "metadata": {},
   "outputs": [],
   "source": []
  }
 ],
 "metadata": {
  "kernelspec": {
   "display_name": "Python 3",
   "language": "python",
   "name": "python3"
  },
  "language_info": {
   "codemirror_mode": {
    "name": "ipython",
    "version": 3
   },
   "file_extension": ".py",
   "mimetype": "text/x-python",
   "name": "python",
   "nbconvert_exporter": "python",
   "pygments_lexer": "ipython3",
   "version": "3.7.9"
  }
 },
 "nbformat": 4,
 "nbformat_minor": 4
}
