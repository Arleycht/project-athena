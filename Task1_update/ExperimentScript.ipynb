{
 "cells": [
  {
   "cell_type": "code",
   "execution_count": 14,
   "metadata": {},
   "outputs": [],
   "source": [
    "import os\n",
    "import sys\n",
    "from pathlib import Path"
   ]
  },
  {
   "cell_type": "code",
   "execution_count": 15,
   "metadata": {},
   "outputs": [],
   "source": [
    "# Set up proper directory paths\n",
    "\n",
    "project_path = Path().absolute().parent\n",
    "src_path = project_path.joinpath(\"src\")\n",
    "\n",
    "# Ensure the paths are properly assigned\n",
    "# If this assertion fails, change project_dir as needed to become the project directory\n",
    "# If project_dir is correct, change the name in the assertion check\n",
    "assert project_path.name == \"project-athena\", \"Parent directory name assertion failed (check the path)\""
   ]
  },
  {
   "cell_type": "code",
   "execution_count": 16,
   "metadata": {},
   "outputs": [],
   "source": [
    "# Add src_dir to module paths\n",
    "if str(src_path) not in sys.path:\n",
    "    sys.path.append(str(src_path))"
   ]
  },
  {
   "cell_type": "code",
   "execution_count": 17,
   "metadata": {},
   "outputs": [],
   "source": [
    "import time\n",
    "\n",
    "import numpy as np"
   ]
  },
  {
   "cell_type": "code",
   "execution_count": 18,
   "metadata": {},
   "outputs": [],
   "source": [
    "from matplotlib import pyplot as plt"
   ]
  },
  {
   "cell_type": "code",
   "execution_count": 19,
   "metadata": {},
   "outputs": [],
   "source": [
    "from attacks.attack import generate\n",
    "from models.athena import ENSEMBLE_STRATEGY, Ensemble\n",
    "from utils.data import subsampling\n",
    "from utils.file import load_from_json, dump_to_json\n",
    "from utils.metrics import error_rate, get_corrections\n",
    "from utils.model import load_lenet, load_pool"
   ]
  },
  {
   "cell_type": "code",
   "execution_count": 63,
   "metadata": {},
   "outputs": [],
   "source": [
    "# copied from tutorials/craft_adversarial_examples.py\n",
    "def generate_ae(model, data, labels, attack_configs,\n",
    "                eot=False,\n",
    "                save=False, output_dir=None):\n",
    "    \"\"\"\n",
    "    Generate adversarial examples\n",
    "    :param model: WeakDefense. The targeted model.\n",
    "    :param data: array. The benign samples to generate adversarial for.\n",
    "    :param labels: array or list. The true labels.\n",
    "    :param attack_configs: dictionary. Attacks and corresponding settings.\n",
    "    :param save: boolean. True, if save the adversarial examples.\n",
    "    :param output_dir: str or path. Location to save the adversarial examples.\n",
    "        It cannot be None when save is True.\n",
    "    :return:\n",
    "    \"\"\"\n",
    "    img_rows, img_cols = data.shape[1], data.shape[2]\n",
    "    num_attacks = attack_configs.get(\"num_attacks\")\n",
    "    data_loader = (data, labels)\n",
    "\n",
    "    if len(labels.shape) > 1:\n",
    "        labels = np.asarray([np.argmax(p) for p in labels])\n",
    "\n",
    "    # generate attacks one by one\n",
    "    for id in range(num_attacks):\n",
    "        key = \"configs{}\".format(id)\n",
    "        attack_args = attack_configs.get(key)\n",
    "        \n",
    "        description = attack_args['description']\n",
    "        \n",
    "        attack_args[\"eot\"] = eot\n",
    "        \n",
    "        data_adv = generate(model=model,\n",
    "                            data_loader=data_loader,\n",
    "                            attack_args=attack_args)\n",
    "        \n",
    "        # predict the adversarial examples\n",
    "        predictions = model.predict(data_adv)\n",
    "        predictions = np.asarray([np.argmax(p) for p in predictions])\n",
    "\n",
    "        err = error_rate(y_pred=predictions, y_true=labels)\n",
    "        print(\">>> error rate:\", err)\n",
    "\n",
    "        # plotting some examples\n",
    "        num_plotting = min(data.shape[0], 2)\n",
    "        for i in range(num_plotting):\n",
    "            img = data_adv[i].reshape((img_rows, img_cols))\n",
    "            plt.imshow(img, cmap='gray')\n",
    "            title = '{}: {}->{}'.format(description,\n",
    "                                        labels[i],\n",
    "                                        predictions[i])\n",
    "            plt.title(title)\n",
    "            plt.savefig(project_path.joinpath(f\"Task1_update/images/{description}-{i}-EOT_{'ON' if eot else 'OFF'}.png\"))\n",
    "            plt.show()\n",
    "            plt.close()\n",
    "\n",
    "        # save the adversarial example\n",
    "        if save:\n",
    "            if output_dir is None:\n",
    "                raise ValueError(\"Cannot save images to a none path.\")\n",
    "            # save with a random name\n",
    "            file = os.path.join(output_dir, f\"{description}.npy\")\n",
    "            print(\"Save the adversarial examples to file [{}].\".format(file))\n",
    "            np.save(file, data_adv)"
   ]
  },
  {
   "cell_type": "code",
   "execution_count": 55,
   "metadata": {
    "scrolled": true
   },
   "outputs": [
    {
     "name": "stdout",
     "output_type": "stream",
     "text": [
      ">>> Loading model [C:\\Users\\covin\\PycharmProjects\\585 Project\\project-athena\\models\\cnn\\model-mnist-cnn-clean.h5]...\n"
     ]
    }
   ],
   "source": [
    "# Load data configs\n",
    "file = project_path.joinpath(\"Task1_update/configs/data-mnist.json\")\n",
    "data_configs = load_from_json(file)\n",
    "model_configs = load_from_json(project_path.joinpath(\"Task1_update/configs/model-mnist.json\"))\n",
    "\n",
    "# load the benign samples\n",
    "data_file = project_path.joinpath(data_configs['dir'], data_configs.get('bs_file'))\n",
    "data_bs = np.load(data_file)\n",
    "# load the corresponding true labels\n",
    "label_file = project_path.joinpath(data_configs['dir'], data_configs.get('label_file'))\n",
    "labels = np.load(label_file)\n",
    "\n",
    "model_file = project_path.joinpath(model_configs['dir'], model_configs['um_file'])\n",
    "target = load_lenet(file=model_file, wrap=True)\n",
    "\n",
    "output_path = project_path.joinpath(\"Task1_update/data/adversary_examples\")"
   ]
  },
  {
   "cell_type": "code",
   "execution_count": 64,
   "metadata": {},
   "outputs": [
    {
     "name": "stdout",
     "output_type": "stream",
     "text": [
      ">>> Generating FGSM_eps0.25(EOT:OFF) examples.\n",
      ">>> error rate: 0.85\n"
     ]
    },
    {
     "data": {
      "image/png": "[encoded data removed]",
      "text/plain": [
       "<Figure size 432x288 with 1 Axes>"
      ]
     },
     "metadata": {
      "needs_background": "light"
     },
     "output_type": "display_data"
    },
    {
     "data": {
      "image/png": "[encoded data removed]",
      "text/plain": [
       "<Figure size 432x288 with 1 Axes>"
      ]
     },
     "metadata": {
      "needs_background": "light"
     },
     "output_type": "display_data"
    },
    {
     "name": "stdout",
     "output_type": "stream",
     "text": [
      "Save the adversarial examples to file [C:\\Users\\covin\\PycharmProjects\\585 Project\\project-athena\\Task1_update\\data\\adversary_examples\\FGSM_eps0.25.npy].\n"
     ]
    }
   ],
   "source": [
    "# EOT OFF\n",
    "attack_configs = load_from_json(project_path.joinpath(\"Task1_update/configs/attack-zk-mnist.json\"))\n",
    "generate_ae(model=target, data=data_bs,labels=labels, eot=False, attack_configs=attack_configs,\n",
    "            save=True, output_dir=output_path)"
   ]
  },
  {
   "cell_type": "code",
   "execution_count": 23,
   "metadata": {
    "scrolled": false
   },
   "outputs": [
    {
     "name": "stdout",
     "output_type": "stream",
     "text": [
      ">>> Generating PGD_eps0.08(EOT:ON) examples.\n",
      ">>> error rate: 0.02\n"
     ]
    },
    {
     "data": {
      "image/png": "[encoded data removed]",
      "text/plain": [
       "<Figure size 432x288 with 1 Axes>"
      ]
     },
     "metadata": {
      "needs_background": "light"
     },
     "output_type": "display_data"
    },
    {
     "data": {
      "image/png": "[encoded data removed]",
      "text/plain": [
       "<Figure size 432x288 with 1 Axes>"
      ]
     },
     "metadata": {
      "needs_background": "light"
     },
     "output_type": "display_data"
    },
    {
     "name": "stdout",
     "output_type": "stream",
     "text": [
      "Save the adversarial examples to file [C:\\Users\\covin\\PycharmProjects\\585 Project\\project-athena\\Task1_update\\data\\adversary_examples\\PGD_eps0.08.npy].\n",
      ">>> Generating PGD_eps0.12(EOT:ON) examples.\n"
     ]
    },
    {
     "ename": "KeyboardInterrupt",
     "evalue": "",
     "output_type": "error",
     "traceback": [
      "\u001b[1;31m---------------------------------------------------------------------------\u001b[0m",
      "\u001b[1;31mKeyboardInterrupt\u001b[0m                         Traceback (most recent call last)",
      "\u001b[1;32m<ipython-input-23-b9a4db35e447>\u001b[0m in \u001b[0;36m<module>\u001b[1;34m()\u001b[0m\n\u001b[0;32m      6\u001b[0m \u001b[1;31m# For an ensemble target, averaging the EOT of WDs'.\u001b[0m\u001b[1;33m\u001b[0m\u001b[1;33m\u001b[0m\u001b[1;33m\u001b[0m\u001b[0m\n\u001b[0;32m      7\u001b[0m \u001b[1;31m# let save=True and specify an output folder to save the generated AEs\u001b[0m\u001b[1;33m\u001b[0m\u001b[1;33m\u001b[0m\u001b[1;33m\u001b[0m\u001b[0m\n\u001b[1;32m----> 8\u001b[1;33m \u001b[0mgenerate_ae\u001b[0m\u001b[1;33m(\u001b[0m\u001b[0mmodel\u001b[0m\u001b[1;33m=\u001b[0m\u001b[0mtarget\u001b[0m\u001b[1;33m,\u001b[0m \u001b[0mdata\u001b[0m\u001b[1;33m=\u001b[0m\u001b[0mdata_bs\u001b[0m\u001b[1;33m,\u001b[0m \u001b[0mlabels\u001b[0m\u001b[1;33m=\u001b[0m\u001b[0mlabels\u001b[0m\u001b[1;33m,\u001b[0m \u001b[0meot\u001b[0m\u001b[1;33m=\u001b[0m\u001b[1;32mTrue\u001b[0m\u001b[1;33m,\u001b[0m \u001b[0mattack_configs\u001b[0m\u001b[1;33m=\u001b[0m\u001b[0mattack_configs\u001b[0m\u001b[1;33m,\u001b[0m \u001b[0msave\u001b[0m\u001b[1;33m=\u001b[0m\u001b[1;32mTrue\u001b[0m\u001b[1;33m,\u001b[0m \u001b[0moutput_dir\u001b[0m\u001b[1;33m=\u001b[0m\u001b[0moutput_path\u001b[0m\u001b[1;33m)\u001b[0m\u001b[1;33m\u001b[0m\u001b[1;33m\u001b[0m\u001b[0m\n\u001b[0m",
      "\u001b[1;32m<ipython-input-20-6a6e7d969227>\u001b[0m in \u001b[0;36mgenerate_ae\u001b[1;34m(model, data, labels, attack_configs, eot, save, output_dir)\u001b[0m\n\u001b[0;32m     32\u001b[0m         data_adv = generate(model=model,\n\u001b[0;32m     33\u001b[0m                             \u001b[0mdata_loader\u001b[0m\u001b[1;33m=\u001b[0m\u001b[0mdata_loader\u001b[0m\u001b[1;33m,\u001b[0m\u001b[1;33m\u001b[0m\u001b[1;33m\u001b[0m\u001b[0m\n\u001b[1;32m---> 34\u001b[1;33m                             attack_args=attack_args)\n\u001b[0m\u001b[0;32m     35\u001b[0m \u001b[1;33m\u001b[0m\u001b[0m\n\u001b[0;32m     36\u001b[0m         \u001b[1;31m# predict the adversarial examples\u001b[0m\u001b[1;33m\u001b[0m\u001b[1;33m\u001b[0m\u001b[1;33m\u001b[0m\u001b[0m\n",
      "\u001b[1;32mC:\\Users\\covin\\PycharmProjects\\585 Project\\project-athena\\src\\attacks\\attack.py\u001b[0m in \u001b[0;36mgenerate\u001b[1;34m(model, data_loader, attack_args, device)\u001b[0m\n\u001b[0;32m     50\u001b[0m         \u001b[1;32mreturn\u001b[0m \u001b[0m_cw\u001b[0m\u001b[1;33m(\u001b[0m\u001b[0mmodel\u001b[0m\u001b[1;33m,\u001b[0m \u001b[0mimages\u001b[0m\u001b[1;33m,\u001b[0m \u001b[0mlabels\u001b[0m\u001b[1;33m,\u001b[0m \u001b[0mattack_args\u001b[0m\u001b[1;33m)\u001b[0m\u001b[1;33m\u001b[0m\u001b[1;33m\u001b[0m\u001b[0m\n\u001b[0;32m     51\u001b[0m     \u001b[1;32melif\u001b[0m \u001b[0mattack\u001b[0m \u001b[1;33m==\u001b[0m \u001b[0mATTACK\u001b[0m\u001b[1;33m.\u001b[0m\u001b[0mPGD\u001b[0m\u001b[1;33m.\u001b[0m\u001b[0mvalue\u001b[0m\u001b[1;33m:\u001b[0m\u001b[1;33m\u001b[0m\u001b[1;33m\u001b[0m\u001b[0m\n\u001b[1;32m---> 52\u001b[1;33m         \u001b[1;32mreturn\u001b[0m \u001b[0m_pgd\u001b[0m\u001b[1;33m(\u001b[0m\u001b[0mmodel\u001b[0m\u001b[1;33m,\u001b[0m \u001b[0mimages\u001b[0m\u001b[1;33m,\u001b[0m \u001b[0mlabels\u001b[0m\u001b[1;33m,\u001b[0m \u001b[0mattack_args\u001b[0m\u001b[1;33m)\u001b[0m\u001b[1;33m\u001b[0m\u001b[1;33m\u001b[0m\u001b[0m\n\u001b[0m\u001b[0;32m     53\u001b[0m     \u001b[1;32melif\u001b[0m \u001b[0mattack\u001b[0m \u001b[1;33m==\u001b[0m \u001b[0mATTACK\u001b[0m\u001b[1;33m.\u001b[0m\u001b[0mBIM\u001b[0m\u001b[1;33m.\u001b[0m\u001b[0mvalue\u001b[0m\u001b[1;33m:\u001b[0m\u001b[1;33m\u001b[0m\u001b[1;33m\u001b[0m\u001b[0m\n\u001b[0;32m     54\u001b[0m         \u001b[1;32mreturn\u001b[0m \u001b[0m_bim\u001b[0m\u001b[1;33m(\u001b[0m\u001b[0mmodel\u001b[0m\u001b[1;33m,\u001b[0m \u001b[0mimages\u001b[0m\u001b[1;33m,\u001b[0m \u001b[0mlabels\u001b[0m\u001b[1;33m,\u001b[0m \u001b[0mattack_args\u001b[0m\u001b[1;33m)\u001b[0m\u001b[1;33m\u001b[0m\u001b[1;33m\u001b[0m\u001b[0m\n",
      "\u001b[1;32mC:\\Users\\covin\\PycharmProjects\\585 Project\\project-athena\\src\\attacks\\attack.py\u001b[0m in \u001b[0;36m_pgd\u001b[1;34m(model, data, labels, attack_args)\u001b[0m\n\u001b[0;32m    176\u001b[0m                                         \u001b[0mnum_random_init\u001b[0m\u001b[1;33m=\u001b[0m\u001b[0mnum_random_init\u001b[0m\u001b[1;33m,\u001b[0m \u001b[0mrandom_eps\u001b[0m\u001b[1;33m=\u001b[0m\u001b[0mrandom_eps\u001b[0m\u001b[1;33m,\u001b[0m\u001b[1;33m\u001b[0m\u001b[1;33m\u001b[0m\u001b[0m\n\u001b[0;32m    177\u001b[0m                                         distribution=distribution)\n\u001b[1;32m--> 178\u001b[1;33m     \u001b[1;32mreturn\u001b[0m \u001b[0mattacker\u001b[0m\u001b[1;33m.\u001b[0m\u001b[0mgenerate\u001b[0m\u001b[1;33m(\u001b[0m\u001b[0mdata\u001b[0m\u001b[1;33m,\u001b[0m \u001b[0mlabels\u001b[0m\u001b[1;33m)\u001b[0m\u001b[1;33m\u001b[0m\u001b[1;33m\u001b[0m\u001b[0m\n\u001b[0m\u001b[0;32m    179\u001b[0m \u001b[1;33m\u001b[0m\u001b[0m\n\u001b[0;32m    180\u001b[0m \u001b[1;33m\u001b[0m\u001b[0m\n",
      "\u001b[1;32mC:\\Users\\covin\\anaconda3\\envs\\athena_proj2\\lib\\site-packages\\art\\attacks\\attack.py\u001b[0m in \u001b[0;36mreplacement_function\u001b[1;34m(self, *args, **kwargs)\u001b[0m\n\u001b[0;32m     68\u001b[0m                 \u001b[1;32mif\u001b[0m \u001b[0mlen\u001b[0m\u001b[1;33m(\u001b[0m\u001b[0margs\u001b[0m\u001b[1;33m)\u001b[0m \u001b[1;33m>\u001b[0m \u001b[1;36m0\u001b[0m\u001b[1;33m:\u001b[0m\u001b[1;33m\u001b[0m\u001b[1;33m\u001b[0m\u001b[0m\n\u001b[0;32m     69\u001b[0m                     \u001b[0margs\u001b[0m \u001b[1;33m=\u001b[0m \u001b[0mtuple\u001b[0m\u001b[1;33m(\u001b[0m\u001b[0mlst\u001b[0m\u001b[1;33m)\u001b[0m\u001b[1;33m\u001b[0m\u001b[1;33m\u001b[0m\u001b[0m\n\u001b[1;32m---> 70\u001b[1;33m                 \u001b[1;32mreturn\u001b[0m \u001b[0mfdict\u001b[0m\u001b[1;33m[\u001b[0m\u001b[0mfunc_name\u001b[0m\u001b[1;33m]\u001b[0m\u001b[1;33m(\u001b[0m\u001b[0mself\u001b[0m\u001b[1;33m,\u001b[0m \u001b[1;33m*\u001b[0m\u001b[0margs\u001b[0m\u001b[1;33m,\u001b[0m \u001b[1;33m**\u001b[0m\u001b[0mkwargs\u001b[0m\u001b[1;33m)\u001b[0m\u001b[1;33m\u001b[0m\u001b[1;33m\u001b[0m\u001b[0m\n\u001b[0m\u001b[0;32m     71\u001b[0m \u001b[1;33m\u001b[0m\u001b[0m\n\u001b[0;32m     72\u001b[0m             \u001b[0mreplacement_function\u001b[0m\u001b[1;33m.\u001b[0m\u001b[0m__doc__\u001b[0m \u001b[1;33m=\u001b[0m \u001b[0mfdict\u001b[0m\u001b[1;33m[\u001b[0m\u001b[0mfunc_name\u001b[0m\u001b[1;33m]\u001b[0m\u001b[1;33m.\u001b[0m\u001b[0m__doc__\u001b[0m\u001b[1;33m\u001b[0m\u001b[1;33m\u001b[0m\u001b[0m\n",
      "\u001b[1;32mC:\\Users\\covin\\PycharmProjects\\585 Project\\project-athena\\src\\attacks\\pgd.py\u001b[0m in \u001b[0;36mgenerate\u001b[1;34m(self, x, y, **kwargs)\u001b[0m\n\u001b[0;32m    167\u001b[0m                     \u001b[0mself\u001b[0m\u001b[1;33m.\u001b[0m\u001b[0meps_step\u001b[0m\u001b[1;33m,\u001b[0m\u001b[1;33m\u001b[0m\u001b[1;33m\u001b[0m\u001b[0m\n\u001b[0;32m    168\u001b[0m                     \u001b[0mself\u001b[0m\u001b[1;33m.\u001b[0m\u001b[0m_project\u001b[0m\u001b[1;33m,\u001b[0m\u001b[1;33m\u001b[0m\u001b[1;33m\u001b[0m\u001b[0m\n\u001b[1;32m--> 169\u001b[1;33m                     \u001b[0mself\u001b[0m\u001b[1;33m.\u001b[0m\u001b[0mnum_random_init\u001b[0m \u001b[1;33m>\u001b[0m \u001b[1;36m0\u001b[0m \u001b[1;32mand\u001b[0m \u001b[0mi_max_iter\u001b[0m \u001b[1;33m==\u001b[0m \u001b[1;36m0\u001b[0m\u001b[1;33m,\u001b[0m\u001b[1;33m\u001b[0m\u001b[1;33m\u001b[0m\u001b[0m\n\u001b[0m\u001b[0;32m    170\u001b[0m                 )\n\u001b[0;32m    171\u001b[0m \u001b[1;33m\u001b[0m\u001b[0m\n",
      "\u001b[1;32mC:\\Users\\covin\\PycharmProjects\\585 Project\\project-athena\\src\\attacks\\fast_gradient.py\u001b[0m in \u001b[0;36m_compute\u001b[1;34m(self, x, x_init, y, eps, eps_step, project, random_init)\u001b[0m\n\u001b[0;32m    370\u001b[0m \u001b[1;33m\u001b[0m\u001b[0m\n\u001b[0;32m    371\u001b[0m             \u001b[1;31m# Get perturbation\u001b[0m\u001b[1;33m\u001b[0m\u001b[1;33m\u001b[0m\u001b[1;33m\u001b[0m\u001b[0m\n\u001b[1;32m--> 372\u001b[1;33m             \u001b[0mperturbation\u001b[0m \u001b[1;33m=\u001b[0m \u001b[0mself\u001b[0m\u001b[1;33m.\u001b[0m\u001b[0m_compute_perturbation\u001b[0m\u001b[1;33m(\u001b[0m\u001b[0mbatch\u001b[0m\u001b[1;33m,\u001b[0m \u001b[0mbatch_labels\u001b[0m\u001b[1;33m)\u001b[0m\u001b[1;33m\u001b[0m\u001b[1;33m\u001b[0m\u001b[0m\n\u001b[0m\u001b[0;32m    373\u001b[0m \u001b[1;33m\u001b[0m\u001b[0m\n\u001b[0;32m    374\u001b[0m             \u001b[1;31m# Apply perturbation and clip\u001b[0m\u001b[1;33m\u001b[0m\u001b[1;33m\u001b[0m\u001b[1;33m\u001b[0m\u001b[0m\n",
      "\u001b[1;32mC:\\Users\\covin\\PycharmProjects\\585 Project\\project-athena\\src\\attacks\\fast_gradient.py\u001b[0m in \u001b[0;36m_compute_perturbation\u001b[1;34m(self, batch, batch_labels)\u001b[0m\n\u001b[0;32m    306\u001b[0m             \u001b[1;32mfor\u001b[0m \u001b[0mi\u001b[0m \u001b[1;32min\u001b[0m \u001b[0mrange\u001b[0m\u001b[1;33m(\u001b[0m\u001b[0mnum_examples\u001b[0m\u001b[1;33m)\u001b[0m\u001b[1;33m:\u001b[0m\u001b[1;33m\u001b[0m\u001b[1;33m\u001b[0m\u001b[0m\n\u001b[0;32m    307\u001b[0m                 \u001b[1;32mfor\u001b[0m \u001b[0mj\u001b[0m \u001b[1;32min\u001b[0m \u001b[0mrange\u001b[0m\u001b[1;33m(\u001b[0m\u001b[0m_num_samples\u001b[0m\u001b[1;33m)\u001b[0m\u001b[1;33m:\u001b[0m\u001b[1;33m\u001b[0m\u001b[1;33m\u001b[0m\u001b[0m\n\u001b[1;32m--> 308\u001b[1;33m                     \u001b[0msyn_batch\u001b[0m\u001b[1;33m.\u001b[0m\u001b[0mappend\u001b[0m\u001b[1;33m(\u001b[0m\u001b[0msample_from_distribution\u001b[0m\u001b[1;33m(\u001b[0m\u001b[0mbatch\u001b[0m\u001b[1;33m[\u001b[0m\u001b[0mi\u001b[0m\u001b[1;33m]\u001b[0m\u001b[1;33m,\u001b[0m \u001b[0mself\u001b[0m\u001b[1;33m.\u001b[0m\u001b[0mdistribution\u001b[0m\u001b[1;33m)\u001b[0m\u001b[1;33m)\u001b[0m\u001b[1;33m\u001b[0m\u001b[1;33m\u001b[0m\u001b[0m\n\u001b[0m\u001b[0;32m    309\u001b[0m                     \u001b[0msyn_batch_labels\u001b[0m\u001b[1;33m.\u001b[0m\u001b[0mappend\u001b[0m\u001b[1;33m(\u001b[0m\u001b[0mbatch_labels\u001b[0m\u001b[1;33m[\u001b[0m\u001b[0mi\u001b[0m\u001b[1;33m]\u001b[0m\u001b[1;33m)\u001b[0m\u001b[1;33m\u001b[0m\u001b[1;33m\u001b[0m\u001b[0m\n\u001b[0;32m    310\u001b[0m \u001b[1;33m\u001b[0m\u001b[0m\n",
      "\u001b[1;32mC:\\Users\\covin\\PycharmProjects\\585 Project\\project-athena\\src\\attacks\\distribution.py\u001b[0m in \u001b[0;36msample_from_distribution\u001b[1;34m(x, distribution_args)\u001b[0m\n\u001b[0;32m     94\u001b[0m         \u001b[0mtrans_args\u001b[0m\u001b[1;33m[\u001b[0m\u001b[1;34m\"y_offset\"\u001b[0m\u001b[1;33m]\u001b[0m \u001b[1;33m=\u001b[0m \u001b[0my_offset\u001b[0m\u001b[1;33m\u001b[0m\u001b[1;33m\u001b[0m\u001b[0m\n\u001b[0;32m     95\u001b[0m         \u001b[0mtrans_args\u001b[0m\u001b[1;33m[\u001b[0m\u001b[1;34m\"description\"\u001b[0m\u001b[1;33m]\u001b[0m \u001b[1;33m=\u001b[0m \u001b[1;34m\"shift[{},{}]\"\u001b[0m\u001b[1;33m.\u001b[0m\u001b[0mformat\u001b[0m\u001b[1;33m(\u001b[0m\u001b[0mx_offset\u001b[0m\u001b[1;33m,\u001b[0m \u001b[0my_offset\u001b[0m\u001b[1;33m)\u001b[0m\u001b[1;33m\u001b[0m\u001b[1;33m\u001b[0m\u001b[0m\n\u001b[1;32m---> 96\u001b[1;33m         \u001b[0mx_trans\u001b[0m \u001b[1;33m=\u001b[0m \u001b[0mtransform\u001b[0m\u001b[1;33m(\u001b[0m\u001b[0mx\u001b[0m\u001b[1;33m,\u001b[0m \u001b[0mtrans_args\u001b[0m\u001b[1;33m)\u001b[0m\u001b[1;33m[\u001b[0m\u001b[1;36m0\u001b[0m\u001b[1;33m]\u001b[0m\u001b[1;33m\u001b[0m\u001b[1;33m\u001b[0m\u001b[0m\n\u001b[0m\u001b[0;32m     97\u001b[0m \u001b[1;33m\u001b[0m\u001b[0m\n\u001b[0;32m     98\u001b[0m     \u001b[1;32melif\u001b[0m \u001b[0mtransformation\u001b[0m \u001b[1;33m==\u001b[0m \u001b[0mTRANSFORMATION_DISTRIBUTION\u001b[0m\u001b[1;33m.\u001b[0m\u001b[0mAFFINE\u001b[0m\u001b[1;33m.\u001b[0m\u001b[0mvalue\u001b[0m\u001b[1;33m:\u001b[0m\u001b[1;33m\u001b[0m\u001b[1;33m\u001b[0m\u001b[0m\n",
      "\u001b[1;32mC:\\Users\\covin\\PycharmProjects\\585 Project\\project-athena\\src\\models\\image_processor.py\u001b[0m in \u001b[0;36mtransform\u001b[1;34m(X, trans_args)\u001b[0m\n\u001b[0;32m     33\u001b[0m     \u001b[1;32melse\u001b[0m\u001b[1;33m:\u001b[0m\u001b[1;33m\u001b[0m\u001b[1;33m\u001b[0m\u001b[0m\n\u001b[0;32m     34\u001b[0m         \u001b[0mX_trans\u001b[0m \u001b[1;33m=\u001b[0m \u001b[0m_transform_images\u001b[0m\u001b[1;33m(\u001b[0m\u001b[0mX\u001b[0m\u001b[1;33m,\u001b[0m \u001b[0mtrans_args\u001b[0m\u001b[1;33m)\u001b[0m\u001b[1;33m.\u001b[0m\u001b[0mastype\u001b[0m\u001b[1;33m(\u001b[0m\u001b[0mnp\u001b[0m\u001b[1;33m.\u001b[0m\u001b[0mfloat32\u001b[0m\u001b[1;33m)\u001b[0m\u001b[1;33m\u001b[0m\u001b[1;33m\u001b[0m\u001b[0m\n\u001b[1;32m---> 35\u001b[1;33m         \u001b[1;32mreturn\u001b[0m \u001b[0mnp\u001b[0m\u001b[1;33m.\u001b[0m\u001b[0mclip\u001b[0m\u001b[1;33m(\u001b[0m\u001b[0mX_trans\u001b[0m\u001b[1;33m,\u001b[0m \u001b[1;36m0.\u001b[0m\u001b[1;33m,\u001b[0m \u001b[1;36m1.\u001b[0m\u001b[1;33m)\u001b[0m\u001b[1;33m\u001b[0m\u001b[1;33m\u001b[0m\u001b[0m\n\u001b[0m\u001b[0;32m     36\u001b[0m \u001b[1;33m\u001b[0m\u001b[0m\n\u001b[0;32m     37\u001b[0m \u001b[1;33m\u001b[0m\u001b[0m\n",
      "\u001b[1;32m<__array_function__ internals>\u001b[0m in \u001b[0;36mclip\u001b[1;34m(*args, **kwargs)\u001b[0m\n",
      "\u001b[1;32mC:\\Users\\covin\\anaconda3\\envs\\athena_proj2\\lib\\site-packages\\numpy\\core\\fromnumeric.py\u001b[0m in \u001b[0;36mclip\u001b[1;34m(a, a_min, a_max, out, **kwargs)\u001b[0m\n\u001b[0;32m   2095\u001b[0m \u001b[1;33m\u001b[0m\u001b[0m\n\u001b[0;32m   2096\u001b[0m     \"\"\"\n\u001b[1;32m-> 2097\u001b[1;33m     \u001b[1;32mreturn\u001b[0m \u001b[0m_wrapfunc\u001b[0m\u001b[1;33m(\u001b[0m\u001b[0ma\u001b[0m\u001b[1;33m,\u001b[0m \u001b[1;34m'clip'\u001b[0m\u001b[1;33m,\u001b[0m \u001b[0ma_min\u001b[0m\u001b[1;33m,\u001b[0m \u001b[0ma_max\u001b[0m\u001b[1;33m,\u001b[0m \u001b[0mout\u001b[0m\u001b[1;33m=\u001b[0m\u001b[0mout\u001b[0m\u001b[1;33m,\u001b[0m \u001b[1;33m**\u001b[0m\u001b[0mkwargs\u001b[0m\u001b[1;33m)\u001b[0m\u001b[1;33m\u001b[0m\u001b[1;33m\u001b[0m\u001b[0m\n\u001b[0m\u001b[0;32m   2098\u001b[0m \u001b[1;33m\u001b[0m\u001b[0m\n\u001b[0;32m   2099\u001b[0m \u001b[1;33m\u001b[0m\u001b[0m\n",
      "\u001b[1;32mC:\\Users\\covin\\anaconda3\\envs\\athena_proj2\\lib\\site-packages\\numpy\\core\\fromnumeric.py\u001b[0m in \u001b[0;36m_wrapfunc\u001b[1;34m(obj, method, *args, **kwds)\u001b[0m\n\u001b[0;32m     56\u001b[0m \u001b[1;33m\u001b[0m\u001b[0m\n\u001b[0;32m     57\u001b[0m     \u001b[1;32mtry\u001b[0m\u001b[1;33m:\u001b[0m\u001b[1;33m\u001b[0m\u001b[1;33m\u001b[0m\u001b[0m\n\u001b[1;32m---> 58\u001b[1;33m         \u001b[1;32mreturn\u001b[0m \u001b[0mbound\u001b[0m\u001b[1;33m(\u001b[0m\u001b[1;33m*\u001b[0m\u001b[0margs\u001b[0m\u001b[1;33m,\u001b[0m \u001b[1;33m**\u001b[0m\u001b[0mkwds\u001b[0m\u001b[1;33m)\u001b[0m\u001b[1;33m\u001b[0m\u001b[1;33m\u001b[0m\u001b[0m\n\u001b[0m\u001b[0;32m     59\u001b[0m     \u001b[1;32mexcept\u001b[0m \u001b[0mTypeError\u001b[0m\u001b[1;33m:\u001b[0m\u001b[1;33m\u001b[0m\u001b[1;33m\u001b[0m\u001b[0m\n\u001b[0;32m     60\u001b[0m         \u001b[1;31m# A TypeError occurs if the object does have such a method in its\u001b[0m\u001b[1;33m\u001b[0m\u001b[1;33m\u001b[0m\u001b[1;33m\u001b[0m\u001b[0m\n",
      "\u001b[1;32mC:\\Users\\covin\\anaconda3\\envs\\athena_proj2\\lib\\site-packages\\numpy\\core\\_methods.py\u001b[0m in \u001b[0;36m_clip\u001b[1;34m(a, min, max, out, casting, **kwargs)\u001b[0m\n\u001b[0;32m    139\u001b[0m     \u001b[1;32melse\u001b[0m\u001b[1;33m:\u001b[0m\u001b[1;33m\u001b[0m\u001b[1;33m\u001b[0m\u001b[0m\n\u001b[0;32m    140\u001b[0m         return _clip_dep_invoke_with_casting(\n\u001b[1;32m--> 141\u001b[1;33m             um.clip, a, min, max, out=out, casting=casting, **kwargs)\n\u001b[0m\u001b[0;32m    142\u001b[0m \u001b[1;33m\u001b[0m\u001b[0m\n\u001b[0;32m    143\u001b[0m \u001b[1;32mdef\u001b[0m \u001b[0m_mean\u001b[0m\u001b[1;33m(\u001b[0m\u001b[0ma\u001b[0m\u001b[1;33m,\u001b[0m \u001b[0maxis\u001b[0m\u001b[1;33m=\u001b[0m\u001b[1;32mNone\u001b[0m\u001b[1;33m,\u001b[0m \u001b[0mdtype\u001b[0m\u001b[1;33m=\u001b[0m\u001b[1;32mNone\u001b[0m\u001b[1;33m,\u001b[0m \u001b[0mout\u001b[0m\u001b[1;33m=\u001b[0m\u001b[1;32mNone\u001b[0m\u001b[1;33m,\u001b[0m \u001b[0mkeepdims\u001b[0m\u001b[1;33m=\u001b[0m\u001b[1;32mFalse\u001b[0m\u001b[1;33m)\u001b[0m\u001b[1;33m:\u001b[0m\u001b[1;33m\u001b[0m\u001b[1;33m\u001b[0m\u001b[0m\n",
      "\u001b[1;32mC:\\Users\\covin\\anaconda3\\envs\\athena_proj2\\lib\\site-packages\\numpy\\core\\_methods.py\u001b[0m in \u001b[0;36m_clip_dep_invoke_with_casting\u001b[1;34m(ufunc, out, casting, *args, **kwargs)\u001b[0m\n\u001b[0;32m     92\u001b[0m     \u001b[1;31m# try to deal with broken casting rules\u001b[0m\u001b[1;33m\u001b[0m\u001b[1;33m\u001b[0m\u001b[1;33m\u001b[0m\u001b[0m\n\u001b[0;32m     93\u001b[0m     \u001b[1;32mtry\u001b[0m\u001b[1;33m:\u001b[0m\u001b[1;33m\u001b[0m\u001b[1;33m\u001b[0m\u001b[0m\n\u001b[1;32m---> 94\u001b[1;33m         \u001b[1;32mreturn\u001b[0m \u001b[0mufunc\u001b[0m\u001b[1;33m(\u001b[0m\u001b[1;33m*\u001b[0m\u001b[0margs\u001b[0m\u001b[1;33m,\u001b[0m \u001b[0mout\u001b[0m\u001b[1;33m=\u001b[0m\u001b[0mout\u001b[0m\u001b[1;33m,\u001b[0m \u001b[1;33m**\u001b[0m\u001b[0mkwargs\u001b[0m\u001b[1;33m)\u001b[0m\u001b[1;33m\u001b[0m\u001b[1;33m\u001b[0m\u001b[0m\n\u001b[0m\u001b[0;32m     95\u001b[0m     \u001b[1;32mexcept\u001b[0m \u001b[0m_exceptions\u001b[0m\u001b[1;33m.\u001b[0m\u001b[0m_UFuncOutputCastingError\u001b[0m \u001b[1;32mas\u001b[0m \u001b[0me\u001b[0m\u001b[1;33m:\u001b[0m\u001b[1;33m\u001b[0m\u001b[1;33m\u001b[0m\u001b[0m\n\u001b[0;32m     96\u001b[0m         \u001b[1;31m# Numpy 1.17.0, 2019-02-24\u001b[0m\u001b[1;33m\u001b[0m\u001b[1;33m\u001b[0m\u001b[1;33m\u001b[0m\u001b[0m\n",
      "\u001b[1;31mKeyboardInterrupt\u001b[0m: "
     ]
    }
   ],
   "source": [
    "# EOT ON\n",
    "attack_configs = load_from_json(project_path.joinpath(\"Task1_update/configs/attack-zk-mnist-EOT_ON.json\"))\n",
    "\n",
    "# Adaptive approach (with EOT)\n",
    "# Compute the loss expectation over specific distribution.\n",
    "# For an ensemble target, averaging the EOT of WDs'.\n",
    "# let save=True and specify an output folder to save the generated AEs\n",
    "generate_ae(model=target, data=data_bs, labels=labels, eot=True, attack_configs=attack_configs, save=True, output_dir=output_path)"
   ]
  },
  {
   "cell_type": "markdown",
   "metadata": {},
   "source": [
    "# Evaluating the generated adverserial example on the vanilla Athena."
   ]
  },
  {
   "cell_type": "code",
   "execution_count": null,
   "metadata": {},
   "outputs": [],
   "source": [
    "file = project_path.joinpath(\"Task1_update/configs/data-mnist.json\")\n",
    "data_configs = load_from_json(file)\n",
    "\n",
    "img_rows, img_cols = data_bs.shape[1], data_bs.shape[2]\n",
    "\n",
    "pred_bs = target.predict(data_bs)\n",
    "corrections = get_corrections(y_pred=pred_bs, y_true=labels)\n",
    "\n",
    "results = {}\n",
    "\n",
    "ae_files = data_configs.get('task2_aes')\n",
    "\n",
    "for file in ae_files:\n",
    "    results[file] = {}\n",
    "    ae_file = project_path.joinpath(data_configs['dir'], file)\n",
    "    x_adversarial = np.load(ae_file)\n",
    "    print(f\">>> Running evaluations on [{ae_file}]\")\n",
    "    pred = target.predict(x_adversarial)\n",
    "    err = error_rate(y_pred=pred, y_true=labels, correct_on_bs=corrections)\n",
    "    print(f\">>> Error Rate of {file}: [{err}]\")\n",
    "    results[file] = err\n",
    "    \n",
    "result_file = project_path.joinpath(\"Task2/results/ae_evaluation_results.json\")\n",
    "dump_to_json(results, result_file)\n",
    "print(f\">>> Evaluations on all ae_files dumped to [{result_file}]\")"
   ]
  },
  {
   "cell_type": "code",
   "execution_count": 12,
   "metadata": {},
   "outputs": [
    {
     "name": "stdout",
     "output_type": "stream",
     "text": [
      ">>> Running evaluations on [D:\\GitHub\\project-athena\\data\\test_AE-mnist-cnn-clean-fgsm_eps0.1.npy]\n",
      ">>> Error Rate of test_AE-mnist-cnn-clean-fgsm_eps0.1.npy: [0.25148974851025147]\n",
      ">>> Running evaluations on [D:\\GitHub\\project-athena\\data\\test_AE-mnist-cnn-clean-fgsm_eps0.15.npy]\n",
      ">>> Error Rate of test_AE-mnist-cnn-clean-fgsm_eps0.15.npy: [0.5145944854055146]\n",
      ">>> Running evaluations on [D:\\GitHub\\project-athena\\data\\test_AE-mnist-cnn-clean-fgsm_eps0.2.npy]\n",
      ">>> Error Rate of test_AE-mnist-cnn-clean-fgsm_eps0.2.npy: [0.711948288051712]\n",
      ">>> Running evaluations on [D:\\GitHub\\project-athena\\data\\test_AE-mnist-cnn-clean-fgsm_eps0.25.npy]\n",
      ">>> Error Rate of test_AE-mnist-cnn-clean-fgsm_eps0.25.npy: [0.8253711746288254]\n",
      ">>> Running evaluations on [D:\\GitHub\\project-athena\\data\\test_AE-mnist-cnn-clean-fgsm_eps0.3.npy]\n",
      ">>> Error Rate of test_AE-mnist-cnn-clean-fgsm_eps0.3.npy: [0.8842541157458843]\n",
      ">>> Running evaluations on [D:\\GitHub\\project-athena\\data\\test_AE-mnist-cnn-clean-bim_ord2_eps0.75.npy]\n",
      ">>> Error Rate of test_AE-mnist-cnn-clean-bim_ord2_eps0.75.npy: [0.3794566205433795]\n",
      ">>> Running evaluations on [D:\\GitHub\\project-athena\\data\\test_AE-mnist-cnn-clean-bim_ord2_eps0.85.npy]\n",
      ">>> Error Rate of test_AE-mnist-cnn-clean-bim_ord2_eps0.85.npy: [0.526916473083527]\n",
      ">>> Running evaluations on [D:\\GitHub\\project-athena\\data\\test_AE-mnist-cnn-clean-bim_ord2_eps1.npy]\n",
      ">>> Error Rate of test_AE-mnist-cnn-clean-bim_ord2_eps1.npy: [0.7402282597717402]\n",
      ">>> Running evaluations on [D:\\GitHub\\project-athena\\data\\test_AE-mnist-cnn-clean-bim_ord2_eps1.1.npy]\n",
      ">>> Error Rate of test_AE-mnist-cnn-clean-bim_ord2_eps1.1.npy: [0.8532471467528533]\n",
      ">>> Running evaluations on [D:\\GitHub\\project-athena\\data\\test_AE-mnist-cnn-clean-bim_ord2_eps1.2.npy]\n",
      ">>> Error Rate of test_AE-mnist-cnn-clean-bim_ord2_eps1.2.npy: [0.9203110796889203]\n",
      ">>> Running evaluations on [D:\\GitHub\\project-athena\\data\\test_AE-mnist-cnn-clean-bim_ordinf_eps0.075.npy]\n",
      ">>> Error Rate of test_AE-mnist-cnn-clean-bim_ordinf_eps0.075.npy: [0.3937986062013938]\n",
      ">>> Running evaluations on [D:\\GitHub\\project-athena\\data\\test_AE-mnist-cnn-clean-bim_ordinf_eps0.082.npy]\n",
      ">>> Error Rate of test_AE-mnist-cnn-clean-bim_ordinf_eps0.082.npy: [0.5303504696495304]\n",
      ">>> Running evaluations on [D:\\GitHub\\project-athena\\data\\test_AE-mnist-cnn-clean-bim_ordinf_eps0.09.npy]\n",
      ">>> Error Rate of test_AE-mnist-cnn-clean-bim_ordinf_eps0.09.npy: [0.6817493182506817]\n",
      ">>> Running evaluations on [D:\\GitHub\\project-athena\\data\\test_AE-mnist-cnn-clean-bim_ordinf_eps0.1.npy]\n",
      ">>> Error Rate of test_AE-mnist-cnn-clean-bim_ordinf_eps0.1.npy: [0.825068174931825]\n",
      ">>> Running evaluations on [D:\\GitHub\\project-athena\\data\\test_AE-mnist-cnn-clean-bim_ordinf_eps0.12.npy]\n",
      ">>> Error Rate of test_AE-mnist-cnn-clean-bim_ordinf_eps0.12.npy: [0.9637410362589638]\n",
      ">>> Running evaluations on [D:\\GitHub\\project-athena\\data\\test_AE-mnist-cnn-clean-cw_l2_lr0.0098.npy]\n",
      ">>> Error Rate of test_AE-mnist-cnn-clean-cw_l2_lr0.0098.npy: [0.6043833956166044]\n",
      ">>> Running evaluations on [D:\\GitHub\\project-athena\\data\\test_AE-mnist-cnn-clean-cw_l2_lr0.01.npy]\n",
      ">>> Error Rate of test_AE-mnist-cnn-clean-cw_l2_lr0.01.npy: [0.6227653772346228]\n",
      ">>> Running evaluations on [D:\\GitHub\\project-athena\\data\\test_AE-mnist-cnn-clean-cw_l2_lr0.012.npy]\n",
      ">>> Error Rate of test_AE-mnist-cnn-clean-cw_l2_lr0.012.npy: [0.7608322391677609]\n",
      ">>> Running evaluations on [D:\\GitHub\\project-athena\\data\\test_AE-mnist-cnn-clean-cw_l2_lr0.015.npy]\n",
      ">>> Error Rate of test_AE-mnist-cnn-clean-cw_l2_lr0.015.npy: [0.8710231289768711]\n",
      ">>> Running evaluations on [D:\\GitHub\\project-athena\\data\\test_AE-mnist-cnn-clean-cw_l2_lr0.018.npy]\n",
      ">>> Error Rate of test_AE-mnist-cnn-clean-cw_l2_lr0.018.npy: [0.9180890819109181]\n",
      ">>> Running evaluations on [D:\\GitHub\\project-athena\\data\\test_AE-mnist-cnn-clean-deepfool_l2_overshoot3.npy]\n",
      ">>> Error Rate of test_AE-mnist-cnn-clean-deepfool_l2_overshoot3.npy: [0.31835168164831834]\n",
      ">>> Running evaluations on [D:\\GitHub\\project-athena\\data\\test_AE-mnist-cnn-clean-deepfool_l2_overshoot5.npy]\n",
      ">>> Error Rate of test_AE-mnist-cnn-clean-deepfool_l2_overshoot5.npy: [0.5394404605595394]\n",
      ">>> Running evaluations on [D:\\GitHub\\project-athena\\data\\test_AE-mnist-cnn-clean-deepfool_l2_overshoot8.npy]\n",
      ">>> Error Rate of test_AE-mnist-cnn-clean-deepfool_l2_overshoot8.npy: [0.6655893344106656]\n",
      ">>> Running evaluations on [D:\\GitHub\\project-athena\\data\\test_AE-mnist-cnn-clean-deepfool_l2_overshoot16.npy]\n",
      ">>> Error Rate of test_AE-mnist-cnn-clean-deepfool_l2_overshoot16.npy: [0.7681042318957682]\n",
      ">>> Running evaluations on [D:\\GitHub\\project-athena\\data\\test_AE-mnist-cnn-clean-deepfool_l2_overshoot50.npy]\n",
      ">>> Error Rate of test_AE-mnist-cnn-clean-deepfool_l2_overshoot50.npy: [0.8380971619028381]\n",
      ">>> Running evaluations on [D:\\GitHub\\project-athena\\data\\test_AE-mnist-cnn-clean-jsma_theta0.15_gamma0.5.npy]\n",
      ">>> Error Rate of test_AE-mnist-cnn-clean-jsma_theta0.15_gamma0.5.npy: [0.36612463387536615]\n",
      ">>> Running evaluations on [D:\\GitHub\\project-athena\\data\\test_AE-mnist-cnn-clean-jsma_theta0.17_gamma0.5.npy]\n",
      ">>> Error Rate of test_AE-mnist-cnn-clean-jsma_theta0.17_gamma0.5.npy: [0.5359054640945359]\n",
      ">>> Running evaluations on [D:\\GitHub\\project-athena\\data\\test_AE-mnist-cnn-clean-jsma_theta0.18_gamma0.5.npy]\n",
      ">>> Error Rate of test_AE-mnist-cnn-clean-jsma_theta0.18_gamma0.5.npy: [0.6106453893546107]\n",
      ">>> Running evaluations on [D:\\GitHub\\project-athena\\data\\test_AE-mnist-cnn-clean-jsma_theta0.21_gamma0.5.npy]\n",
      ">>> Error Rate of test_AE-mnist-cnn-clean-jsma_theta0.21_gamma0.5.npy: [0.8036561963438037]\n",
      ">>> Running evaluations on [D:\\GitHub\\project-athena\\data\\test_AE-mnist-cnn-clean-jsma_theta0.25_gamma0.5.npy]\n",
      ">>> Error Rate of test_AE-mnist-cnn-clean-jsma_theta0.25_gamma0.5.npy: [0.9206140793859207]\n",
      ">>> Running evaluations on [D:\\GitHub\\project-athena\\data\\test_AE-mnist-cnn-clean-pgd_eps0.075.npy]\n",
      ">>> Error Rate of test_AE-mnist-cnn-clean-pgd_eps0.075.npy: [0.40904959095040905]\n",
      ">>> Running evaluations on [D:\\GitHub\\project-athena\\data\\test_AE-mnist-cnn-clean-pgd_eps0.082.npy]\n",
      ">>> Error Rate of test_AE-mnist-cnn-clean-pgd_eps0.082.npy: [0.6786183213816787]\n",
      ">>> Running evaluations on [D:\\GitHub\\project-athena\\data\\test_AE-mnist-cnn-clean-pgd_eps0.09.npy]\n",
      ">>> Error Rate of test_AE-mnist-cnn-clean-pgd_eps0.09.npy: [0.7127562872437128]\n",
      ">>> Running evaluations on [D:\\GitHub\\project-athena\\data\\test_AE-mnist-cnn-clean-pgd_eps0.1.npy]\n",
      ">>> Error Rate of test_AE-mnist-cnn-clean-pgd_eps0.1.npy: [0.8545601454398546]\n",
      ">>> Running evaluations on [D:\\GitHub\\project-athena\\data\\test_AE-mnist-cnn-clean-pgd_eps0.11.npy]\n",
      ">>> Error Rate of test_AE-mnist-cnn-clean-pgd_eps0.11.npy: [0.952934047065953]\n",
      ">>> Running evaluations on [D:\\GitHub\\project-athena\\data\\test_AE-mnist-cnn-clean-mim_eps0.06.npy]\n",
      ">>> Error Rate of test_AE-mnist-cnn-clean-mim_eps0.06.npy: [0.2996667003332997]\n",
      ">>> Running evaluations on [D:\\GitHub\\project-athena\\data\\test_AE-mnist-cnn-clean-mim_eps0.067.npy]\n",
      ">>> Error Rate of test_AE-mnist-cnn-clean-mim_eps0.067.npy: [0.41854358145641857]\n",
      ">>> Running evaluations on [D:\\GitHub\\project-athena\\data\\test_AE-mnist-cnn-clean-mim_eps0.075.npy]\n",
      ">>> Error Rate of test_AE-mnist-cnn-clean-mim_eps0.075.npy: [0.5709524290475709]\n",
      ">>> Running evaluations on [D:\\GitHub\\project-athena\\data\\test_AE-mnist-cnn-clean-mim_eps0.085.npy]\n",
      ">>> Error Rate of test_AE-mnist-cnn-clean-mim_eps0.085.npy: [0.7467932532067468]\n",
      ">>> Running evaluations on [D:\\GitHub\\project-athena\\data\\test_AE-mnist-cnn-clean-mim_eps0.1.npy]\n",
      ">>> Error Rate of test_AE-mnist-cnn-clean-mim_eps0.1.npy: [0.9346530653469347]\n",
      ">>> Running evaluations on [D:\\GitHub\\project-athena\\data\\test_AE-mnist-cnn-clean-onepixel_pxCount15.npy]\n",
      ">>> Error Rate of test_AE-mnist-cnn-clean-onepixel_pxCount15.npy: [0.3032016967983032]\n",
      ">>> Running evaluations on [D:\\GitHub\\project-athena\\data\\test_AE-mnist-cnn-clean-onepixel_pxCount30.npy]\n",
      ">>> Error Rate of test_AE-mnist-cnn-clean-onepixel_pxCount30.npy: [0.48176951823048175]\n",
      ">>> Running evaluations on [D:\\GitHub\\project-athena\\data\\test_AE-mnist-cnn-clean-onepixel_pxCount35.npy]\n",
      ">>> Error Rate of test_AE-mnist-cnn-clean-onepixel_pxCount35.npy: [0.5536814463185536]\n",
      ">>> Running evaluations on [D:\\GitHub\\project-athena\\data\\test_AE-mnist-cnn-clean-onepixel_pxCount40.npy]\n",
      ">>> Error Rate of test_AE-mnist-cnn-clean-onepixel_pxCount40.npy: [0.6157963842036158]\n",
      ">>> Running evaluations on [D:\\GitHub\\project-athena\\data\\test_AE-mnist-cnn-clean-onepixel_pxCount75.npy]\n",
      ">>> Error Rate of test_AE-mnist-cnn-clean-onepixel_pxCount75.npy: [0.8262801737198263]\n",
      ">>> Evaluations on all ae_files dumped to [D:\\GitHub\\project-athena\\Task2\\results\\baseline_ae_evaluation_results.json]\n"
     ]
    }
   ],
   "source": [
    "# Running the baseline adversarial examples\n",
    "file = project_path.joinpath(\"Task2/configs/data-mnist.json\")\n",
    "data_configs = load_from_json(file)\n",
    "\n",
    "# load the benign samples\n",
    "data_file = project_path.joinpath(data_configs['bl_dir'], data_configs.get('all_bs_file'))\n",
    "data_bs = np.load(data_file)\n",
    "# load the corresponding true labels\n",
    "label_file = project_path.joinpath(data_configs['bl_dir'], data_configs.get('all_label_file'))\n",
    "labels = np.load(label_file)\n",
    "\n",
    "img_rows, img_cols = data_bs.shape[1], data_bs.shape[2]\n",
    "\n",
    "pred_bs = target.predict(data_bs)\n",
    "corrections = get_corrections(y_pred=pred_bs, y_true=labels)\n",
    "\n",
    "results = {}\n",
    "\n",
    "ae_files = data_configs.get('ae_files')\n",
    "\n",
    "for file in ae_files:\n",
    "    results[file] = {}\n",
    "    ae_file = project_path.joinpath(data_configs['bl_dir'], file)\n",
    "    x_adversarial = np.load(ae_file)\n",
    "    print(f\">>> Running evaluations on [{ae_file}]\")\n",
    "    pred = target.predict(x_adversarial)\n",
    "    err = error_rate(y_pred=pred, y_true=labels, correct_on_bs=corrections)\n",
    "    print(f\">>> Error Rate of {file}: [{err}]\")\n",
    "    results[file] = err\n",
    "    \n",
    "result_file = project_path.joinpath(\"Task2/results/baseline_ae_evaluation_results.json\")\n",
    "dump_to_json(results, result_file)\n",
    "print(f\">>> Evaluations on all ae_files dumped to [{result_file}]\")"
   ]
  },
  {
   "cell_type": "code",
   "execution_count": null,
   "metadata": {},
   "outputs": [],
   "source": []
  }
 ],
 "metadata": {
  "kernelspec": {
   "display_name": "Python 3",
   "language": "python",
   "name": "python3"
  },
  "language_info": {
   "codemirror_mode": {
    "name": "ipython",
    "version": 3
   },
   "file_extension": ".py",
   "mimetype": "text/x-python",
   "name": "python",
   "nbconvert_exporter": "python",
   "pygments_lexer": "ipython3",
   "version": "3.7.9"
  }
 },
 "nbformat": 4,
 "nbformat_minor": 4
}
