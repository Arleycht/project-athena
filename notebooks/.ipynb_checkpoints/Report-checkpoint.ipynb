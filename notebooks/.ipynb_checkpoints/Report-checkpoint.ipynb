{
 "cells": [
  {
   "cell_type": "markdown",
   "metadata": {},
   "source": [
    "# Task 1 Report"
   ]
  },
  {
   "cell_type": "markdown",
   "metadata": {},
   "source": [
    "# Contribution"
   ]
  },
  {
   "cell_type": "markdown",
   "metadata": {},
   "source": [
    "# Subsampling\n",
    "\n",
    "For this task, the team has decided to take subsamples from the total pool of samples in order to reduce the runtime when generating adverserial example as well as the evaluation. \n",
    "Under data.py, the parameter \"ratio\" as shown in the code below: "
   ]
  },
  {
   "cell_type": "code",
   "execution_count": null,
   "metadata": {},
   "outputs": [],
   "source": [
    "def subsampling(data, labels, num_classes, ratio=0.05, filepath=None, filename=None)"
   ]
  },
  {
   "cell_type": "markdown",
   "metadata": {},
   "source": [
    "has been modified to take only 5% of the total samples instead of the default which was 10%.\n",
    "Thus, the accuracy of the experiment may be affected by the change in the number of samples by doing so. "
   ]
  },
  {
   "cell_type": "markdown",
   "metadata": {},
   "source": [
    "# Generating Adverserial Examples\n",
    "\n",
    "To generate the adverserial attacks, the team has chosen Fast Sign Gradient Method(FGSM), Project Gradient Descent(PGD), and Basic Iterative Method(BIM). Each of these attacks have four variants, each with modified parameters to see how much the image is perturbed, and how it effects the error rate of the prediction. The total number of attacks that we have generated is 12."
   ]
  },
  {
   "cell_type": "markdown",
   "metadata": {},
   "source": [
    "# Fast Gradient Sign Method\n",
    "\n",
    "The FGSM takes the sign of the gradient and multiplies it by an epsilon and adds the result to the image. On small values of epsilon, the image is visually similar to the human eye but its classification can be completely changed, or the confidence level of the prediction is reduced. The \"fast\" in its name comes from the fact that it does not do an iterate procedure in order to generate adverserial examples which makes it faster than many other methods. "
   ]
  },
  {
   "cell_type": "markdown",
   "metadata": {},
   "source": [
    "## Parameters:"
   ]
  },
  {
   "cell_type": "raw",
   "metadata": {},
   "source": [
    "{\n",
    "  \"configs0\": {\n",
    "    \"attack\": \"fgsm\",\n",
    "    \"description\": \"FGSM_eps0.01\",\n",
    "    \"eps\": 0.01\n",
    "  },\n",
    "  \"configs1\": {\n",
    "    \"attack\": \"fgsm\",\n",
    "    \"description\": \"FGSM_eps0.05\",\n",
    "    \"eps\": 0.05\n",
    "  },\n",
    "  \"configs2\": {\n",
    "    \"attack\": \"fgsm\",\n",
    "    \"description\": \"FGSM_eps0.1\",\n",
    "    \"eps\": 0.1\n",
    "  },\n",
    "  \"configs3\": {\n",
    "    \"attack\": \"fgsm\",\n",
    "    \"description\": \"FGSM_eps0.2\",\n",
    "    \"eps\": 0.2\n",
    "  }\n",
    "}"
   ]
  },
  {
   "attachments": {},
   "cell_type": "markdown",
   "metadata": {},
   "source": [
    "## Results\n",
    "\n",
    "The results are as follows:\n",
    "<body align=\"center\">FGSM with epsilon 0.01</body>\n",
    "<img src =\"../ae_images/task1-FGSM_eps0.01-190371.718.png\">\n",
    "<body align=\"center\">FGSM with epsilon 0.05</body>\n",
    "<img src =\"../ae_images/task1-FGSM_eps0.05-190374.765.png\">"
   ]
  },
  {
   "cell_type": "markdown",
   "metadata": {},
   "source": [
    "# Project Gradient Descent"
   ]
  },
  {
   "cell_type": "markdown",
   "metadata": {},
   "source": [
    "## Parameters:"
   ]
  },
  {
   "cell_type": "raw",
   "metadata": {},
   "source": [
    "{\n",
    "    \"configs4\": {\n",
    "    \"attack\": \"pgd\",\n",
    "    \"description\": \"PGD_eps0.05\",\n",
    "    \"eps\": 0.05\n",
    "  },\n",
    "    \"configs5\": {\n",
    "    \"attack\": \"pgd\",\n",
    "    \"description\": \"PGD_eps0.2\",\n",
    "    \"eps\": 0.2\n",
    "  },\n",
    "    \"configs6\": {\n",
    "    \"attack\": \"pgd\",\n",
    "    \"description\": \"PGD_eps0.5\",\n",
    "    \"eps\": 0.5\n",
    "  },\n",
    "    \"configs7\": {\n",
    "    \"attack\": \"pgd\",\n",
    "    \"description\": \"PGD_eps0.7\",\n",
    "    \"eps\": 0.7\n",
    "  }\n",
    "}"
   ]
  },
  {
   "cell_type": "markdown",
   "metadata": {},
   "source": [
    "# Basic Iterative Method\n",
    "\n",
    "The BIM applies FGSM in multiple steps by running FGSM with a small epsilon step size, applying it to the image, then uses the newly modified image in the next iteration for FGSM. This is slower than FGSM because of its iterative procedure. "
   ]
  },
  {
   "cell_type": "markdown",
   "metadata": {},
   "source": [
    "## Parameters:"
   ]
  },
  {
   "cell_type": "raw",
   "metadata": {},
   "source": [
    "{\n",
    "    \"configs8\": {\n",
    "    \"attack\": \"bim\",\n",
    "    \"description\": \"BIM_eps0.1_iter20\",\n",
    "    \"eps\": 0.1,\n",
    "\t\"max_iter\": 20\n",
    "  },\n",
    "    \"configs9\": {\n",
    "    \"attack\": \"bim\",\n",
    "    \"description\": \"BIM_eps0.1_iter30\",\n",
    "    \"eps\": 0.1,\n",
    "\t\"max_iter\": 30\n",
    "  },\n",
    "    \"configs10\": {\n",
    "    \"attack\": \"bim\",\n",
    "    \"description\": \"BIM_eps0.1_iter40\",\n",
    "    \"eps\": 0.1,\n",
    "\t\"max_iter\": 40\n",
    "  },\n",
    "    \"configs11\": {\n",
    "    \"attack\": \"bim\",\n",
    "    \"description\": \"BIM_eps0.5_iter40\",\n",
    "    \"eps\": 0.5,\n",
    "\t\"max_iter\": 40\n",
    "  }\n",
    "}"
   ]
  },
  {
   "cell_type": "markdown",
   "metadata": {},
   "source": [
    "## Results\n",
    "| Parameters| Undefended Model | Vanilla Athena | PGD-ADT |\n",
    "| --- | --- | --- | --- |\n",
    "|eps0.1iter20 |  0.8481781376518218 | 0.010121457489878543 | 0.02834008097165992  |\n",
    "|eps0.1iter30 |"
   ]
  },
  {
   "cell_type": "markdown",
   "metadata": {},
   "source": [
    "# Evaluation"
   ]
  },
  {
   "cell_type": "markdown",
   "metadata": {},
   "source": [
    "# Conclusion"
   ]
  }
 ],
 "metadata": {
  "kernelspec": {
   "display_name": "Python 3",
   "language": "python",
   "name": "python3"
  },
  "language_info": {
   "codemirror_mode": {
    "name": "ipython",
    "version": 3
   },
   "file_extension": ".py",
   "mimetype": "text/x-python",
   "name": "python",
   "nbconvert_exporter": "python",
   "pygments_lexer": "ipython3",
   "version": "3.7.9"
  }
 },
 "nbformat": 4,
 "nbformat_minor": 4
}
