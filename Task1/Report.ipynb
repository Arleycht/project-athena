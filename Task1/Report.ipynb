{
 "cells": [
  {
   "cell_type": "markdown",
   "metadata": {},
   "source": [
    "# Task 1 Report\n",
    "\n",
    "Objective: Generate adversarial examples based on the undefended model.\n",
    "\n",
    "We will be approaching this using the Fast Gradient Sign Method, Projected Gradient Descent, and the Basic Iterative Method. Using these methods, we will have parameters that can be changed to optimize our adversarial examples to ensure the optimization of the machine learning models. The results can be recreated by running the Jupyter notebook Task1.ipynb under the notebooks folder. "
   ]
  },
  {
   "cell_type": "markdown",
   "metadata": {},
   "source": [
    "# Contribution\n",
    "\n",
    "The team collaboratively worked on the project together over Discord. Each of the members have given their input on which attack to use, and which values to put in as the parameters. The contribution in the report is equally shared by everyone. Alex Tsai made a Jupyter Notebook which runs through all the steps in order to get the desired results.  "
   ]
  },
  {
   "cell_type": "markdown",
   "metadata": {},
   "source": [
    "# Subsampling\n",
    "\n",
    "For this task, the team has decided to take subsamples from the total pool of samples in order to reduce the runtime when generating adverserial example as well as the evaluation. \n",
    "Under data.py, the parameter \"ratio\" as shown in the code below: "
   ]
  },
  {
   "cell_type": "code",
   "execution_count": null,
   "metadata": {},
   "outputs": [],
   "source": [
    "def subsampling(data, labels, num_classes, ratio=0.05, filepath=None, filename=None)"
   ]
  },
  {
   "cell_type": "markdown",
   "metadata": {},
   "source": [
    "has been modified to take only 5% of the total samples instead of the default which was 10%.\n",
    "Thus, the accuracy of the experiment may be affected by the change in the number of samples by doing so. "
   ]
  },
  {
   "cell_type": "markdown",
   "metadata": {},
   "source": [
    "# Generating Adverserial Examples\n",
    "\n",
    "To generate the adverserial attacks, the team has chosen Fast Sign Gradient Method(FGSM), Project Gradient Descent(PGD), and Basic Iterative Method(BIM). Each of these attacks have four variants, each with modified parameters to see how much the image is perturbed, and how it effects the error rate of the prediction. The total number of attacks that we have generated is 12."
   ]
  },
  {
   "cell_type": "markdown",
   "metadata": {},
   "source": [
    "# Fast Gradient Sign Method\n",
    "\n",
    "The FGSM takes the sign of the gradient and multiplies it by an epsilon and adds the result to the image. On small values of epsilon, the image is visually similar to the human eye but its classification can be completely changed, or the confidence level of the prediction is reduced. The \"fast\" in its name comes from the fact that it does not do an iterate procedure in order to generate adverserial examples which makes it faster than many other methods. "
   ]
  },
  {
   "cell_type": "markdown",
   "metadata": {},
   "source": [
    "## Parameters:"
   ]
  },
  {
   "cell_type": "code",
   "execution_count": null,
   "metadata": {},
   "outputs": [],
   "source": [
    "{\n",
    "  \"configs0\": {\n",
    "    \"attack\": \"fgsm\",\n",
    "    \"description\": \"FGSM_eps0.01\",\n",
    "    \"eps\": 0.01\n",
    "  },\n",
    "  \"configs1\": {\n",
    "    \"attack\": \"fgsm\",\n",
    "    \"description\": \"FGSM_eps0.05\",\n",
    "    \"eps\": 0.05\n",
    "  },\n",
    "  \"configs2\": {\n",
    "    \"attack\": \"fgsm\",\n",
    "    \"description\": \"FGSM_eps0.1\",\n",
    "    \"eps\": 0.1\n",
    "  },\n",
    "  \"configs3\": {\n",
    "    \"attack\": \"fgsm\",\n",
    "    \"description\": \"FGSM_eps0.2\",\n",
    "    \"eps\": 0.2\n",
    "  }\n",
    "}"
   ]
  },
  {
   "cell_type": "markdown",
   "metadata": {},
   "source": [
    "## Results\n",
    "\n",
    "\n",
    "| Parameter | Image | Error Rate |\n",
    "| :---: | :---: | :---: |\n",
    "|eps0.01 | <img src=\"ae_images/task1-FGSM_eps0.01-190371.718.png\"> | 0.018 | \n",
    "|eps0.05 | <img src=\"ae_images/task1-FGSM_eps0.05-190374.765.png\"> | 0.082 |\n",
    "|eps0.1 | <img src=\"ae_images/task1-FGSM_eps0.1-190377.875.png\"> | 0.242|\n",
    "|eps0.2 | <img src=\"ae_images/task1-FGSM_eps0.2-190381.14.png\"> | 0.742 |\n",
    "\n",
    "Looking at the results, with increasing value of the epsilon, the error rate goes up and the image gets more distorted as expected."
   ]
  },
  {
   "cell_type": "markdown",
   "metadata": {},
   "source": [
    "## Evaluation\n",
    "\n",
    "\n",
    "|| Undefended Model | Vanilla Athena | PGD-ADT |\n",
    "| :--- | :--- | :--- | :--- |\n",
    "|FGSM-eps0.01 |  0.006072874493927126 | 0.0020242914979757085 | 0.004048582995951417  |\n",
    "|FGSM-eps0.05 |  0.06882591093117409 | 0.0020242914979757085 | 0.010121457489878543  |\n",
    "|FGSM-eps0.1 |  0.22874493927125505 | 0.012145748987854251 | 0.02631578947368421  |\n",
    "|FGSM-eps0.2 |  0.728744939271255 | 0.06882591093117409 | 0.05668016194331984  |\n",
    "\n"
   ]
  },
  {
   "cell_type": "markdown",
   "metadata": {},
   "source": [
    "# Project Gradient Descent\n",
    "\n",
    "The PGD attack is an iterative attack, which can be seen as a replica of FGSM -- K-FGSM(K represents the numbers of iterations). The general idea of FGSM is that one iteration is a big step while PGD does multiple iterations. Each iteration is a small step, and each iteration will disturb clip to the specified range."
   ]
  },
  {
   "cell_type": "markdown",
   "metadata": {},
   "source": [
    "## Parameters:"
   ]
  },
  {
   "cell_type": "code",
   "execution_count": null,
   "metadata": {},
   "outputs": [],
   "source": [
    "{\n",
    "    \"configs4\": {\n",
    "    \"attack\": \"pgd\",\n",
    "    \"description\": \"PGD_eps0.05\",\n",
    "    \"eps\": 0.05\n",
    "  },\n",
    "    \"configs5\": {\n",
    "    \"attack\": \"pgd\",\n",
    "    \"description\": \"PGD_eps0.2\",\n",
    "    \"eps\": 0.2\n",
    "  },\n",
    "    \"configs6\": {\n",
    "    \"attack\": \"pgd\",\n",
    "    \"description\": \"PGD_eps0.5\",\n",
    "    \"eps\": 0.5\n",
    "  },\n",
    "    \"configs7\": {\n",
    "    \"attack\": \"pgd\",\n",
    "    \"description\": \"PGD_eps0.7\",\n",
    "    \"eps\": 0.7\n",
    "  }\n",
    "}"
   ]
  },
  {
   "cell_type": "markdown",
   "metadata": {},
   "source": [
    "## Results\n",
    "\n",
    "| | Image | Error Rate |\n",
    "| :- | :---: | :-: |\n",
    "| eps0.05 | <img src = \"ae_images/task1-PGD_eps0.05-190395.062.png\">| 0.124 |\n",
    "| eps0.2 | <img src = \"ae_images/task1-PGD_eps0.2-190414.609.png\">| 0.996 |\n",
    "| eps0.5 | <img src = \"ae_images/task1-PGD_eps0.5-190444.796.png\">| 1.0 |\n",
    "| eps0.7 | <img src = \"ae_images/task1-PGD_eps0.7-190474.515.png\">| 1.0 |\n",
    "\n",
    "Looking at the results, the error rate seems to exponentially increase as the increase in epsilon between the first and second example was just 0.15 and yet the error rate went up by 87%. Each point increase in epsilon increases the error rate by a substantial amount. "
   ]
  },
  {
   "cell_type": "markdown",
   "metadata": {},
   "source": [
    "## Evaluation\n",
    "\n",
    "|| Undefended Model | Vanilla Athena | PGD-ADT |\n",
    "| :--- | :--- | :--- | :--- |\n",
    "|PGD_eps0.05 |  0.10931174089068826 | 0.004048582995951417 | 0.010121457489878543  |\n",
    "|PGD_eps0.2 | 0.9838056680161943| 0.06477732793522267 | 0.058704453441295545 |\n",
    "| PGD_eps0.5 | 0.9878542510121457 | 0.7874493927125507 | 0.680161943319838 |\n",
    "|PGD_eps0.7 | 0.9878542510121457 | 0.8967611336032388 | 0.951417004048583 |\n",
    "\n"
   ]
  },
  {
   "cell_type": "markdown",
   "metadata": {},
   "source": [
    "# Basic Iterative Method\n",
    "\n",
    "The BIM applies FGSM in multiple steps by running FGSM with a small epsilon step size, applying it to the image, then uses the newly modified image in the next iteration for FGSM. This is slower than FGSM because of its iterative procedure. "
   ]
  },
  {
   "cell_type": "markdown",
   "metadata": {},
   "source": [
    "## Parameters:"
   ]
  },
  {
   "cell_type": "code",
   "execution_count": null,
   "metadata": {},
   "outputs": [],
   "source": [
    "{\n",
    "    \"configs8\": {\n",
    "    \"attack\": \"bim\",\n",
    "    \"description\": \"BIM_eps0.1_iter20\",\n",
    "    \"eps\": 0.1,\n",
    "\t\"max_iter\": 20\n",
    "  },\n",
    "    \"configs9\": {\n",
    "    \"attack\": \"bim\",\n",
    "    \"description\": \"BIM_eps0.1_iter30\",\n",
    "    \"eps\": 0.1,\n",
    "\t\"max_iter\": 30\n",
    "  },\n",
    "    \"configs10\": {\n",
    "    \"attack\": \"bim\",\n",
    "    \"description\": \"BIM_eps0.1_iter40\",\n",
    "    \"eps\": 0.1,\n",
    "\t\"max_iter\": 40\n",
    "  },\n",
    "    \"configs11\": {\n",
    "    \"attack\": \"bim\",\n",
    "    \"description\": \"BIM_eps0.5_iter40\",\n",
    "    \"eps\": 0.5,\n",
    "\t\"max_iter\": 40\n",
    "  }\n",
    "}"
   ]
  },
  {
   "cell_type": "markdown",
   "metadata": {},
   "source": [
    "## Results\n",
    "\n",
    "| Parameter | Image | Error Rate |\n",
    "| :---: | :---: | :---: |\n",
    "|eps0.1_iter20 | <img src=\"ae_images/task1-BIM_eps0.1_iter20-190523.968.png\"> | 0.86 | \n",
    "|eps0.1_iter30 | <img src=\"ae_images/task1-BIM_eps0.1_iter30-190592.64.png\"> | 0.904 |\n",
    "|eps0.1_iter40 | <img src=\"ae_images/task1-BIM_eps0.1_iter40-190667.359.png\"> | 0.906|\n",
    "|eps0.5_iter40 | <img src=\"ae_images/task1-BIM_eps0.5_iter40-190738.578.png\"> | 1.0 |\n",
    "\n",
    "With the parameters used, it seems to be that BIM is very effective at fooling the model even with a low epsilon value. Number of iterations do not seem to affect the error rate as much as the epsilon does. "
   ]
  },
  {
   "cell_type": "markdown",
   "metadata": {},
   "source": [
    "## Evaluation\n",
    "\n",
    "|| Undefended Model | Vanilla Athena | PGD-ADT |\n",
    "| :--- | :--- | :--- | :--- |\n",
    "|BIM-eps0.1_iter20 |  0.8481781376518218 | 0.010121457489878543 | 0.02834008097165992  |\n",
    "|BIM-eps0.1_iter30 |  0.8927125506072875 | 0.010121457489878543 | 0.02834008097165992  |\n",
    "|BIM-eps0.1_iter40 |  0.8967611336032388 | 0.010121457489878543 | 0.030364372469635626  |\n",
    "|BIM-eps0.5_iter40 |  0.9878542510121457 | 0.902834008097166 | 0.9757085020242915  |\n"
   ]
  }
 ],
 "metadata": {
  "kernelspec": {
   "display_name": "Python 3",
   "language": "python",
   "name": "python3"
  },
  "language_info": {
   "codemirror_mode": {
    "name": "ipython",
    "version": 3
   },
   "file_extension": ".py",
   "mimetype": "text/x-python",
   "name": "python",
   "nbconvert_exporter": "python",
   "pygments_lexer": "ipython3",
   "version": "3.7.9"
  }
 },
 "nbformat": 4,
 "nbformat_minor": 4
}
