{
 "cells": [
  {
   "cell_type": "markdown",
   "metadata": {},
   "source": [
    "# Task 1\n",
    "\"Generate adversarial examples in the context of the zero-knowledge threat model.\""
   ]
  },
  {
   "cell_type": "code",
   "execution_count": 1,
   "metadata": {},
   "outputs": [],
   "source": [
    "import os\n",
    "import sys\n",
    "from pathlib import Path"
   ]
  },
  {
   "cell_type": "code",
   "execution_count": 2,
   "metadata": {},
   "outputs": [],
   "source": [
    "# Set up proper directory paths\n",
    "\n",
    "project_path = Path().absolute().parent\n",
    "src_path = project_path.joinpath(\"src\")\n",
    "\n",
    "# Ensure the paths are properly assigned\n",
    "# If this assertion fails, change project_dir as needed to become the project directory\n",
    "# If project_dir is correct, change the name in the assertion check\n",
    "assert project_path.name == \"project-athena\", \"Parent directory name assertion failed (check the path)\""
   ]
  },
  {
   "cell_type": "code",
   "execution_count": 3,
   "metadata": {},
   "outputs": [],
   "source": [
    "# Add src_dir to module paths\n",
    "if str(src_path) not in sys.path:\n",
    "    sys.path.append(str(src_path))"
   ]
  },
  {
   "cell_type": "code",
   "execution_count": 4,
   "metadata": {},
   "outputs": [],
   "source": [
    "from datetime import time\n",
    "\n",
    "import numpy as np"
   ]
  },
  {
   "cell_type": "code",
   "execution_count": 5,
   "metadata": {},
   "outputs": [],
   "source": [
    "from attacks.attack import generate\n",
    "from models.athena import ENSEMBLE_STRATEGY, Ensemble\n",
    "from utils.data import subsampling\n",
    "from utils.file import load_from_json\n",
    "from utils.metrics import error_rate, get_corrections\n",
    "from utils.model import load_lenet, load_pool"
   ]
  },
  {
   "cell_type": "code",
   "execution_count": 6,
   "metadata": {},
   "outputs": [],
   "source": [
    "def generate_ae(model, data, labels, attack_configs, save=False, output_dir=None, device=None):\n",
    "    \"\"\"\n",
    "    Generate adversarial examples for a model\n",
    "    \"\"\"\n",
    "    \n",
    "    print(\"Generating adversarial examples\")\n",
    "    \n",
    "    img_rows, img_cols = data.shape[1], data.shape[2]\n",
    "    num_attacks = attack_configs.get(\"num_attacks\")\n",
    "    data_loader = (data, labels)\n",
    "\n",
    "    if len(labels.shape) > 1:\n",
    "        labels = np.asarray([np.argmax(p) for p in labels])\n",
    "\n",
    "    # Generate attacks\n",
    "    for attack_id in range(num_attacks):\n",
    "        key = f\"configs{attack_id}\"\n",
    "        \n",
    "        data_adv = generate(model=model,\n",
    "                            data_loader=data_loader,\n",
    "                            attack_args=attack_configs[key],\n",
    "                            device=device)\n",
    "        \n",
    "        # Evaluate adversarial examples\n",
    "        predictions = model.predict(data_adv)\n",
    "        predictions = np.asarray([np.argmax(p) for p in predictions])\n",
    "\n",
    "        err = error_rate(y_pred=predictions, y_true=labels)\n",
    "        \n",
    "        print(f\">>> error rate: {err}\")\n",
    "\n",
    "        # Save adversarial examples\n",
    "        if save:\n",
    "            if output_dir is None:\n",
    "                raise ValueError(\"Cannot save images to a none path.\")\n",
    "            \n",
    "            file_path = os.path.join(output_dir, f\"{time.monotonic()}.npy\")\n",
    "            np.save(file, data_adv)\n",
    "            \n",
    "            print(f\"Saved the adversarial example to file [{file_path}]\")\n",
    "    \n",
    "    print(\"Done generating adversarial examples\")"
   ]
  },
  {
   "cell_type": "code",
   "execution_count": 21,
   "metadata": {},
   "outputs": [],
   "source": [
    "def evaluate(trans_configs, model_configs, data_configs,\n",
    "             save=False, output_dir=None):\n",
    "    \"\"\"\n",
    "    Apply transformation(s) on images.\n",
    "    :param trans_configs: dictionary. The collection of the parameterized transformations to test.\n",
    "        in the form of\n",
    "        { configsx: {\n",
    "            param: value,\n",
    "            }\n",
    "        }\n",
    "        The key of a configuration is 'configs'x, where 'x' is the id of corresponding weak defense.\n",
    "    :param model_configs:  dictionary. Defines model related information.\n",
    "        Such as, location, the undefended model, the file format, etc.\n",
    "    :param data_configs: dictionary. Defines data related information.\n",
    "        Such as, location, the file for the true labels, the file for the benign samples,\n",
    "        the files for the adversarial examples, etc.\n",
    "    :param save: boolean. Save the transformed sample or not.\n",
    "    :param output_dir: path or str. The location to store the transformed samples.\n",
    "        It cannot be None when save is True.\n",
    "    :return:\n",
    "    \"\"\"\n",
    "    \n",
    "    # Load baseline defense (PGD-ADT model)\n",
    "    baseline = load_lenet(file=model_configs['pgd_trained'],\n",
    "                          trans_configs=None,\n",
    "                          use_logits=False,\n",
    "                          wrap=False)\n",
    "\n",
    "    # Load undefended model (UM)\n",
    "    file = project_path.joinpath(model_configs['dir'], model_configs['um_file'])\n",
    "    undefended = load_lenet(file=file,\n",
    "                            trans_configs=trans_configs.get('configs0'),\n",
    "                            wrap=True)\n",
    "    \n",
    "    print(f\">>> UM: {type(undefended)}\")\n",
    "\n",
    "    # Load weak defenses into a pool\n",
    "    pool, _ = load_pool(trans_configs=trans_configs,\n",
    "                        model_configs=model_configs,\n",
    "                        active_list=True,\n",
    "                        wrap=True)\n",
    "    \n",
    "    # Create an AVEP ensemble from the WD pool\n",
    "    wds = list(pool.values())\n",
    "    ensemble = Ensemble(classifiers=wds, strategy=ENSEMBLE_STRATEGY.AVEP.value)\n",
    "    \n",
    "    print(f\">>> wds: {type(wds)} {type(wds[0])}\")\n",
    "\n",
    "    # Load benign samples\n",
    "    bs_file = project_path.joinpath(data_configs['dir'], data_configs['bs_file'])\n",
    "    x_bs = np.load(bs_file)\n",
    "    img_rows, img_cols = x_bs.shape[1], x_bs.shape[2]\n",
    "\n",
    "    # Load true labels\n",
    "    label_file = project_path.joinpath(data_configs['dir'], data_configs['label_file'])\n",
    "    labels = np.load(label_file)\n",
    "\n",
    "    print(f\">>> Evaluating UM on [{bs_file}]\")\n",
    "    \n",
    "    # Get indices of benign samples that are correctly classified by the targeted model\n",
    "    pred_bs = undefended.predict(x_bs)\n",
    "    corrections = get_corrections(y_pred=pred_bs, y_true=labels)\n",
    "\n",
    "    # Evaluate adversarial examples\n",
    "    results = {}\n",
    "    \n",
    "    ae_list = data_configs.get('ae_files')\n",
    "    ae_file = project_path.joinpath(data_configs['dir'], ae_list[4])\n",
    "    x_adv = np.load(ae_file)\n",
    "    \n",
    "    print(f\">>> Evaluating UM on [{ae_file}]\")\n",
    "\n",
    "    # Evaluate undefended model on adversarial examples\n",
    "    pred_adv_um = undefended.predict(x_adv)\n",
    "    err_um = error_rate(y_pred=pred_adv_um, y_true=labels, correct_on_bs=corrections)\n",
    "    results['UM'] = err_um\n",
    "    \n",
    "    print(f\">>> Evaluating ensemble on [{ae_file}]\")\n",
    "\n",
    "    # Evaluate ensemble model on adversarial examples\n",
    "    pred_adv_ens = ensemble.predict(x_adv)\n",
    "    err_ens = error_rate(y_pred=pred_adv_ens, y_true=labels, correct_on_bs=corrections)\n",
    "    results['Ensemble'] = err_ens\n",
    "\n",
    "    # Evaluate baseline model on adversarial examples\n",
    "    print(\">>> Evaluating baseline model on [{}], it may take a while...\".format(ae_file))\n",
    "    pred_adv_bl = baseline.predict(x_adv)\n",
    "    err_bl = error_rate(y_pred=pred_adv_bl, y_true=labels, correct_on_bs=corrections)\n",
    "    results['PGD-ADT'] = err_bl\n",
    "\n",
    "    # TODO: collect and dump the evaluation results to file(s) such that you can analyze them later.\n",
    "    print(f\">>> Evaluations on [{ae_file}]:\\n{results}\")"
   ]
  },
  {
   "cell_type": "code",
   "execution_count": 8,
   "metadata": {},
   "outputs": [],
   "source": [
    "# Load data configs\n",
    "file = src_path.joinpath(\"configs/demo/data-mnist.json\")\n",
    "data_configs = load_from_json(file)\n",
    "output_root = project_path.joinpath(\"results\")\n",
    "\n",
    "# Load model configs\n",
    "model_configs = load_from_json(src_path.joinpath(\"configs/demo/model-mnist.json\"))\n",
    "attack_configs = load_from_json(src_path.joinpath(\"configs/demo/attack-zk-mnist.json\"))\n",
    "\n",
    "# Fix configs\n",
    "# i.e. remove relative paths\n",
    "data_configs['dir'] = str(project_path.joinpath(\"data\"))\n",
    "data_configs['sub_dir'] = str(project_path.joinpath(\"results\"))\n",
    "\n",
    "model_configs['dir'] = str(project_path.joinpath(\"models/cnn\"))\n",
    "model_configs['pgd_trained'] = str(project_path.joinpath(\"models/baseline\", Path(model_configs['pgd_trained']).name))"
   ]
  },
  {
   "cell_type": "code",
   "execution_count": 9,
   "metadata": {},
   "outputs": [],
   "source": [
    "# Load benign samples\n",
    "file = project_path.joinpath(data_configs['dir'], data_configs['bs_file'])\n",
    "X_bs = np.load(file)"
   ]
  },
  {
   "cell_type": "code",
   "execution_count": 10,
   "metadata": {},
   "outputs": [],
   "source": [
    "# Load true labels\n",
    "file =  project_path.joinpath(data_configs['dir'], data_configs['label_file'])\n",
    "labels = np.load(file)"
   ]
  },
  {
   "cell_type": "code",
   "execution_count": 11,
   "metadata": {},
   "outputs": [
    {
     "name": "stdout",
     "output_type": "stream",
     "text": [
      ">>> Loading model [D:\\GitHub\\project-athena\\models\\cnn\\model-mnist-cnn-clean.h5]...\n"
     ]
    }
   ],
   "source": [
    "# Load model\n",
    "model_file = project_path.joinpath(model_configs['dir'], model_configs['um_file'])\n",
    "target = load_lenet(file=model_file, wrap=True)"
   ]
  },
  {
   "cell_type": "code",
   "execution_count": 12,
   "metadata": {},
   "outputs": [],
   "source": [
    "# Load the benign samples\n",
    "# TODO: Is this redundant duplicate code?\n",
    "data_file = project_path.joinpath(data_configs['dir'], data_configs['bs_file'])\n",
    "data_bs = np.load(data_file)"
   ]
  },
  {
   "cell_type": "code",
   "execution_count": 13,
   "metadata": {},
   "outputs": [],
   "source": [
    "# Load true labels\n",
    "label_file = project_path.joinpath(data_configs['dir'], data_configs['label_file'])\n",
    "labels = np.load(label_file)"
   ]
  },
  {
   "cell_type": "code",
   "execution_count": 14,
   "metadata": {},
   "outputs": [
    {
     "name": "stdout",
     "output_type": "stream",
     "text": [
      "Generating adversarial examples\n",
      "WARNING:tensorflow:From C:\\Users\\alext\\anaconda3\\envs\\athena_env\\lib\\site-packages\\tensorflow\\python\\keras\\engine\\training_v1.py:2070: Model.state_updates (from tensorflow.python.keras.engine.training) is deprecated and will be removed in a future version.\n",
      "Instructions for updating:\n",
      "This property should not be used in TensorFlow 2.0, as updates are applied automatically.\n",
      ">>> error rate: 0.0\n",
      ">>> error rate: 0.0\n",
      ">>> error rate: 0.0\n",
      ">>> error rate: 0.0\n",
      ">>> error rate: 0.2\n",
      ">>> error rate: 0.2\n",
      ">>> error rate: 0.6\n",
      ">>> error rate: 0.8\n",
      ">>> error rate: 0.8\n",
      ">>> error rate: 1.0\n",
      ">>> error rate: 1.0\n",
      ">>> error rate: 1.0\n",
      ">>> error rate: 1.0\n",
      ">>> error rate: 1.0\n",
      ">>> error rate: 1.0\n",
      "Done generating adversarial examples\n"
     ]
    }
   ],
   "source": [
    "# Generate adversarial examples\n",
    "data_bs = data_bs[:5]\n",
    "labels = labels[:5]\n",
    "\n",
    "generate_ae(model=target, data=data_bs,labels=labels, attack_configs=attack_configs, device=\"cuda\")"
   ]
  },
  {
   "cell_type": "code",
   "execution_count": 22,
   "metadata": {},
   "outputs": [
    {
     "name": "stdout",
     "output_type": "stream",
     "text": [
      ">>> Loading model [D:\\GitHub\\project-athena\\models\\baseline\\advTrained-mnist-adtC.h5]...\n",
      ">>> Loading model [D:\\GitHub\\project-athena\\models\\cnn\\model-mnist-cnn-clean.h5]...\n",
      ">>> UM: <class 'models.keras.WeakDefense'>\n",
      ">>> Loading model [D:\\GitHub\\project-athena\\models\\cnn\\model-mnist-cnn-flip_horizontal.h5]...\n",
      ">>> Loading model [D:\\GitHub\\project-athena\\models\\cnn\\model-mnist-cnn-affine_both_stretch.h5]...\n",
      ">>> Loading model [D:\\GitHub\\project-athena\\models\\cnn\\model-mnist-cnn-morph_gradient.h5]...\n",
      ">>> Loaded 3 models.\n",
      ">>> wds: <class 'list'> <class 'models.keras.WeakDefense'>\n",
      ">>> Evaluating UM on [D:\\GitHub\\project-athena\\data\\test_BS-mnist-clean.npy]\n",
      ">>> Evaluating UM on [D:\\GitHub\\project-athena\\data\\test_AE-mnist-cnn-clean-fgsm_eps0.3.npy]\n",
      ">>> Evaluating ensemble on [D:\\GitHub\\project-athena\\data\\test_AE-mnist-cnn-clean-fgsm_eps0.3.npy]\n",
      ">>> Evaluating baseline model on [D:\\GitHub\\project-athena\\data\\test_AE-mnist-cnn-clean-fgsm_eps0.3.npy], it may take a while...\n",
      ">>> Evaluations on [D:\\GitHub\\project-athena\\data\\test_AE-mnist-cnn-clean-fgsm_eps0.3.npy]:\n",
      "{'UM': 0.8842541157458843, 'Ensemble': 0.6725583274416725, 'PGD-ADT': 0.21331178668821332}\n"
     ]
    }
   ],
   "source": [
    "# Load configs\n",
    "file = src_path.joinpath(\"configs/demo/athena-mnist.json\")\n",
    "trans_configs = load_from_json(file)\n",
    "\n",
    "output_dir = project_path.joinpath(\"results\")\n",
    "\n",
    "output_dir.mkdir(exist_ok=True)\n",
    "\n",
    "# Evaluate model\n",
    "evaluate(trans_configs=trans_configs,\n",
    "         model_configs=model_configs,\n",
    "         data_configs=data_configs,\n",
    "         save=False,\n",
    "         output_dir=output_root)"
   ]
  },
  {
   "cell_type": "code",
   "execution_count": null,
   "metadata": {},
   "outputs": [],
   "source": []
  }
 ],
 "metadata": {
  "kernelspec": {
   "display_name": "Python 3",
   "language": "python",
   "name": "python3"
  },
  "language_info": {
   "codemirror_mode": {
    "name": "ipython",
    "version": 3
   },
   "file_extension": ".py",
   "mimetype": "text/x-python",
   "name": "python",
   "nbconvert_exporter": "python",
   "pygments_lexer": "ipython3",
   "version": "3.7.9"
  }
 },
 "nbformat": 4,
 "nbformat_minor": 4
}
