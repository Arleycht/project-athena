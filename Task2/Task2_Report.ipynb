{
 "cells": [
  {
   "cell_type": "markdown",
   "metadata": {},
   "source": [
    "# Task 2 Option 1 Report\n",
    "Goal: Generate adversarial examples for the Vanilla ATHENA, using optimaztion-based white-box attack."
   ]
  },
  {
   "cell_type": "markdown",
   "metadata": {},
   "source": [
    "# Approaches\n",
    "\n",
    "We will be approaching this using the Fast Gradient Sign Method with EOT enable, and Projected Gradient Descent with EOT enable. Using these methods, we will have parameters that can be changed to optimize our adversarial examples to ensure the optimization of the machine learning models. The results can be recreated by running the Jupyter notebook Task2.ipynb under the Task2 folder. "
   ]
  },
  {
   "cell_type": "markdown",
   "metadata": {},
   "source": [
    "# Fast Gradient Sign Method\n",
    "The FGSM takes the sign of the gradient and multiplies it by an epsilon and adds the result to the image. On small values of epsilon, the image is visually similar to the human eye but its classification can be completely changed, or the confidence level of the prediction is reduced. The \"fast\" in its name comes from the fact that it does not do an iterate procedure in order to generate adverserial examples which makes it faster than many other methods."
   ]
  },
  {
   "cell_type": "markdown",
   "metadata": {},
   "source": [
    "# Tunable Parameters"
   ]
  },
  {
   "cell_type": "code",
   "execution_count": null,
   "metadata": {},
   "outputs": [],
   "source": [
    "{\n",
    "\"configs6\": {\n",
    "    \"attack\": \"fgsm\",\n",
    "    \"description\": \"FGSM_eps0.05EOT_ON\",\n",
    "    \"eps\": 0.05,\n",
    "    \"distribution\": {\n",
    "      \"num_samples\": 500,\n",
    "      \"transformation\": \"rotation\",\n",
    "      \"min_angle\": -45,\n",
    "      \"max_angle\": 45\n",
    "    }\n",
    "  },\n",
    "  \"configs7\": {\n",
    "    \"attack\": \"fgsm\",\n",
    "    \"description\": \"FGSM_eps0.1EOT_ON\",\n",
    "    \"eps\": 0.1,\n",
    "    \"distribution\": {\n",
    "      \"num_samples\": 500,\n",
    "      \"transformation\": \"rotation\",\n",
    "      \"min_angle\": -45,\n",
    "      \"max_angle\": 45\n",
    "    }\n",
    "  },\n",
    "  \"configs8\": {\n",
    "    \"attack\": \"fgsm\",\n",
    "    \"description\": \"FGSM_eps0.2EOT_ON\",\n",
    "    \"eps\": 0.2,\n",
    "    \"distribution\": {\n",
    "      \"num_samples\": 500,\n",
    "      \"transformation\": \"rotation\",\n",
    "      \"min_angle\": -45,\n",
    "      \"max_angle\": 45\n",
    "    }\n",
    "  },\n",
    "  \"configs9\": {\n",
    "    \"attack\": \"fgsm\",\n",
    "    \"description\": \"FGSM_eps0.5EOT_ON\",\n",
    "    \"eps\": 0.5,\n",
    "    \"distribution\": {\n",
    "      \"num_samples\": 500,\n",
    "      \"transformation\": \"rotation\",\n",
    "      \"min_angle\": -45,\n",
    "      \"max_angle\": 45\n",
    "    }\n",
    "  }\n",
    "}"
   ]
  },
  {
   "cell_type": "markdown",
   "metadata": {},
   "source": [
    "# Results\n",
    "\n",
    "| Parameter | Image | Image | Error Rate |\n",
    "| :---: | :---: |:---:| :---: |\n",
    "|FGSM0.01 | <img src=\"../results/FGSM_eps0.01EOT_ON-0.png\"> | <img src=\"../results/FGSM_eps0.01EOT_ON-1.png\"> | 0.01 | \n",
    "|FGSM0.05 | <img src=\"../results/FGSM_eps0.05EOT_ON-0.png\"> | <img src=\"../results/FGSM_eps0.01EOT_ON-1.png\"> | 0.008 |\n",
    "|FGSM0.1 | <img src=\"../results/FGSM_eps0.1EOT_ON-0.png\"> | <img src=\"../results/FGSM_eps0.1EOT_ON-1.png\"> | 0.022 |\n",
    "|FGSM0.2 | <img src=\"../results/FGSM_eps0.2EOT_ON-0.png\"> | <img src=\"../results/FGSM_eps0.2EOT_ON-1.png\"> | 0.05 |\n",
    "|FGSM0.5 | <img src=\"../results/FGSM_eps0.5EOT_ON-0.png\"> | <img src=\"../results/FGSM_eps0.5EOT_ON-1.png\"> | 0.828 |\n"
   ]
  },
  {
   "cell_type": "markdown",
   "metadata": {},
   "source": [
    "# Evaluations results\n",
    "\n",
    "<h3 align=\"center\">Task 2 Evaluation results are showing below</h3> \n",
    "\n",
    "| Vanilla Athena model |      Baseline   Error Rate|\n",
    "|:---:|:---:|\n",
    "|FGSM_eps0.1   |   0.011493094061901401 |\n",
    "|FGSM_eps0.15  |  0.030345800988002825|\n",
    "|FGSM_eps0.2   | 0.07561246093356185|\n",
    "|FGSM_eps0.25  | 0.19628994858352655|\n",
    "|FGSM_eps0.3   |  0.39419296300030243|\n",
    "\n",
    "\n",
    "|Vanilla Athena model (EOT on)| Error Rate| \n",
    "|:---:|:---:|\n",
    "|FGSM_eps0.01 |   0.0020242914979757085|\n",
    "|FGSM_eps0.05 |  0.004048582995951417|\n",
    "|FGSM_eps0.1  |   0.010121457489878543|\n",
    "|FGSM_eps0.2  |   0.058704453441295545|\n",
    "|FGSM_eps0.5  |   0.8704453441295547|\n",
    "\n",
    "\n",
    "<h3 align=\"center\">Task 1 Evaluation results are showing below</h3> \n",
    "\n",
    "| |Undefended Models|\n",
    "|:---:|:---:|\n",
    "|FGSM-eps0.01   |  0.006072874493927126|\n",
    "|FGSM-eps0.05   | 0.06882591093117409|\n",
    "|FGSM-eps0.1    | 0.22874493927125505|\n",
    "|FGSM-eps0.2    |  0.728744939271255|\n",
    "\n",
    "| | Vanilla Athena|\n",
    "|:---:|:---:|\n",
    "|FGSM-eps0.01  |  0.0020242914979757085|\n",
    "|FGSM-eps0.05  |0.0020242914979757085|\n",
    "|FGSM-eps0.1   | 0.012145748987854251|\n",
    "|FGSM-eps0.2   |  0.06882591093117409|"
   ]
  },
  {
   "cell_type": "markdown",
   "metadata": {},
   "source": [
    "# Numerical Results"
   ]
  },
  {
   "cell_type": "code",
   "execution_count": 9,
   "metadata": {},
   "outputs": [],
   "source": [
    "import numpy as np\n",
    "import numpy.polynomial.polynomial as poly\n",
    "import matplotlib.pyplot as plt"
   ]
  },
  {
   "cell_type": "code",
   "execution_count": 10,
   "metadata": {},
   "outputs": [],
   "source": [
    "graphs = [\n",
    "    {\n",
    "        'title': 'Baseline model',\n",
    "        'color': 'k',\n",
    "        'x': [0.1, 0.15, 0.2, 0.25, 0.3],\n",
    "        'y': [\n",
    "            0.011493094061901401,\n",
    "            0.030345800988002825,\n",
    "            0.07561246093356185,\n",
    "            0.19628994858352655,\n",
    "            0.39419296300030243\n",
    "        ]\n",
    "    },\n",
    "    {\n",
    "        'title': 'Undefended model',\n",
    "        'color': 'r',\n",
    "        'x': [0.01, 0.05, 0.1, 0.2],\n",
    "        'y': [\n",
    "            0.006072874493927126,\n",
    "            0.06882591093117409,\n",
    "            0.22874493927125505,\n",
    "            0.728744939271255\n",
    "        ]\n",
    "    },\n",
    "    {\n",
    "        'title': 'Vanilla Athena Task 1',\n",
    "        'color': 'g',\n",
    "        'x': [0.01, 0.05, 0.1, 0.2],\n",
    "        'y': [\n",
    "            0.0020242914979757085,\n",
    "            0.0020242914979757085,\n",
    "            0.012145748987854251,\n",
    "            0.06882591093117409\n",
    "        ]\n",
    "    },\n",
    "    {\n",
    "        'title': 'Vanilla Athena Task 2',\n",
    "        'color': 'b',\n",
    "        'x': [0.01, 0.05, 0.1, 0.2, 0.5],\n",
    "        'y': [\n",
    "            0.0020242914979757085,\n",
    "            0.004048582995951417,\n",
    "            0.010121457489878543,\n",
    "            0.058704453441295545,\n",
    "            0.8704453441295547\n",
    "        ]\n",
    "    }\n",
    "]"
   ]
  },
  {
   "cell_type": "code",
   "execution_count": 11,
   "metadata": {},
   "outputs": [
    {
     "data": {
      "image/png": "[encoded data removed]",
      "text/plain": [
       "<Figure size 432x288 with 1 Axes>"
      ]
     },
     "metadata": {
      "needs_background": "light"
     },
     "output_type": "display_data"
    }
   ],
   "source": [
    "plt.title('FGSM Error Rates')\n",
    "plt.xlabel('Epsilon')\n",
    "plt.ylabel('Error Rate')\n",
    "\n",
    "plt.xlim(0, 0.75)\n",
    "plt.ylim(0, 1)\n",
    "\n",
    "handles = []\n",
    "\n",
    "for graph in graphs:\n",
    "    x = np.array(graph['x'])\n",
    "    y = np.array(graph['y'])\n",
    "    \n",
    "    # Create a line of best fit\n",
    "    x_fit = np.linspace(min(x), max(x))\n",
    "    fitcoeff = poly.polyfit(x, y, 3)\n",
    "    fitval = poly.polyval(x_fit, fitcoeff)\n",
    "    \n",
    "    l, = plt.plot(x, y, graph['color'] + 'o', label=graph['title'])\n",
    "    plt.plot(x_fit, fitval, graph['color'] + '--')\n",
    "    \n",
    "    handles.append(l)\n",
    "\n",
    "plt.legend(handles=handles)\n",
    "plt.show()"
   ]
  },
  {
   "cell_type": "code",
   "execution_count": 12,
   "metadata": {},
   "outputs": [],
   "source": [
    "graphs = [\n",
    "    {\n",
    "        'title': 'Baseline',\n",
    "        'color': 'k',\n",
    "        'x': [0.1, 0.2],\n",
    "        'y': [\n",
    "            0.011493094061901401,\n",
    "            0.07561246093356185\n",
    "        ]\n",
    "    },\n",
    "    {\n",
    "        'title': 'Vanilla Athena Task 1',\n",
    "        'color': 'r',\n",
    "        'x': [0.01, 0.05, 0.1, 0.2],\n",
    "        'y': [\n",
    "            0.0020242914979757085,\n",
    "            0.0020242914979757085,\n",
    "            0.012145748987854251,\n",
    "            0.06882591093117409\n",
    "        ]\n",
    "    },\n",
    "    {\n",
    "        'title': 'Undefended model',\n",
    "        'color': 'g',\n",
    "        'x': [0.01, 0.05, 0.1, 0.2],\n",
    "        'y': [\n",
    "            0.006072874493927126,\n",
    "            0.06882591093117409,\n",
    "            0.22874493927125505,\n",
    "            0.728744939271255\n",
    "        ]\n",
    "    },\n",
    "    {\n",
    "        'title': 'Vanilla Athena Task 2',\n",
    "        'color': 'b',\n",
    "        'x': [0.01, 0.05, 0.1, 0.2],\n",
    "        'y': [\n",
    "            0.0020242914979757085,\n",
    "            0.004048582995951417,\n",
    "            0.010121457489878543,\n",
    "            0.058704453441295545\n",
    "        ]\n",
    "    }\n",
    "]"
   ]
  },
  {
   "cell_type": "code",
   "execution_count": 14,
   "metadata": {},
   "outputs": [
    {
     "name": "stderr",
     "output_type": "stream",
     "text": [
      "C:\\Users\\yiqia\\anaconda3\\envs\\env_name\\lib\\site-packages\\numpy\\polynomial\\polynomial.py:1350: RankWarning: The fit may be poorly conditioned\n",
      "  return pu._fit(polyvander, x, y, deg, rcond, full, w)\n"
     ]
    },
    {
     "data": {
      "image/png": "[encoded data removed]",
      "text/plain": [
       "<Figure size 432x288 with 1 Axes>"
      ]
     },
     "metadata": {
      "needs_background": "light"
     },
     "output_type": "display_data"
    }
   ],
   "source": [
    "plt.title('FGSM Error Rates')\n",
    "plt.xlabel('Epsilon')\n",
    "plt.ylabel('Error Rate')\n",
    "\n",
    "plt.xlim(0, 0.25)\n",
    "plt.ylim(0, 1)\n",
    "\n",
    "handles = []\n",
    "\n",
    "for graph in graphs:\n",
    "    x = np.array(graph['x'])\n",
    "    y = np.array(graph['y'])\n",
    "    \n",
    "    # Create a line of best fit\n",
    "    x_fit = np.linspace(min(x), max(x))\n",
    "    fitcoeff = poly.polyfit(x, y, 3)\n",
    "    fitval = poly.polyval(x_fit, fitcoeff)\n",
    "    \n",
    "    l, = plt.plot(x, y, graph['color'] + 'o', label=graph['title'])\n",
    "    plt.plot(x_fit, fitval, graph['color'] + '--')\n",
    "    \n",
    "    handles.append(l)\n",
    "\n",
    "plt.legend(handles=handles)\n",
    "plt.show()"
   ]
  },
  {
   "cell_type": "markdown",
   "metadata": {},
   "source": [
    "# Analysis\n",
    "\n",
    "The EOT enhanced FGSM seems to be fairly consistent with both the Task 1 Vanilla Athena and The Baseline at lower epsilon values.\n",
    "At an epsilon of 0.2, the EOT FGSM seems to fall behind the other values, which could indicate that the EOT is less effective at higher epsilon values."
   ]
  },
  {
   "cell_type": "markdown",
   "metadata": {},
   "source": [
    "# Project Gradient Descent\n",
    "\n",
    "The PGD attack is an iterative attack, which can be seen as a replica of FGSM -- K-FGSM(K represents the numbers of iterations). The general idea of FGSM is that one iteration is a big step while PGD does multiple iterations. Each iteration is a small step, and each iteration will disturb clip to the specified range."
   ]
  },
  {
   "cell_type": "markdown",
   "metadata": {},
   "source": [
    "# Tunable Parameters"
   ]
  },
  {
   "cell_type": "code",
   "execution_count": 7,
   "metadata": {},
   "outputs": [
    {
     "ename": "SyntaxError",
     "evalue": "invalid syntax (<ipython-input-7-b1149a31ff5b>, line 11)",
     "output_type": "error",
     "traceback": [
      "\u001b[1;36m  File \u001b[1;32m\"<ipython-input-7-b1149a31ff5b>\"\u001b[1;36m, line \u001b[1;32m11\u001b[0m\n\u001b[1;33m    },\u001b[0m\n\u001b[1;37m     ^\u001b[0m\n\u001b[1;31mSyntaxError\u001b[0m\u001b[1;31m:\u001b[0m invalid syntax\n"
     ]
    }
   ],
   "source": [
    "  \"configs0\": {\n",
    "    \"attack\": \"pgd\",\n",
    "    \"description\": \"PGD_eps0.05EOT_ON\",\n",
    "    \"eps\": 0.05,\n",
    "    \"distribution\": {\n",
    "      \"num_samples\": 500,\n",
    "      \"transformation\": \"translation\",\n",
    "      \"min_offset\": -0.2,\n",
    "      \"max_offset\": 0.2\n",
    "    }\n",
    "  },\n",
    "  \"configs1\": {\n",
    "    \"attack\": \"pgd\",\n",
    "    \"description\": \"PGD_eps0.2EOT_ON\",\n",
    "    \"eps\": 0.2,\n",
    "    \"distribution\": {\n",
    "      \"num_samples\": 500,\n",
    "      \"transformation\": \"translation\",\n",
    "      \"min_offset\": -0.2,\n",
    "      \"max_offset\": 0.2\n",
    "    }\n",
    "  },\n",
    "  \"configs2\": {\n",
    "    \"attack\": \"pgd\",\n",
    "    \"description\": \"PGD_eps0.5EOT_ON\",\n",
    "    \"eps\": 0.5,\n",
    "    \"distribution\": {\n",
    "      \"num_samples\": 500,\n",
    "      \"transformation\": \"translation\",\n",
    "      \"min_offset\": -0.2,\n",
    "      \"max_offset\": 0.2\n",
    "    }\n",
    "  },\n",
    "  \"configs3\": {\n",
    "    \"attack\": \"pgd\",\n",
    "    \"description\": \"PGD_eps0.7EOT_ON\",\n",
    "    \"eps\": 0.7,\n",
    "    \"distribution\": {\n",
    "      \"num_samples\": 500,\n",
    "      \"transformation\": \"translation\",\n",
    "      \"min_offset\": -0.2,\n",
    "      \"max_offset\": 0.2\n",
    "    }\n",
    "  },\n",
    "  \"configs4\": {\n",
    "    \"attack\": \"pgd\",\n",
    "    \"description\": \"PGD_eps0.1EOT_ON\",\n",
    "    \"eps\": 0.1,\n",
    "    \"distribution\": {\n",
    "      \"num_samples\": 500,\n",
    "      \"transformation\": \"translation\",\n",
    "      \"min_offset\": -0.2,\n",
    "      \"max_offset\": 0.2\n",
    "    }\n",
    "  }"
   ]
  },
  {
   "cell_type": "markdown",
   "metadata": {},
   "source": [
    "# Results\n",
    "\n",
    "| Parameter | Image | Image | Error Rate |\n",
    "| :---: | :---: |:---:| :---: |\n",
    "|PGD0.05 | <img src=\"../results/PGD_eps0.05EOT_ON-0.png\"> | <img src=\"../results/PGD_eps0.05EOT_ON-0.png\"> | 0.012 | \n",
    "|PGD0.1 | <img src=\"../results/PGD_eps0.1EOT_ON-0.png\"> | <img src=\"../results/PGD_eps0.1EOT_ON-1.png\"> | 0.018 |\n",
    "|PGD0.2 | <img src=\"../results/PGD_eps0.2EOT_ON-0.png\"> | <img src=\"../results/PGD_eps0.2EOT_ON-1.png\"> | 0.038 |\n",
    "|PGD0.5 | <img src=\"../results/PGD_eps0.5EOT_ON-0.png\"> | <img src=\"../results/PGD_eps0.5EOT_ON-1.png\"> | 0.754 |\n",
    "|PGD0.7 | <img src=\"../results/PGD_eps0.7EOT_ON-0.png\"> | <img src=\"../results/PGD_eps0.7EOT_ON-1.png\"> | 0.948 |"
   ]
  },
  {
   "cell_type": "markdown",
   "metadata": {},
   "source": [
    "# Evaluation Results\n",
    "\n",
    "<h3 align=\"center\">Task 1 Evaluation results are showing below</h3> \n",
    "\n",
    "| | Undefended Model | Vanilla Athena | PGD-ADT |\n",
    "|:---:| :---: | :---: | :---: | \n",
    "|PGD_eps0.05 |  0.10931174089068826 | 0.004048582995951417 | 0.010121457489878543  |\n",
    "|PGD_eps0.2 | 0.9838056680161943| 0.06477732793522267 | 0.058704453441295545 |\n",
    "| PGD_eps0.5 | 0.9878542510121457 | 0.7874493927125507 | 0.680161943319838 |\n",
    "|PGD_eps0.7 | 0.9878542510121457 | 0.8967611336032388 | 0.951417004048583 |"
   ]
  },
  {
   "cell_type": "markdown",
   "metadata": {},
   "source": [
    "<h3 align=\"center\">Task 2 Evaluation results are showing below</h3> \n",
    "\n",
    "| Vanilla Athena Model | baseline error rates |\n",
    "| :---: | :---: |\n",
    "|PGD_eps0.075| 0.008468595624558928|\n",
    "|PGD_eps0.082| 0.010081661457808247|\n",
    "|PGD_eps0.09| 0.011694727291057565|\n",
    "|PGD_eps0.1| 0.014517592499243875|\n",
    "|PGD_eps0.11| 0.019659239842726082|\n",
    "\n",
    "| Vanilla Athena Model (EOT on) | error rates |\n",
    "| :---: | :---: |\n",
    "|PGD_eps0.05 | 0.006072874493927126|\n",
    "|PGD_eps0.1 | 0.022267206477732792|\n",
    "|PGD_eps0.2 | 0.12753036437246965|\n",
    "|PGD_eps0.5 | 0.8866396761133604|\n",
    "|PGD_eps0.7 | 0.9655870445344129|"
   ]
  },
  {
   "cell_type": "markdown",
   "metadata": {},
   "source": [
    "# Analysis\n",
    "Vanilla Athena with EOT attack version is more effective compared to the given original Vanilla Athena. For "
   ]
  },
  {
   "cell_type": "markdown",
   "metadata": {},
   "source": [
    "# Contribution\n"
   ]
  },
  {
   "cell_type": "markdown",
   "metadata": {},
   "source": [
    "# Citation\n"
   ]
  }
 ],
 "metadata": {
  "kernelspec": {
   "display_name": "Python 3",
   "language": "python",
   "name": "python3"
  },
  "language_info": {
   "codemirror_mode": {
    "name": "ipython",
    "version": 3
   },
   "file_extension": ".py",
   "mimetype": "text/x-python",
   "name": "python",
   "nbconvert_exporter": "python",
   "pygments_lexer": "ipython3",
   "version": "3.7.9"
  }
 },
 "nbformat": 4,
 "nbformat_minor": 4
}
