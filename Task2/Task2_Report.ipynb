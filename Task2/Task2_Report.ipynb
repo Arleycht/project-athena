{
 "cells": [
  {
   "cell_type": "markdown",
   "metadata": {},
   "source": [
    "# Task 2 Option 1 Report\n",
    "Goal: Generate adversarial examples for the Vanilla ATHENA, using optimaztion-based white-box attack."
   ]
  },
  {
   "cell_type": "markdown",
   "metadata": {},
   "source": [
    "# Approach\n",
    "\n",
    "To generate the adverserial example, the target model is first loaded. The target model is the Vanilla Athena with 7 weak defenses loaded. The configuration for the weak defenses are: "
   ]
  },
  {
   "cell_type": "code",
   "execution_count": null,
   "metadata": {},
   "outputs": [],
   "source": [
    "    \"configs6\": {\n",
    "        \"type\": \"morph\",\n",
    "        \"subtype\": \"gradient\",\n",
    "        \"id\": 6,\n",
    "        \"description\": \"morph_gradient\",\n",
    "        \"kernel_w\": 2,\n",
    "        \"kernel_h\": 2\n",
    "    },\n",
    "     \"configs10\": {\n",
    "        \"type\": \"distort\",\n",
    "        \"subtype\": \"x\",\n",
    "        \"id\": 10,\n",
    "        \"description\": \"distort_x\",\n",
    "        \"r1\": 5.0,\n",
    "        \"r2\": 2.0,\n",
    "        \"c\": 28.0\n",
    "    },\n",
    "    \"configs11\": {\n",
    "        \"type\": \"noise\",\n",
    "        \"subtype\": \"gaussian\",\n",
    "        \"id\": 11,\n",
    "        \"description\": \"noise_gaussian\",\n",
    "        \"noise\": \"gaussian\"\n",
    "    },\n",
    "                \"configs12\": {\n",
    "        \"type\": \"noise\",\n",
    "        \"subtype\": \"s&p\",\n",
    "        \"id\": 12,\n",
    "        \"description\": \"noise_sNp\",\n",
    "        \"noise\": \"s&p\"\n",
    "    },\n",
    "    \"configs13\": {\n",
    "        \"type\": \"filter\",\n",
    "        \"subtype\": \"gaussian\",\n",
    "        \"id\": 13,\n",
    "        \"description\": \"filter_gaussian\",\n",
    "        \"sigma\": 1\n",
    "    },\n",
    "    \"configs17\": {\n",
    "        \"type\": \"geometric\",\n",
    "        \"subtype\": \"iradon\",\n",
    "        \"id\": 17,\n",
    "        \"description\": \"geo_iradon\",\n",
    "        \"ls_start\": -100.0,\n",
    "        \"ls_stop\": 128.0,\n",
    "        \"ls_num\": 28,\n",
    "        \"filter\": \"ramp\",\n",
    "        \"interpolation\": \"linear\"\n",
    "    },\n",
    "    \"configs18\": {\n",
    "        \"type\": \"segment\",\n",
    "        \"subtype\": \"gradient\",\n",
    "        \"id\": 18,\n",
    "        \"description\": \"seg_gradient\",\n",
    "        \"median_radius\": 2,\n",
    "        \"gradient_radius\": 1\n",
    "    }"
   ]
  },
  {
   "cell_type": "markdown",
   "metadata": {},
   "source": [
    "Afterwards, the adverserial examples are generated using the Fast Gradient Sign Method and the Project Gradient Descent attacks accompanied with the EOT algorithm. They are then evaluated using the model used to generate the adverserial examples. "
   ]
  },
  {
   "cell_type": "markdown",
   "metadata": {},
   "source": [
    "# Fast Gradient Sign Method\n",
    "The FGSM takes the sign of the gradient and multiplies it by an epsilon and adds the result to the image. On small values of epsilon, the image is visually similar to the human eye but its classification can be completely changed, or the confidence level of the prediction is reduced. The \"fast\" in its name comes from the fact that it does not do an iterate procedure in order to generate adverserial examples which makes it faster than many other methods."
   ]
  },
  {
   "cell_type": "markdown",
   "metadata": {},
   "source": [
    "# FGSM Parameters"
   ]
  },
  {
   "cell_type": "code",
   "execution_count": null,
   "metadata": {},
   "outputs": [],
   "source": [
    "{\n",
    "\"configs6\": {\n",
    "    \"attack\": \"fgsm\",\n",
    "    \"description\": \"FGSM_eps0.05EOT_ON\",\n",
    "    \"eps\": 0.05,\n",
    "    \"distribution\": {\n",
    "      \"num_samples\": 500,\n",
    "      \"transformation\": \"rotation\",\n",
    "      \"min_angle\": -45,\n",
    "      \"max_angle\": 45\n",
    "    }\n",
    "  },\n",
    "  \"configs7\": {\n",
    "    \"attack\": \"fgsm\",\n",
    "    \"description\": \"FGSM_eps0.1EOT_ON\",\n",
    "    \"eps\": 0.1,\n",
    "    \"distribution\": {\n",
    "      \"num_samples\": 500,\n",
    "      \"transformation\": \"rotation\",\n",
    "      \"min_angle\": -45,\n",
    "      \"max_angle\": 45\n",
    "    }\n",
    "  },\n",
    "  \"configs8\": {\n",
    "    \"attack\": \"fgsm\",\n",
    "    \"description\": \"FGSM_eps0.2EOT_ON\",\n",
    "    \"eps\": 0.2,\n",
    "    \"distribution\": {\n",
    "      \"num_samples\": 500,\n",
    "      \"transformation\": \"rotation\",\n",
    "      \"min_angle\": -45,\n",
    "      \"max_angle\": 45\n",
    "    }\n",
    "  },\n",
    "  \"configs9\": {\n",
    "    \"attack\": \"fgsm\",\n",
    "    \"description\": \"FGSM_eps0.5EOT_ON\",\n",
    "    \"eps\": 0.5,\n",
    "    \"distribution\": {\n",
    "      \"num_samples\": 500,\n",
    "      \"transformation\": \"rotation\",\n",
    "      \"min_angle\": -45,\n",
    "      \"max_angle\": 45\n",
    "    }\n",
    "  }\n",
    "}"
   ]
  },
  {
   "cell_type": "markdown",
   "metadata": {},
   "source": [
    "# Results\n",
    "\n",
    "| Parameter | Image | Image | Error Rate |\n",
    "| :---: | :---: |:---:| :---: |\n",
    "|FGSM0.01 | <img src=\"../results/FGSM_eps0.01EOT_ON-0.png\"> | <img src=\"../results/FGSM_eps0.01EOT_ON-1.png\"> | 0.01 | \n",
    "|FGSM0.05 | <img src=\"../results/FGSM_eps0.05EOT_ON-0.png\"> | <img src=\"../results/FGSM_eps0.01EOT_ON-1.png\"> | 0.008 |\n",
    "|FGSM0.1 | <img src=\"../results/FGSM_eps0.1EOT_ON-0.png\"> | <img src=\"../results/FGSM_eps0.1EOT_ON-1.png\"> | 0.022 |\n",
    "|FGSM0.2 | <img src=\"../results/FGSM_eps0.2EOT_ON-0.png\"> | <img src=\"../results/FGSM_eps0.2EOT_ON-1.png\"> | 0.05 |\n",
    "|FGSM0.5 | <img src=\"../results/FGSM_eps0.5EOT_ON-0.png\"> | <img src=\"../results/FGSM_eps0.5EOT_ON-1.png\"> | 0.828 |\n"
   ]
  },
  {
   "cell_type": "markdown",
   "metadata": {},
   "source": [
    "# Evaluations results\n",
    "\n",
    "<h3 align=\"center\">Task 1 Evaluation results are showing below</h3> \n",
    "\n",
    "|| Undefended Model | Vanilla Athena | PGD-ADT |\n",
    "| :--- | :--- | :--- | :--- |\n",
    "|FGSM-eps0.01 |  0.006072874493927126 | 0.0020242914979757085 | 0.004048582995951417  |\n",
    "|FGSM-eps0.05 |  0.06882591093117409 | 0.0020242914979757085 | 0.010121457489878543  |\n",
    "|FGSM-eps0.1 |  0.22874493927125505 | 0.012145748987854251 | 0.02631578947368421  |\n",
    "|FGSM-eps0.2 |  0.728744939271255 | 0.06882591093117409 | 0.05668016194331984  |\n",
    "\n",
    "\n",
    "<h3 align=\"center\">Task 2 Evaluation results are showing below</h3> \n",
    "\n",
    "| Vanilla Athena model |      Baseline   Error Rate|\n",
    "|:---:|:---:|\n",
    "|FGSM_eps0.1   |   0.011493094061901401 |\n",
    "|FGSM_eps0.15  |  0.030345800988002825|\n",
    "|FGSM_eps0.2   | 0.07561246093356185|\n",
    "|FGSM_eps0.25  | 0.19628994858352655|\n",
    "|FGSM_eps0.3   |  0.39419296300030243|\n",
    "\n",
    "\n",
    "|Vanilla Athena model (EOT on)| Error Rate| \n",
    "|:---:|:---:|\n",
    "|FGSM_eps0.01 |   0.0020242914979757085|\n",
    "|FGSM_eps0.05 |  0.004048582995951417|\n",
    "|FGSM_eps0.1  |   0.010121457489878543|\n",
    "|FGSM_eps0.2  |   0.058704453441295545|\n",
    "|FGSM_eps0.5  |   0.8704453441295547|"
   ]
  },
  {
   "cell_type": "markdown",
   "metadata": {},
   "source": [
    "# FGSM Evaluation Analysis"
   ]
  },
  {
   "cell_type": "code",
   "execution_count": 7,
   "metadata": {},
   "outputs": [],
   "source": [
    "import numpy as np\n",
    "import numpy.polynomial.polynomial as poly\n",
    "import matplotlib.pyplot as plt"
   ]
  },
  {
   "cell_type": "code",
   "execution_count": 8,
   "metadata": {
    "scrolled": true
   },
   "outputs": [],
   "source": [
    "def plotgraphs(graphs):\n",
    "    handles = []\n",
    "\n",
    "    for graph in graphs:\n",
    "        x = np.array(graph['x'])\n",
    "        y = np.array(graph['y'])\n",
    "\n",
    "        l, = plt.plot(x, y, graph['color'] + 'o', label=graph['title'])\n",
    "        plt.plot(x, y, graph['color'], label=graph['title'])\n",
    "\n",
    "        handles.append(l)\n",
    "\n",
    "    plt.legend(handles=handles)\n",
    "    plt.show()"
   ]
  },
  {
   "cell_type": "code",
   "execution_count": 14,
   "metadata": {},
   "outputs": [
    {
     "data": {
      "image/png": "[encoded data removed]",
      "text/plain": [
       "<Figure size 600x400 with 1 Axes>"
      ]
     },
     "metadata": {
      "needs_background": "light"
     },
     "output_type": "display_data"
    }
   ],
   "source": [
    "graphs = [\n",
    "    {\n",
    "        'title': 'Baseline',\n",
    "        'color': 'k',\n",
    "        'x': [0.1, 0.15, 0.2, 0.25, 0.3],\n",
    "        'y': [0.011493094061901401, 0.030345800988002825, 0.07561246093356185, 0.19628994858352655, 0.39419296300030243]\n",
    "    },\n",
    "    {\n",
    "        'title': 'Vanilla Athena Task 1',\n",
    "        'color': 'r',\n",
    "        'x': [0.01, 0.05, 0.1, 0.2],\n",
    "        'y': [0.0020242914979757085, 0.0020242914979757085, 0.012145748987854251, 0.06882591093117409]\n",
    "    },\n",
    "    {\n",
    "        'title': 'Undefended model',\n",
    "        'color': 'g',\n",
    "        'x': [0.01, 0.05, 0.1, 0.2],\n",
    "        'y': [0.006072874493927126, 0.06882591093117409, 0.22874493927125505, 0.728744939271255]\n",
    "    },\n",
    "    {\n",
    "        'title': 'Vanilla Athena Task 2',\n",
    "        'color': 'b',\n",
    "        'x': [0.01, 0.05, 0.1, 0.2, 0.5],\n",
    "        'y': [0.0020242914979757085, 0.004048582995951417, 0.010121457489878543, 0.058704453441295545,0.8704453441295547]\n",
    "    }\n",
    "]\n",
    "\n",
    "fig = plt.figure(dpi=100)\n",
    "plt.title('FGSM Error Rates')\n",
    "plt.xlabel('Epsilon')\n",
    "plt.ylabel('Error Rate')\n",
    "\n",
    "plt.xlim(0, 1)\n",
    "plt.ylim(0, 1)\n",
    "\n",
    "plotgraphs(graphs)"
   ]
  },
  {
   "cell_type": "markdown",
   "metadata": {},
   "source": [
    "In the above graph, the green line represents the task 1 adversarial examples that were evaluated on the undefended model. The red line represents the task 1 adversarial examples in the context of a zero-knowledge threat model evaluated on the Vanilla Athena model with 3 WDs pooled. The black line represents the baseline adversarial examples given to us evaluated on the Vanilla Athena model used in task 2. The blue line represents the adversarial examples generated in task 2 evaluated on task 2's target model.\n",
    "\n",
    "As can be seen in the graph, the adversarial examples in the context of a zero-knowledge threat model evaluated on the undefended model gets affected the most by the increase of the epsilon using the FGSM attack. This suggests that leaving a model makes it very vulnerable to adversarial attacks. Despite being generated in the context of a zero-knowledge threat model, the baseline AEs follow almost the same trajectory as the task 2 AEs that were generated. This can be attributed to the fact that accomponying FGSM with the EOT algorithm makes it efficacy at keeping AEs adverserial higher. "
   ]
  },
  {
   "cell_type": "markdown",
   "metadata": {},
   "source": [
    "# Project Gradient Descent\n",
    "\n",
    "The PGD attack is an iterative attack, which can be seen as a replica of FGSM -- K-FGSM(K represents the numbers of iterations). The general idea of FGSM is that one iteration is a big step while PGD does multiple iterations. Each iteration is a small step, and each iteration will disturb clip to the specified range."
   ]
  },
  {
   "cell_type": "markdown",
   "metadata": {},
   "source": [
    "# Experimental Settings"
   ]
  },
  {
   "cell_type": "code",
   "execution_count": null,
   "metadata": {},
   "outputs": [],
   "source": [
    "{\n",
    "\"configs0\": {\n",
    "    \"attack\": \"pgd\",\n",
    "    \"description\": \"PGD_eps0.05EOT_ON\",\n",
    "    \"eps\": 0.05,\n",
    "    \"distribution\": {\n",
    "      \"num_samples\": 500,\n",
    "      \"transformation\": \"translation\",\n",
    "      \"min_offset\": -0.2,\n",
    "      \"max_offset\": 0.2\n",
    "    }\n",
    "  },\n",
    "  \"configs1\": {\n",
    "    \"attack\": \"pgd\",\n",
    "    \"description\": \"PGD_eps0.2EOT_ON\",\n",
    "    \"eps\": 0.2,\n",
    "    \"distribution\": {\n",
    "      \"num_samples\": 500,\n",
    "      \"transformation\": \"translation\",\n",
    "      \"min_offset\": -0.2,\n",
    "      \"max_offset\": 0.2\n",
    "    }\n",
    "  },\n",
    "  \"configs2\": {\n",
    "    \"attack\": \"pgd\",\n",
    "    \"description\": \"PGD_eps0.5EOT_ON\",\n",
    "    \"eps\": 0.5,\n",
    "    \"distribution\": {\n",
    "      \"num_samples\": 500,\n",
    "      \"transformation\": \"translation\",\n",
    "      \"min_offset\": -0.2,\n",
    "      \"max_offset\": 0.2\n",
    "    }\n",
    "  },\n",
    "  \"configs3\": {\n",
    "    \"attack\": \"pgd\",\n",
    "    \"description\": \"PGD_eps0.7EOT_ON\",\n",
    "    \"eps\": 0.7,\n",
    "    \"distribution\": {\n",
    "      \"num_samples\": 500,\n",
    "      \"transformation\": \"translation\",\n",
    "      \"min_offset\": -0.2,\n",
    "      \"max_offset\": 0.2\n",
    "    }\n",
    "  },\n",
    "  \"configs4\": {\n",
    "    \"attack\": \"pgd\",\n",
    "    \"description\": \"PGD_eps0.1EOT_ON\",\n",
    "    \"eps\": 0.1,\n",
    "    \"distribution\": {\n",
    "      \"num_samples\": 500,\n",
    "      \"transformation\": \"translation\",\n",
    "      \"min_offset\": -0.2,\n",
    "      \"max_offset\": 0.2\n",
    "    }\n",
    "  }\n",
    "}"
   ]
  },
  {
   "cell_type": "markdown",
   "metadata": {},
   "source": [
    "# Results\n",
    "\n",
    "| Parameter | Image | Image | Error Rate |\n",
    "| :---: | :---: |:---:| :---: |\n",
    "|PGD0.05 | <img src=\"../results/PGD_eps0.05EOT_ON-0.png\"> | <img src=\"../results/PGD_eps0.05EOT_ON-0.png\"> | 0.012 | \n",
    "|PGD0.1 | <img src=\"../results/PGD_eps0.1EOT_ON-0.png\"> | <img src=\"../results/PGD_eps0.1EOT_ON-1.png\"> | 0.018 |\n",
    "|PGD0.2 | <img src=\"../results/PGD_eps0.2EOT_ON-0.png\"> | <img src=\"../results/PGD_eps0.2EOT_ON-1.png\"> | 0.038 |\n",
    "|PGD0.5 | <img src=\"../results/PGD_eps0.5EOT_ON-0.png\"> | <img src=\"../results/PGD_eps0.5EOT_ON-1.png\"> | 0.754 |\n",
    "|PGD0.7 | <img src=\"../results/PGD_eps0.7EOT_ON-0.png\"> | <img src=\"../results/PGD_eps0.7EOT_ON-1.png\"> | 0.948 |"
   ]
  },
  {
   "cell_type": "markdown",
   "metadata": {},
   "source": [
    "# Evaluation Results\n",
    "\n",
    "<h3 align=\"center\">Task 1 Evaluation results are showing below</h3> \n",
    "\n",
    "| | Undefended Model | Vanilla Athena | PGD-ADT |\n",
    "|:---:| :---: | :---: | :---: | \n",
    "|PGD_eps0.05 |  0.10931174089068826 | 0.004048582995951417 | 0.010121457489878543  |\n",
    "|PGD_eps0.2 | 0.9838056680161943| 0.06477732793522267 | 0.058704453441295545 |\n",
    "| PGD_eps0.5 | 0.9878542510121457 | 0.7874493927125507 | 0.680161943319838 |\n",
    "|PGD_eps0.7 | 0.9878542510121457 | 0.8967611336032388 | 0.951417004048583 |"
   ]
  },
  {
   "cell_type": "markdown",
   "metadata": {},
   "source": [
    "<h3 align=\"center\">Task 2 Evaluation results are showing below</h3> \n",
    "\n",
    "| Vanilla Athena Model | baseline error rates |\n",
    "| :---: | :---: |\n",
    "|PGD_eps0.075| 0.008468595624558928|\n",
    "|PGD_eps0.082| 0.010081661457808247|\n",
    "|PGD_eps0.09| 0.011694727291057565|\n",
    "|PGD_eps0.1| 0.014517592499243875|\n",
    "|PGD_eps0.11| 0.019659239842726082|\n",
    "\n",
    "| Vanilla Athena Model (EOT on) | error rates |\n",
    "| :---: | :---: |\n",
    "|PGD_eps0.05 | 0.006072874493927126|\n",
    "|PGD_eps0.1 | 0.022267206477732792|\n",
    "|PGD_eps0.2 | 0.12753036437246965|\n",
    "|PGD_eps0.5 | 0.8866396761133604|\n",
    "|PGD_eps0.7 | 0.9655870445344129|"
   ]
  },
  {
   "cell_type": "markdown",
   "metadata": {},
   "source": [
    "# PGD Evaluation"
   ]
  },
  {
   "cell_type": "code",
   "execution_count": 15,
   "metadata": {},
   "outputs": [
    {
     "data": {
      "image/png": "[encoded data removed]",
      "text/plain": [
       "<Figure size 600x400 with 1 Axes>"
      ]
     },
     "metadata": {
      "needs_background": "light"
     },
     "output_type": "display_data"
    }
   ],
   "source": [
    "graphs = [\n",
    "    {\n",
    "        'title': 'Baseline',\n",
    "        'color': 'k',\n",
    "        'x': [0.075, 0.082,0.09,0.1,0.11],\n",
    "        'y': [0.008468595624558928, 0.010081661457808247, 0.011694727291057565,0.014517592499243875,0.019659239842726082]\n",
    "    },\n",
    "    {\n",
    "        'title': 'Vanilla Athena Task 1',\n",
    "        'color': 'r',\n",
    "        'x': [0.05, 0.2, 0.5, 0.7],\n",
    "        'y': [0.004048582995951417, 0.06477732793522267 , 0.7874493927125507, 0.8967611336032388]\n",
    "    },\n",
    "    {\n",
    "        'title': 'Undefended model',\n",
    "        'color': 'g',\n",
    "        'x': [0.05, 0.2, 0.5, 0.7],\n",
    "        'y': [0.10931174089068826, 0.9838056680161943, 0.9878542510121457,0.9878542510121457]\n",
    "    },\n",
    "    {\n",
    "        'title': 'Vanilla Athena Task 2',\n",
    "        'color': 'b',\n",
    "        'x': [0.05, 0.1, 0.2, 0.5, 0.7],\n",
    "        'y': [0.006072874493927126, 0.022267206477732792, 0.12753036437246965, 0.8866396761133604, 0.9655870445344129]\n",
    "    }\n",
    "]\n",
    "\n",
    "fig = plt.figure(dpi=100)\n",
    "plt.title('FGSM Error Rates')\n",
    "plt.xlabel('Epsilon')\n",
    "plt.ylabel('Error Rate')\n",
    "\n",
    "plt.xlim(0, 1)\n",
    "plt.ylim(0, 1)\n",
    "\n",
    "plotgraphs(graphs)"
   ]
  },
  {
   "cell_type": "markdown",
   "metadata": {},
   "source": [
    "# Analysis\n",
    "\n",
    "The information in the graph above is similar to the previous graph except it represents PGD error rates in relation to the error rate.\n",
    "\n",
    "As per expectations, the undefended model is very vulnerable to adversarial attacks. The higher error rate is attributed to the EOT algorithm implemented alongside the PGD attach, which shows  how the algorithm increases the effectiveness of the AEs that are generated."
   ]
  },
  {
   "cell_type": "markdown",
   "metadata": {},
   "source": [
    "# Contribution\n",
    "\n",
    "Landin Thorsted: Co-authored the report. Evaluated the baseline AEs. Coded the baseline AE evaluation.\n",
    "\n",
    "Alex Tsai: Generated the adverserial examples. Provided the code for graphing the evaluation results.\n",
    "\n",
    "Nick Bautista: Wrote the code for the Task2 notebook which has all the things needed to generate and evaluate AEs in the context of the white-box threat model. Co-authored the report. \n",
    "\n",
    "Sun Yiqian: Wrote the backbone of the report. Provided input on the configuration to be used for the experiment. Co-authored the report. "
   ]
  },
  {
   "cell_type": "markdown",
   "metadata": {},
   "source": [
    "# Citation\n",
    "“Adversarial Example Using FGSM\" *TensorFlow*, www.tensorflow.org/tutorials/generative/adversarial_fgsm. \n",
    "\n",
    "StatQuest with Josh Starmer. \"Gradient Descent, Step-by-Step\"*YouTube* video, Feb 5, 2019.\n",
    "https://www.youtube.com/watch?v=sDv4f4s2SB8&ab_channel=StatQuestwithJoshStarmer\n",
    " \n",
    "Anish Athalye, Logan Engstrom,Andrew Ilyas, Kevin Kwok.\"Synthesizing Robust Adversarial Examples\". June, 7, 2018.\n",
    "https://arxiv.org/pdf/1707.07397.pdf.\n",
    "\n",
    "Synthesizing robust adversarial examples(2018) prabhant.[Source Code]\n",
    "https://github.com/prabhant/synthesizing-robust-adversarial-examples.\n",
    "\n",
    "\n"
   ]
  }
 ],
 "metadata": {
  "kernelspec": {
   "display_name": "Python 3",
   "language": "python",
   "name": "python3"
  },
  "language_info": {
   "codemirror_mode": {
    "name": "ipython",
    "version": 3
   },
   "file_extension": ".py",
   "mimetype": "text/x-python",
   "name": "python",
   "nbconvert_exporter": "python",
   "pygments_lexer": "ipython3",
   "version": "3.7.9"
  }
 },
 "nbformat": 4,
 "nbformat_minor": 4
}
